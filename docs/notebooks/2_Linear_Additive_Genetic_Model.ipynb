{
 "cells": [
  {
   "cell_type": "markdown",
   "metadata": {},
   "source": [
    "<ul class=\"breadcrumb\">\n",
    "  <li><a href=\"1_Conventional_Linear_Mixed_Model.ipynb\">Bayesian Linear Mixed Models (Conventional)</a></li>\n",
    "  <li><a href=\"2_Linear_Additive_Genetic_Model.ipynb\">Bayesian Linear Additive Genetic Model</a></li> \n",
    "  <li><a href=\"3_Genomic_Linear_Mixed_Model.ipynb\">Bayesian Linear Mixed Models (Genomic Data)</a></li>\n",
    "</ul>"
   ]
  },
  {
   "cell_type": "markdown",
   "metadata": {},
   "source": [
    "<div class=\"span5 alert alert-success\">\n",
    " <font size=\"5\" face=\"Georgia\">Bayesian Linear Additive Genetic Model</font> \n",
    "</div>"
   ]
  },
  {
   "cell_type": "markdown",
   "metadata": {},
   "source": [
    "<button type=\"button\" class=\"btn btn-lg btn-primary\">Step 1: Load Packages</button> "
   ]
  },
  {
   "cell_type": "code",
   "execution_count": 25,
   "metadata": {},
   "outputs": [],
   "source": [
    "using JWAS,JWAS.Datasets,DataFrames,CSV"
   ]
  },
  {
   "cell_type": "markdown",
   "metadata": {},
   "source": [
    "<button type=\"button\" class=\"btn btn-lg btn-primary\">Step 2: Read data</button> "
   ]
  },
  {
   "cell_type": "code",
   "execution_count": 26,
   "metadata": {},
   "outputs": [
    {
     "name": "stdout",
     "output_type": "stream",
     "text": [
      "\u001b[32mThe delimiter in pedigree.txt is ','.\u001b[39m\n",
      "Finished!\n"
     ]
    }
   ],
   "source": [
    "phenofile  = Datasets.dataset(\"example\",\"phenotypes.txt\")\n",
    "pedfile    = Datasets.dataset(\"example\",\"pedigree.txt\")\n",
    "\n",
    "phenotypes = CSV.read(phenofile,delim = ',',header=true,missingstrings=[\"NA\"])\n",
    "pedigree   = get_pedigree(pedfile,separator=\",\",header=true);"
   ]
  },
  {
   "cell_type": "code",
   "execution_count": 27,
   "metadata": {},
   "outputs": [
    {
     "data": {
      "text/html": [
       "<table class=\"data-frame\"><thead><tr><th></th><th>ID</th><th>y1</th><th>y2</th><th>y3</th><th>x1</th><th>x2</th><th>x3</th><th>dam</th></tr><tr><th></th><th>String</th><th>Float64⍰</th><th>Float64⍰</th><th>Float64⍰</th><th>Float64</th><th>Float64</th><th>String</th><th>String</th></tr></thead><tbody><p>5 rows × 8 columns</p><tr><th>1</th><td>a1</td><td>-0.06</td><td>3.58</td><td>-1.18</td><td>0.9</td><td>2.0</td><td>m</td><td>0</td></tr><tr><th>2</th><td>a3</td><td>-2.07</td><td>3.19</td><td>missing</td><td>0.7</td><td>2.0</td><td>f</td><td>0</td></tr><tr><th>3</th><td>a4</td><td>-2.63</td><td>6.97</td><td>-0.83</td><td>0.6</td><td>1.0</td><td>m</td><td>a2</td></tr><tr><th>4</th><td>a5</td><td>2.31</td><td>missing</td><td>-1.52</td><td>0.4</td><td>2.0</td><td>m</td><td>a2</td></tr><tr><th>5</th><td>a6</td><td>0.93</td><td>4.87</td><td>-0.01</td><td>5.0</td><td>2.0</td><td>f</td><td>a3</td></tr></tbody></table>"
      ],
      "text/latex": [
       "\\begin{tabular}{r|cccccccc}\n",
       "\t& ID & y1 & y2 & y3 & x1 & x2 & x3 & dam\\\\\n",
       "\t\\hline\n",
       "\t& String & Float64⍰ & Float64⍰ & Float64⍰ & Float64 & Float64 & String & String\\\\\n",
       "\t\\hline\n",
       "\t1 & a1 & -0.06 & 3.58 & -1.18 & 0.9 & 2.0 & m & 0 \\\\\n",
       "\t2 & a3 & -2.07 & 3.19 &  & 0.7 & 2.0 & f & 0 \\\\\n",
       "\t3 & a4 & -2.63 & 6.97 & -0.83 & 0.6 & 1.0 & m & a2 \\\\\n",
       "\t4 & a5 & 2.31 &  & -1.52 & 0.4 & 2.0 & m & a2 \\\\\n",
       "\t5 & a6 & 0.93 & 4.87 & -0.01 & 5.0 & 2.0 & f & a3 \\\\\n",
       "\\end{tabular}\n"
      ],
      "text/plain": [
       "5×8 DataFrame. Omitted printing of 1 columns\n",
       "│ Row │ ID     │ y1       │ y2       │ y3       │ x1      │ x2      │ x3     │\n",
       "│     │ \u001b[90mString\u001b[39m │ \u001b[90mFloat64⍰\u001b[39m │ \u001b[90mFloat64⍰\u001b[39m │ \u001b[90mFloat64⍰\u001b[39m │ \u001b[90mFloat64\u001b[39m │ \u001b[90mFloat64\u001b[39m │ \u001b[90mString\u001b[39m │\n",
       "├─────┼────────┼──────────┼──────────┼──────────┼─────────┼─────────┼────────┤\n",
       "│ 1   │ a1     │ -0.06    │ 3.58     │ -1.18    │ 0.9     │ 2.0     │ m      │\n",
       "│ 2   │ a3     │ -2.07    │ 3.19     │ \u001b[90mmissing\u001b[39m  │ 0.7     │ 2.0     │ f      │\n",
       "│ 3   │ a4     │ -2.63    │ 6.97     │ -0.83    │ 0.6     │ 1.0     │ m      │\n",
       "│ 4   │ a5     │ 2.31     │ \u001b[90mmissing\u001b[39m  │ -1.52    │ 0.4     │ 2.0     │ m      │\n",
       "│ 5   │ a6     │ 0.93     │ 4.87     │ -0.01    │ 5.0     │ 2.0     │ f      │"
      ]
     },
     "execution_count": 27,
     "metadata": {},
     "output_type": "execute_result"
    }
   ],
   "source": [
    "first(phenotypes,5)"
   ]
  },
  {
   "cell_type": "markdown",
   "metadata": {},
   "source": [
    "<div class=\"span5 alert alert-success\">\n",
    " <font size=\"5\" face=\"Georgia\">Univariate Linear Additive Genetic Model</font> \n",
    "</div>"
   ]
  },
  {
   "cell_type": "markdown",
   "metadata": {},
   "source": [
    "<button type=\"button\" class=\"btn btn-lg btn-primary\">Step 3: Build Model Equations</button> "
   ]
  },
  {
   "cell_type": "code",
   "execution_count": 28,
   "metadata": {},
   "outputs": [],
   "source": [
    "model_equation1  =\"y1 = intercept + x1*x3 + x2 + x3 + ID + dam\";"
   ]
  },
  {
   "cell_type": "code",
   "execution_count": 29,
   "metadata": {},
   "outputs": [],
   "source": [
    "R      = 1.0\n",
    "model1 = build_model(model_equation1,R);"
   ]
  },
  {
   "cell_type": "markdown",
   "metadata": {},
   "source": [
    "<button type=\"button\" class=\"btn btn-lg btn-primary\">Step 4: Set Factors or Covariates</button> "
   ]
  },
  {
   "cell_type": "code",
   "execution_count": 30,
   "metadata": {},
   "outputs": [],
   "source": [
    "set_covariate(model1,\"x1\");"
   ]
  },
  {
   "cell_type": "markdown",
   "metadata": {},
   "source": [
    "<button type=\"button\" class=\"btn btn-lg btn-primary\">Step 5: Set Random or Fixed Effects</button> "
   ]
  },
  {
   "cell_type": "code",
   "execution_count": 31,
   "metadata": {},
   "outputs": [],
   "source": [
    "G1 = 1.0\n",
    "G2 = [1.0 0.5\n",
    "      0.5 1.0]\n",
    "set_random(model1,\"x2\",G1);\n",
    "set_random(model1,\"ID dam\",pedigree,G2);"
   ]
  },
  {
   "cell_type": "markdown",
   "metadata": {},
   "source": [
    "<button type=\"button\" class=\"btn btn-lg btn-primary\">Step 6:Run Analysis</button> "
   ]
  },
  {
   "cell_type": "code",
   "execution_count": 32,
   "metadata": {},
   "outputs": [
    {
     "name": "stdout",
     "output_type": "stream",
     "text": [
      "\u001b[32mChecking phenotypes...\u001b[39m\n",
      "\u001b[32mIndividual IDs (strings) are provided in the first column of the phenotypic data.\u001b[39m\n",
      "\u001b[31mPhenotypes for all traits included in the model for individual a7 in the row 6 are missing. This record is deleted\u001b[39m\n",
      "\n",
      "\u001b[0m\u001b[1mA Linear Mixed Model was build using model equations:\u001b[22m\n",
      "\n",
      "y1 = intercept + x1*x3 + x2 + x3 + ID + dam\n",
      "\n",
      "\u001b[0m\u001b[1mModel Information:\u001b[22m\n",
      "\n",
      "Term            C/F          F/R            nLevels\n",
      "intercept       factor       fixed                1\n",
      "x1*x3           interaction  fixed                2\n",
      "x2              factor       random               2\n",
      "x3              factor       fixed                2\n",
      "ID              factor       random              12\n",
      "dam             factor       random              12\n",
      "\n",
      "\u001b[0m\u001b[1mMCMC Information:\u001b[22m\n",
      "\n",
      "methods                   conventional (no markers)\n",
      "chain_length                                   5000\n",
      "burnin                                            0\n",
      "estimateScale                                 false\n",
      "starting_value                                false\n",
      "printout_frequency                             5001\n",
      "output_samples_frequency                        100\n",
      "constraint                                    false\n",
      "missing_phenotypes                             true\n",
      "update_priors_frequency                           0\n",
      "seed                                          false\n",
      "\n",
      "\u001b[0m\u001b[1mHyper-parameters Information:\u001b[22m\n",
      "\n",
      "random effect variances (x2):                 [1.0]\n",
      "residual variances:                           1.000\n",
      "genetic variances (polygenic):\n",
      "                                 [1.0 0.5; 0.5 1.0]\n",
      "\n",
      "\u001b[0m\u001b[1mDegree of freedom for hyper-parameters:\u001b[22m\n",
      "\n",
      "residual variances:                           4.000\n",
      "iid random effect variances:                  5.000\n",
      "polygenic effect variances:                   6.000\n",
      "\n",
      "\n",
      "\n",
      "\u001b[31mThe file MCMC_samples_residual_variance.txt already exists!!! It is overwritten by the new output.\u001b[39m\n",
      "\u001b[31mThe file MCMC_samples_polygenic_effects_variance.txt already exists!!! It is overwritten by the new output.\u001b[39m\n",
      "\u001b[31mThe file MCMC_samples_x2_variances.txt already exists!!! It is overwritten by the new output.\u001b[39m\n",
      "\u001b[31mThe file MCMC_samples_EBV_y1.txt already exists!!! It is overwritten by the new output.\u001b[39m\n",
      "\u001b[31mThe file MCMC_samples_genetic_variance.txt already exists!!! It is overwritten by the new output.\u001b[39m\n",
      "\u001b[31mThe file MCMC_samples_heritability.txt already exists!!! It is overwritten by the new output.\u001b[39m\n"
     ]
    },
    {
     "name": "stderr",
     "output_type": "stream",
     "text": [
      "\u001b[32mrunning MCMC for conventional (no markers)...100%|██████| Time: 0:00:00\u001b[39m\n"
     ]
    },
    {
     "name": "stdout",
     "output_type": "stream",
     "text": [
      "\n",
      "\n",
      "\u001b[0m\u001b[1mThe version of Julia and Platform in use:\u001b[22m\n",
      "\n",
      "Julia Version 1.2.0\n",
      "Commit c6da87ff4b (2019-08-20 00:03 UTC)\n",
      "Platform Info:\n",
      "  OS: macOS (x86_64-apple-darwin18.6.0)\n",
      "  CPU: Intel(R) Core(TM) i7-8559U CPU @ 2.70GHz\n",
      "  WORD_SIZE: 64\n",
      "  LIBM: libopenlibm\n",
      "  LLVM: libLLVM-6.0.1 (ORCJIT, skylake)\n",
      "\n",
      "\n",
      "\u001b[0m\u001b[1mThe analysis has finished. Results are saved in the returned \u001b[22m\u001b[0m\u001b[1mvariable and text files. MCMC samples are saved in text files.\u001b[22m\n",
      "\n",
      "\n"
     ]
    }
   ],
   "source": [
    "out1=runMCMC(model1,phenotypes,chain_length=5000,output_samples_frequency=100);"
   ]
  },
  {
   "cell_type": "markdown",
   "metadata": {},
   "source": [
    "<button type=\"button\" class=\"btn btn-lg btn-primary\">Check Results</button> "
   ]
  },
  {
   "cell_type": "code",
   "execution_count": 33,
   "metadata": {},
   "outputs": [
    {
     "data": {
      "text/plain": [
       "Base.KeySet for a Dict{Any,Any} with 6 entries. Keys:\n",
       "  \"EBV_y1\"\n",
       "  \"heritability\"\n",
       "  \"location parameters\"\n",
       "  \"residual variance\"\n",
       "  \"polygenic effects covariance matrix\"\n",
       "  \"genetic_variance\""
      ]
     },
     "execution_count": 33,
     "metadata": {},
     "output_type": "execute_result"
    }
   ],
   "source": [
    "keys(out1)"
   ]
  },
  {
   "cell_type": "code",
   "execution_count": 34,
   "metadata": {},
   "outputs": [
    {
     "data": {
      "text/html": [
       "<table class=\"data-frame\"><thead><tr><th></th><th>Covariance</th><th>Estimate</th><th>Std_Error</th></tr><tr><th></th><th>Any</th><th>Any</th><th>Any</th></tr></thead><tbody><p>4 rows × 3 columns</p><tr><th>1</th><td>y1:ID_y1:ID</td><td>3.0265</td><td>4.42612</td></tr><tr><th>2</th><td>y1:ID_y1:dam</td><td>1.68589</td><td>2.69372</td></tr><tr><th>3</th><td>y1:dam_y1:ID</td><td>1.68589</td><td>2.69372</td></tr><tr><th>4</th><td>y1:dam_y1:dam</td><td>2.63614</td><td>3.64146</td></tr></tbody></table>"
      ],
      "text/latex": [
       "\\begin{tabular}{r|ccc}\n",
       "\t& Covariance & Estimate & Std\\_Error\\\\\n",
       "\t\\hline\n",
       "\t& Any & Any & Any\\\\\n",
       "\t\\hline\n",
       "\t1 & y1:ID\\_y1:ID & 3.0265 & 4.42612 \\\\\n",
       "\t2 & y1:ID\\_y1:dam & 1.68589 & 2.69372 \\\\\n",
       "\t3 & y1:dam\\_y1:ID & 1.68589 & 2.69372 \\\\\n",
       "\t4 & y1:dam\\_y1:dam & 2.63614 & 3.64146 \\\\\n",
       "\\end{tabular}\n"
      ],
      "text/plain": [
       "4×3 DataFrame\n",
       "│ Row │ Covariance    │ Estimate │ Std_Error │\n",
       "│     │ \u001b[90mAny\u001b[39m           │ \u001b[90mAny\u001b[39m      │ \u001b[90mAny\u001b[39m       │\n",
       "├─────┼───────────────┼──────────┼───────────┤\n",
       "│ 1   │ y1:ID_y1:ID   │ 3.0265   │ 4.42612   │\n",
       "│ 2   │ y1:ID_y1:dam  │ 1.68589  │ 2.69372   │\n",
       "│ 3   │ y1:dam_y1:ID  │ 1.68589  │ 2.69372   │\n",
       "│ 4   │ y1:dam_y1:dam │ 2.63614  │ 3.64146   │"
      ]
     },
     "execution_count": 34,
     "metadata": {},
     "output_type": "execute_result"
    }
   ],
   "source": [
    "out1[\"polygenic effects covariance matrix\"]"
   ]
  },
  {
   "cell_type": "markdown",
   "metadata": {},
   "source": [
    "<div class=\"span5 alert alert-success\">\n",
    " <font size=\"5\" face=\"Georgia\">Multivariate Linear Additive Genetic Model</font> \n",
    "</div>"
   ]
  },
  {
   "cell_type": "markdown",
   "metadata": {},
   "source": [
    "<button type=\"button\" class=\"btn btn-lg btn-primary\">Step 3: Build Model Equations</button> "
   ]
  },
  {
   "cell_type": "code",
   "execution_count": 35,
   "metadata": {},
   "outputs": [],
   "source": [
    "model_equation2 =\"y1 = intercept + x1 + x3 + ID + dam\n",
    "                  y2 = intercept + x1 + x2 + x3 + ID\n",
    "                  y3 = intercept + x1 + x1*x3 + x2 + ID\";"
   ]
  },
  {
   "cell_type": "code",
   "execution_count": 36,
   "metadata": {},
   "outputs": [],
   "source": [
    "R      = [1.0 0.5 0.5\n",
    "          0.5 1.0 0.5\n",
    "          0.5 0.5 1.0]\n",
    "model2 = build_model(model_equation2,R);"
   ]
  },
  {
   "cell_type": "markdown",
   "metadata": {},
   "source": [
    "<button type=\"button\" class=\"btn btn-lg btn-primary\">Step 4: Set Factors or Covariates</button> "
   ]
  },
  {
   "cell_type": "code",
   "execution_count": 37,
   "metadata": {},
   "outputs": [],
   "source": [
    "set_covariate(model2,\"x1\");"
   ]
  },
  {
   "cell_type": "markdown",
   "metadata": {},
   "source": [
    "<button type=\"button\" class=\"btn btn-lg btn-primary\">Step 5: Set Random or Fixed Effects</button> "
   ]
  },
  {
   "cell_type": "code",
   "execution_count": 38,
   "metadata": {},
   "outputs": [
    {
     "name": "stdout",
     "output_type": "stream",
     "text": [
      "\u001b[32mx2 is not found in model equation 1.\u001b[39m\n",
      "\u001b[32mdam is not found in model equation 2.\u001b[39m\n",
      "\u001b[32mdam is not found in model equation 3.\u001b[39m\n"
     ]
    }
   ],
   "source": [
    "G1 = [1.0 0.5\n",
    "      0.5 1.0]\n",
    "G2 = [1.0 0.5 0.5 0.5\n",
    "      0.5 1.0 0.5 0.5\n",
    "      0.5 0.5 1.0 0.5\n",
    "      0.5 0.5 0.5 1.0]\n",
    "set_random(model2,\"x2\",G1);\n",
    "set_random(model2,\"ID dam\",pedigree,G2);"
   ]
  },
  {
   "cell_type": "markdown",
   "metadata": {},
   "source": [
    "<button type=\"button\" class=\"btn btn-lg btn-primary\">Step 6: Run Analysis</button> "
   ]
  },
  {
   "cell_type": "code",
   "execution_count": 39,
   "metadata": {},
   "outputs": [
    {
     "name": "stdout",
     "output_type": "stream",
     "text": [
      "\u001b[32mChecking phenotypes...\u001b[39m\n",
      "\u001b[32mIndividual IDs (strings) are provided in the first column of the phenotypic data.\u001b[39m\n",
      "\u001b[31mPhenotypes for all traits included in the model for individual a7 in the row 6 are missing. This record is deleted\u001b[39m\n",
      "\n",
      "\u001b[0m\u001b[1mA Linear Mixed Model was build using model equations:\u001b[22m\n",
      "\n",
      "y1 = intercept + x1 + x3 + ID + dam\n",
      "y2 = intercept + x1 + x2 + x3 + ID\n",
      "y3 = intercept + x1 + x1*x3 + x2 + ID\n",
      "\n",
      "\u001b[0m\u001b[1mModel Information:\u001b[22m\n",
      "\n",
      "Term            C/F          F/R            nLevels\n",
      "intercept       factor       fixed                1\n",
      "x1              covariate    fixed                1\n",
      "x3              factor       fixed                2\n",
      "ID              factor       random              12\n",
      "dam             factor       random              12\n",
      "x2              factor       random               2\n",
      "x1*x3           interaction  fixed                2\n",
      "\n",
      "\u001b[0m\u001b[1mMCMC Information:\u001b[22m\n",
      "\n",
      "methods                   conventional (no markers)\n",
      "chain_length                                   5000\n",
      "burnin                                            0\n",
      "estimateScale                                 false\n",
      "starting_value                                false\n",
      "printout_frequency                             5001\n",
      "output_samples_frequency                        100\n",
      "constraint                                    false\n",
      "missing_phenotypes                             true\n",
      "update_priors_frequency                           0\n",
      "seed                                          false\n",
      "\n",
      "\u001b[0m\u001b[1mHyper-parameters Information:\u001b[22m\n",
      "\n",
      "random effect variances (x2): \n",
      " 1.0  0.5\n",
      " 0.5  1.0\n",
      "residual variances:           \n",
      " 1.0  0.5  0.5\n",
      " 0.5  1.0  0.5\n",
      " 0.5  0.5  1.0\n",
      "genetic variances (polygenic):\n",
      " 1.0  0.5  0.5  0.5\n",
      " 0.5  1.0  0.5  0.5\n",
      " 0.5  0.5  1.0  0.5\n",
      " 0.5  0.5  0.5  1.0\n",
      "\n",
      "\u001b[0m\u001b[1mDegree of freedom for hyper-parameters:\u001b[22m\n",
      "\n",
      "residual variances:                           4.000\n",
      "iid random effect variances:                  6.000\n",
      "polygenic effect variances:                   8.000\n",
      "\n",
      "\n",
      "\n",
      "\u001b[31mThe file MCMC_samples_residual_variance.txt already exists!!! It is overwritten by the new output.\u001b[39m\n",
      "\u001b[31mThe file MCMC_samples_polygenic_effects_variance.txt already exists!!! It is overwritten by the new output.\u001b[39m\n",
      "\u001b[31mThe file MCMC_samples_x2_variances.txt already exists!!! It is overwritten by the new output.\u001b[39m\n",
      "\u001b[31mThe file MCMC_samples_EBV_y1.txt already exists!!! It is overwritten by the new output.\u001b[39m\n",
      "\u001b[31mThe file MCMC_samples_EBV_y2.txt already exists!!! It is overwritten by the new output.\u001b[39m\n",
      "\u001b[31mThe file MCMC_samples_EBV_y3.txt already exists!!! It is overwritten by the new output.\u001b[39m\n",
      "\u001b[31mThe file MCMC_samples_genetic_variance.txt already exists!!! It is overwritten by the new output.\u001b[39m\n",
      "\u001b[31mThe file MCMC_samples_heritability.txt already exists!!! It is overwritten by the new output.\u001b[39m\n"
     ]
    },
    {
     "name": "stderr",
     "output_type": "stream",
     "text": [
      "\u001b[32mrunning MCMC for conventional (no markers)...100%|██████| Time: 0:00:01\u001b[39m\n"
     ]
    },
    {
     "name": "stdout",
     "output_type": "stream",
     "text": [
      "\n",
      "\n",
      "\u001b[0m\u001b[1mThe version of Julia and Platform in use:\u001b[22m\n",
      "\n",
      "Julia Version 1.2.0\n",
      "Commit c6da87ff4b (2019-08-20 00:03 UTC)\n",
      "Platform Info:\n",
      "  OS: macOS (x86_64-apple-darwin18.6.0)\n",
      "  CPU: Intel(R) Core(TM) i7-8559U CPU @ 2.70GHz\n",
      "  WORD_SIZE: 64\n",
      "  LIBM: libopenlibm\n",
      "  LLVM: libLLVM-6.0.1 (ORCJIT, skylake)\n",
      "\n",
      "\n",
      "\u001b[0m\u001b[1mThe analysis has finished. Results are saved in the returned \u001b[22m\u001b[0m\u001b[1mvariable and text files. MCMC samples are saved in text files.\u001b[22m\n",
      "\n",
      "\n"
     ]
    }
   ],
   "source": [
    "out2=runMCMC(model2,phenotypes,chain_length=5000,output_samples_frequency=100,outputEBV=true);"
   ]
  },
  {
   "cell_type": "markdown",
   "metadata": {},
   "source": [
    "<button type=\"button\" class=\"btn btn-lg btn-primary\">Check Results</button> "
   ]
  },
  {
   "cell_type": "code",
   "execution_count": 40,
   "metadata": {},
   "outputs": [
    {
     "data": {
      "text/plain": [
       "Base.KeySet for a Dict{Any,Any} with 8 entries. Keys:\n",
       "  \"EBV_y2\"\n",
       "  \"EBV_y1\"\n",
       "  \"heritability\"\n",
       "  \"location parameters\"\n",
       "  \"residual variance\"\n",
       "  \"polygenic effects covariance matrix\"\n",
       "  \"EBV_y3\"\n",
       "  \"genetic_variance\""
      ]
     },
     "execution_count": 40,
     "metadata": {},
     "output_type": "execute_result"
    }
   ],
   "source": [
    "keys(out2)"
   ]
  },
  {
   "cell_type": "code",
   "execution_count": 41,
   "metadata": {},
   "outputs": [
    {
     "data": {
      "text/html": [
       "<table class=\"data-frame\"><thead><tr><th></th><th>Trait</th><th>Effect</th><th>Level</th><th>Estimate</th><th>Std_Error</th></tr><tr><th></th><th>Any</th><th>Any</th><th>Any</th><th>Any</th><th>Any</th></tr></thead><tbody><p>64 rows × 5 columns</p><tr><th>1</th><td>y1</td><td>intercept</td><td>intercept</td><td>-48.4832</td><td>missing</td></tr><tr><th>2</th><td>y1</td><td>x1</td><td>x1</td><td>0.656452</td><td>missing</td></tr><tr><th>3</th><td>y1</td><td>x3</td><td>m</td><td>48.0757</td><td>missing</td></tr><tr><th>4</th><td>y1</td><td>x3</td><td>f</td><td>46.1323</td><td>missing</td></tr><tr><th>5</th><td>y1</td><td>ID</td><td>a2</td><td>-0.0453471</td><td>missing</td></tr><tr><th>6</th><td>y1</td><td>ID</td><td>a1</td><td>-0.134154</td><td>missing</td></tr><tr><th>7</th><td>y1</td><td>ID</td><td>a3</td><td>-0.0823497</td><td>missing</td></tr><tr><th>8</th><td>y1</td><td>ID</td><td>a7</td><td>-0.161346</td><td>missing</td></tr><tr><th>9</th><td>y1</td><td>ID</td><td>a4</td><td>-0.724968</td><td>missing</td></tr><tr><th>10</th><td>y1</td><td>ID</td><td>a6</td><td>-0.0787223</td><td>missing</td></tr><tr><th>11</th><td>y1</td><td>ID</td><td>a9</td><td>-0.39739</td><td>missing</td></tr><tr><th>12</th><td>y1</td><td>ID</td><td>a5</td><td>0.580657</td><td>missing</td></tr><tr><th>13</th><td>y1</td><td>ID</td><td>a10</td><td>0.129351</td><td>missing</td></tr><tr><th>14</th><td>y1</td><td>ID</td><td>a12</td><td>-0.149339</td><td>missing</td></tr><tr><th>15</th><td>y1</td><td>ID</td><td>a11</td><td>-0.131307</td><td>missing</td></tr><tr><th>16</th><td>y1</td><td>ID</td><td>a8</td><td>-0.379818</td><td>missing</td></tr><tr><th>17</th><td>y1</td><td>dam</td><td>a2</td><td>-0.0470444</td><td>missing</td></tr><tr><th>18</th><td>y1</td><td>dam</td><td>a1</td><td>-0.214328</td><td>missing</td></tr><tr><th>19</th><td>y1</td><td>dam</td><td>a3</td><td>-0.04198</td><td>missing</td></tr><tr><th>20</th><td>y1</td><td>dam</td><td>a7</td><td>-0.172584</td><td>missing</td></tr><tr><th>21</th><td>y1</td><td>dam</td><td>a4</td><td>-0.255704</td><td>missing</td></tr><tr><th>22</th><td>y1</td><td>dam</td><td>a6</td><td>-0.0820719</td><td>missing</td></tr><tr><th>23</th><td>y1</td><td>dam</td><td>a9</td><td>-0.159522</td><td>missing</td></tr><tr><th>24</th><td>y1</td><td>dam</td><td>a5</td><td>0.139508</td><td>missing</td></tr><tr><th>25</th><td>y1</td><td>dam</td><td>a10</td><td>-0.0755953</td><td>missing</td></tr><tr><th>26</th><td>y1</td><td>dam</td><td>a12</td><td>-0.144679</td><td>missing</td></tr><tr><th>27</th><td>y1</td><td>dam</td><td>a11</td><td>-0.112296</td><td>missing</td></tr><tr><th>28</th><td>y1</td><td>dam</td><td>a8</td><td>-0.123452</td><td>missing</td></tr><tr><th>29</th><td>y2</td><td>intercept</td><td>intercept</td><td>6.14876</td><td>missing</td></tr><tr><th>30</th><td>y2</td><td>x1</td><td>x1</td><td>0.384071</td><td>missing</td></tr><tr><th>&vellip;</th><td>&vellip;</td><td>&vellip;</td><td>&vellip;</td><td>&vellip;</td><td>&vellip;</td></tr></tbody></table>"
      ],
      "text/latex": [
       "\\begin{tabular}{r|ccccc}\n",
       "\t& Trait & Effect & Level & Estimate & Std\\_Error\\\\\n",
       "\t\\hline\n",
       "\t& Any & Any & Any & Any & Any\\\\\n",
       "\t\\hline\n",
       "\t1 & y1 & intercept & intercept & -48.4832 &  \\\\\n",
       "\t2 & y1 & x1 & x1 & 0.656452 &  \\\\\n",
       "\t3 & y1 & x3 & m & 48.0757 &  \\\\\n",
       "\t4 & y1 & x3 & f & 46.1323 &  \\\\\n",
       "\t5 & y1 & ID & a2 & -0.0453471 &  \\\\\n",
       "\t6 & y1 & ID & a1 & -0.134154 &  \\\\\n",
       "\t7 & y1 & ID & a3 & -0.0823497 &  \\\\\n",
       "\t8 & y1 & ID & a7 & -0.161346 &  \\\\\n",
       "\t9 & y1 & ID & a4 & -0.724968 &  \\\\\n",
       "\t10 & y1 & ID & a6 & -0.0787223 &  \\\\\n",
       "\t11 & y1 & ID & a9 & -0.39739 &  \\\\\n",
       "\t12 & y1 & ID & a5 & 0.580657 &  \\\\\n",
       "\t13 & y1 & ID & a10 & 0.129351 &  \\\\\n",
       "\t14 & y1 & ID & a12 & -0.149339 &  \\\\\n",
       "\t15 & y1 & ID & a11 & -0.131307 &  \\\\\n",
       "\t16 & y1 & ID & a8 & -0.379818 &  \\\\\n",
       "\t17 & y1 & dam & a2 & -0.0470444 &  \\\\\n",
       "\t18 & y1 & dam & a1 & -0.214328 &  \\\\\n",
       "\t19 & y1 & dam & a3 & -0.04198 &  \\\\\n",
       "\t20 & y1 & dam & a7 & -0.172584 &  \\\\\n",
       "\t21 & y1 & dam & a4 & -0.255704 &  \\\\\n",
       "\t22 & y1 & dam & a6 & -0.0820719 &  \\\\\n",
       "\t23 & y1 & dam & a9 & -0.159522 &  \\\\\n",
       "\t24 & y1 & dam & a5 & 0.139508 &  \\\\\n",
       "\t25 & y1 & dam & a10 & -0.0755953 &  \\\\\n",
       "\t26 & y1 & dam & a12 & -0.144679 &  \\\\\n",
       "\t27 & y1 & dam & a11 & -0.112296 &  \\\\\n",
       "\t28 & y1 & dam & a8 & -0.123452 &  \\\\\n",
       "\t29 & y2 & intercept & intercept & 6.14876 &  \\\\\n",
       "\t30 & y2 & x1 & x1 & 0.384071 &  \\\\\n",
       "\t$\\dots$ & $\\dots$ & $\\dots$ & $\\dots$ & $\\dots$ & $\\dots$ \\\\\n",
       "\\end{tabular}\n"
      ],
      "text/plain": [
       "64×5 DataFrame\n",
       "│ Row │ Trait │ Effect    │ Level     │ Estimate   │ Std_Error │\n",
       "│     │ \u001b[90mAny\u001b[39m   │ \u001b[90mAny\u001b[39m       │ \u001b[90mAny\u001b[39m       │ \u001b[90mAny\u001b[39m        │ \u001b[90mAny\u001b[39m       │\n",
       "├─────┼───────┼───────────┼───────────┼────────────┼───────────┤\n",
       "│ 1   │ y1    │ intercept │ intercept │ -48.4832   │ \u001b[90mmissing\u001b[39m   │\n",
       "│ 2   │ y1    │ x1        │ x1        │ 0.656452   │ \u001b[90mmissing\u001b[39m   │\n",
       "│ 3   │ y1    │ x3        │ m         │ 48.0757    │ \u001b[90mmissing\u001b[39m   │\n",
       "│ 4   │ y1    │ x3        │ f         │ 46.1323    │ \u001b[90mmissing\u001b[39m   │\n",
       "│ 5   │ y1    │ ID        │ a2        │ -0.0453471 │ \u001b[90mmissing\u001b[39m   │\n",
       "│ 6   │ y1    │ ID        │ a1        │ -0.134154  │ \u001b[90mmissing\u001b[39m   │\n",
       "│ 7   │ y1    │ ID        │ a3        │ -0.0823497 │ \u001b[90mmissing\u001b[39m   │\n",
       "│ 8   │ y1    │ ID        │ a7        │ -0.161346  │ \u001b[90mmissing\u001b[39m   │\n",
       "│ 9   │ y1    │ ID        │ a4        │ -0.724968  │ \u001b[90mmissing\u001b[39m   │\n",
       "│ 10  │ y1    │ ID        │ a6        │ -0.0787223 │ \u001b[90mmissing\u001b[39m   │\n",
       "⋮\n",
       "│ 54  │ y3    │ ID        │ a1        │ -0.224503  │ \u001b[90mmissing\u001b[39m   │\n",
       "│ 55  │ y3    │ ID        │ a3        │ -0.056693  │ \u001b[90mmissing\u001b[39m   │\n",
       "│ 56  │ y3    │ ID        │ a7        │ -0.172262  │ \u001b[90mmissing\u001b[39m   │\n",
       "│ 57  │ y3    │ ID        │ a4        │ -0.15446   │ \u001b[90mmissing\u001b[39m   │\n",
       "│ 58  │ y3    │ ID        │ a6        │ -0.0873103 │ \u001b[90mmissing\u001b[39m   │\n",
       "│ 59  │ y3    │ ID        │ a9        │ -0.103493  │ \u001b[90mmissing\u001b[39m   │\n",
       "│ 60  │ y3    │ ID        │ a5        │ 0.160297   │ \u001b[90mmissing\u001b[39m   │\n",
       "│ 61  │ y3    │ ID        │ a10       │ -0.0709936 │ \u001b[90mmissing\u001b[39m   │\n",
       "│ 62  │ y3    │ ID        │ a12       │ -0.12328   │ \u001b[90mmissing\u001b[39m   │\n",
       "│ 63  │ y3    │ ID        │ a11       │ -0.090759  │ \u001b[90mmissing\u001b[39m   │\n",
       "│ 64  │ y3    │ ID        │ a8        │ -0.0917975 │ \u001b[90mmissing\u001b[39m   │"
      ]
     },
     "execution_count": 41,
     "metadata": {},
     "output_type": "execute_result"
    }
   ],
   "source": [
    "out2[\"location parameters\"]"
   ]
  },
  {
   "cell_type": "code",
   "execution_count": 42,
   "metadata": {},
   "outputs": [
    {
     "data": {
      "text/html": [
       "<table class=\"data-frame\"><thead><tr><th></th><th>ID</th><th>EBV</th><th>PEV</th></tr><tr><th></th><th>Any</th><th>Any</th><th>Any</th></tr></thead><tbody><p>12 rows × 3 columns</p><tr><th>1</th><td>a2</td><td>0.161721</td><td>0.929215</td></tr><tr><th>2</th><td>a1</td><td>-0.291457</td><td>0.673189</td></tr><tr><th>3</th><td>a3</td><td>-0.0900826</td><td>0.755317</td></tr><tr><th>4</th><td>a7</td><td>-0.0987875</td><td>0.923473</td></tr><tr><th>5</th><td>a4</td><td>-0.175539</td><td>0.78755</td></tr><tr><th>6</th><td>a6</td><td>-0.0912501</td><td>0.787073</td></tr><tr><th>7</th><td>a9</td><td>-0.0221752</td><td>1.1382</td></tr><tr><th>8</th><td>a5</td><td>0.178192</td><td>0.842206</td></tr><tr><th>9</th><td>a10</td><td>-0.0803942</td><td>0.55782</td></tr><tr><th>10</th><td>a12</td><td>0.0335541</td><td>1.10591</td></tr><tr><th>11</th><td>a11</td><td>-0.0105089</td><td>0.636544</td></tr><tr><th>12</th><td>a8</td><td>-0.0871993</td><td>1.10035</td></tr></tbody></table>"
      ],
      "text/latex": [
       "\\begin{tabular}{r|ccc}\n",
       "\t& ID & EBV & PEV\\\\\n",
       "\t\\hline\n",
       "\t& Any & Any & Any\\\\\n",
       "\t\\hline\n",
       "\t1 & a2 & 0.161721 & 0.929215 \\\\\n",
       "\t2 & a1 & -0.291457 & 0.673189 \\\\\n",
       "\t3 & a3 & -0.0900826 & 0.755317 \\\\\n",
       "\t4 & a7 & -0.0987875 & 0.923473 \\\\\n",
       "\t5 & a4 & -0.175539 & 0.78755 \\\\\n",
       "\t6 & a6 & -0.0912501 & 0.787073 \\\\\n",
       "\t7 & a9 & -0.0221752 & 1.1382 \\\\\n",
       "\t8 & a5 & 0.178192 & 0.842206 \\\\\n",
       "\t9 & a10 & -0.0803942 & 0.55782 \\\\\n",
       "\t10 & a12 & 0.0335541 & 1.10591 \\\\\n",
       "\t11 & a11 & -0.0105089 & 0.636544 \\\\\n",
       "\t12 & a8 & -0.0871993 & 1.10035 \\\\\n",
       "\\end{tabular}\n"
      ],
      "text/plain": [
       "12×3 DataFrame\n",
       "│ Row │ ID  │ EBV        │ PEV      │\n",
       "│     │ \u001b[90mAny\u001b[39m │ \u001b[90mAny\u001b[39m        │ \u001b[90mAny\u001b[39m      │\n",
       "├─────┼─────┼────────────┼──────────┤\n",
       "│ 1   │ a2  │ 0.161721   │ 0.929215 │\n",
       "│ 2   │ a1  │ -0.291457  │ 0.673189 │\n",
       "│ 3   │ a3  │ -0.0900826 │ 0.755317 │\n",
       "│ 4   │ a7  │ -0.0987875 │ 0.923473 │\n",
       "│ 5   │ a4  │ -0.175539  │ 0.78755  │\n",
       "│ 6   │ a6  │ -0.0912501 │ 0.787073 │\n",
       "│ 7   │ a9  │ -0.0221752 │ 1.1382   │\n",
       "│ 8   │ a5  │ 0.178192   │ 0.842206 │\n",
       "│ 9   │ a10 │ -0.0803942 │ 0.55782  │\n",
       "│ 10  │ a12 │ 0.0335541  │ 1.10591  │\n",
       "│ 11  │ a11 │ -0.0105089 │ 0.636544 │\n",
       "│ 12  │ a8  │ -0.0871993 │ 1.10035  │"
      ]
     },
     "execution_count": 42,
     "metadata": {},
     "output_type": "execute_result"
    }
   ],
   "source": [
    "out2[\"EBV_y3\"]"
   ]
  },
  {
   "cell_type": "code",
   "execution_count": 43,
   "metadata": {},
   "outputs": [
    {
     "data": {
      "text/html": [
       "<table class=\"data-frame\"><thead><tr><th></th><th>Covariance</th><th>Estimate</th><th>Std_Error</th></tr><tr><th></th><th>Any</th><th>Any</th><th>Any</th></tr></thead><tbody><p>16 rows × 3 columns</p><tr><th>1</th><td>y1:ID_y1:ID</td><td>1.20443</td><td>missing</td></tr><tr><th>2</th><td>y1:ID_y2:ID</td><td>0.468268</td><td>missing</td></tr><tr><th>3</th><td>y1:ID_y3:ID</td><td>0.50878</td><td>missing</td></tr><tr><th>4</th><td>y1:ID_y1:dam</td><td>0.498071</td><td>missing</td></tr><tr><th>5</th><td>y2:ID_y1:ID</td><td>0.468268</td><td>missing</td></tr><tr><th>6</th><td>y2:ID_y2:ID</td><td>1.06968</td><td>missing</td></tr><tr><th>7</th><td>y2:ID_y3:ID</td><td>0.490239</td><td>missing</td></tr><tr><th>8</th><td>y2:ID_y1:dam</td><td>0.477436</td><td>missing</td></tr><tr><th>9</th><td>y3:ID_y1:ID</td><td>0.50878</td><td>missing</td></tr><tr><th>10</th><td>y3:ID_y2:ID</td><td>0.490239</td><td>missing</td></tr><tr><th>11</th><td>y3:ID_y3:ID</td><td>0.976937</td><td>missing</td></tr><tr><th>12</th><td>y3:ID_y1:dam</td><td>0.451961</td><td>missing</td></tr><tr><th>13</th><td>y1:dam_y1:ID</td><td>0.498071</td><td>missing</td></tr><tr><th>14</th><td>y1:dam_y2:ID</td><td>0.477436</td><td>missing</td></tr><tr><th>15</th><td>y1:dam_y3:ID</td><td>0.451961</td><td>missing</td></tr><tr><th>16</th><td>y1:dam_y1:dam</td><td>0.978648</td><td>missing</td></tr></tbody></table>"
      ],
      "text/latex": [
       "\\begin{tabular}{r|ccc}\n",
       "\t& Covariance & Estimate & Std\\_Error\\\\\n",
       "\t\\hline\n",
       "\t& Any & Any & Any\\\\\n",
       "\t\\hline\n",
       "\t1 & y1:ID\\_y1:ID & 1.20443 &  \\\\\n",
       "\t2 & y1:ID\\_y2:ID & 0.468268 &  \\\\\n",
       "\t3 & y1:ID\\_y3:ID & 0.50878 &  \\\\\n",
       "\t4 & y1:ID\\_y1:dam & 0.498071 &  \\\\\n",
       "\t5 & y2:ID\\_y1:ID & 0.468268 &  \\\\\n",
       "\t6 & y2:ID\\_y2:ID & 1.06968 &  \\\\\n",
       "\t7 & y2:ID\\_y3:ID & 0.490239 &  \\\\\n",
       "\t8 & y2:ID\\_y1:dam & 0.477436 &  \\\\\n",
       "\t9 & y3:ID\\_y1:ID & 0.50878 &  \\\\\n",
       "\t10 & y3:ID\\_y2:ID & 0.490239 &  \\\\\n",
       "\t11 & y3:ID\\_y3:ID & 0.976937 &  \\\\\n",
       "\t12 & y3:ID\\_y1:dam & 0.451961 &  \\\\\n",
       "\t13 & y1:dam\\_y1:ID & 0.498071 &  \\\\\n",
       "\t14 & y1:dam\\_y2:ID & 0.477436 &  \\\\\n",
       "\t15 & y1:dam\\_y3:ID & 0.451961 &  \\\\\n",
       "\t16 & y1:dam\\_y1:dam & 0.978648 &  \\\\\n",
       "\\end{tabular}\n"
      ],
      "text/plain": [
       "16×3 DataFrame\n",
       "│ Row │ Covariance    │ Estimate │ Std_Error │\n",
       "│     │ \u001b[90mAny\u001b[39m           │ \u001b[90mAny\u001b[39m      │ \u001b[90mAny\u001b[39m       │\n",
       "├─────┼───────────────┼──────────┼───────────┤\n",
       "│ 1   │ y1:ID_y1:ID   │ 1.20443  │ \u001b[90mmissing\u001b[39m   │\n",
       "│ 2   │ y1:ID_y2:ID   │ 0.468268 │ \u001b[90mmissing\u001b[39m   │\n",
       "│ 3   │ y1:ID_y3:ID   │ 0.50878  │ \u001b[90mmissing\u001b[39m   │\n",
       "│ 4   │ y1:ID_y1:dam  │ 0.498071 │ \u001b[90mmissing\u001b[39m   │\n",
       "│ 5   │ y2:ID_y1:ID   │ 0.468268 │ \u001b[90mmissing\u001b[39m   │\n",
       "│ 6   │ y2:ID_y2:ID   │ 1.06968  │ \u001b[90mmissing\u001b[39m   │\n",
       "│ 7   │ y2:ID_y3:ID   │ 0.490239 │ \u001b[90mmissing\u001b[39m   │\n",
       "│ 8   │ y2:ID_y1:dam  │ 0.477436 │ \u001b[90mmissing\u001b[39m   │\n",
       "│ 9   │ y3:ID_y1:ID   │ 0.50878  │ \u001b[90mmissing\u001b[39m   │\n",
       "│ 10  │ y3:ID_y2:ID   │ 0.490239 │ \u001b[90mmissing\u001b[39m   │\n",
       "│ 11  │ y3:ID_y3:ID   │ 0.976937 │ \u001b[90mmissing\u001b[39m   │\n",
       "│ 12  │ y3:ID_y1:dam  │ 0.451961 │ \u001b[90mmissing\u001b[39m   │\n",
       "│ 13  │ y1:dam_y1:ID  │ 0.498071 │ \u001b[90mmissing\u001b[39m   │\n",
       "│ 14  │ y1:dam_y2:ID  │ 0.477436 │ \u001b[90mmissing\u001b[39m   │\n",
       "│ 15  │ y1:dam_y3:ID  │ 0.451961 │ \u001b[90mmissing\u001b[39m   │\n",
       "│ 16  │ y1:dam_y1:dam │ 0.978648 │ \u001b[90mmissing\u001b[39m   │"
      ]
     },
     "execution_count": 43,
     "metadata": {},
     "output_type": "execute_result"
    }
   ],
   "source": [
    "out2[\"polygenic effects covariance matrix\"]"
   ]
  },
  {
   "cell_type": "code",
   "execution_count": 44,
   "metadata": {},
   "outputs": [
    {
     "data": {
      "text/html": [
       "<table class=\"data-frame\"><thead><tr><th></th><th>Covariance</th><th>Estimate</th><th>Std_Error</th></tr><tr><th></th><th>Any</th><th>Any</th><th>Any</th></tr></thead><tbody><p>9 rows × 3 columns</p><tr><th>1</th><td>y1_y1</td><td>1.98713</td><td>1.8368</td></tr><tr><th>2</th><td>y1_y2</td><td>0.540547</td><td>0.901615</td></tr><tr><th>3</th><td>y1_y3</td><td>0.468791</td><td>0.725382</td></tr><tr><th>4</th><td>y2_y1</td><td>0.540547</td><td>0.901615</td></tr><tr><th>5</th><td>y2_y2</td><td>0.623483</td><td>0.511865</td></tr><tr><th>6</th><td>y2_y3</td><td>0.237568</td><td>0.333816</td></tr><tr><th>7</th><td>y3_y1</td><td>0.468791</td><td>0.725382</td></tr><tr><th>8</th><td>y3_y2</td><td>0.237568</td><td>0.333816</td></tr><tr><th>9</th><td>y3_y3</td><td>0.61414</td><td>0.673545</td></tr></tbody></table>"
      ],
      "text/latex": [
       "\\begin{tabular}{r|ccc}\n",
       "\t& Covariance & Estimate & Std\\_Error\\\\\n",
       "\t\\hline\n",
       "\t& Any & Any & Any\\\\\n",
       "\t\\hline\n",
       "\t1 & y1\\_y1 & 1.98713 & 1.8368 \\\\\n",
       "\t2 & y1\\_y2 & 0.540547 & 0.901615 \\\\\n",
       "\t3 & y1\\_y3 & 0.468791 & 0.725382 \\\\\n",
       "\t4 & y2\\_y1 & 0.540547 & 0.901615 \\\\\n",
       "\t5 & y2\\_y2 & 0.623483 & 0.511865 \\\\\n",
       "\t6 & y2\\_y3 & 0.237568 & 0.333816 \\\\\n",
       "\t7 & y3\\_y1 & 0.468791 & 0.725382 \\\\\n",
       "\t8 & y3\\_y2 & 0.237568 & 0.333816 \\\\\n",
       "\t9 & y3\\_y3 & 0.61414 & 0.673545 \\\\\n",
       "\\end{tabular}\n"
      ],
      "text/plain": [
       "9×3 DataFrame\n",
       "│ Row │ Covariance │ Estimate │ Std_Error │\n",
       "│     │ \u001b[90mAny\u001b[39m        │ \u001b[90mAny\u001b[39m      │ \u001b[90mAny\u001b[39m       │\n",
       "├─────┼────────────┼──────────┼───────────┤\n",
       "│ 1   │ y1_y1      │ 1.98713  │ 1.8368    │\n",
       "│ 2   │ y1_y2      │ 0.540547 │ 0.901615  │\n",
       "│ 3   │ y1_y3      │ 0.468791 │ 0.725382  │\n",
       "│ 4   │ y2_y1      │ 0.540547 │ 0.901615  │\n",
       "│ 5   │ y2_y2      │ 0.623483 │ 0.511865  │\n",
       "│ 6   │ y2_y3      │ 0.237568 │ 0.333816  │\n",
       "│ 7   │ y3_y1      │ 0.468791 │ 0.725382  │\n",
       "│ 8   │ y3_y2      │ 0.237568 │ 0.333816  │\n",
       "│ 9   │ y3_y3      │ 0.61414  │ 0.673545  │"
      ]
     },
     "execution_count": 44,
     "metadata": {},
     "output_type": "execute_result"
    }
   ],
   "source": [
    "out2[\"genetic_variance\"]"
   ]
  }
 ],
 "metadata": {
  "anaconda-cloud": {},
  "kernelspec": {
   "display_name": "Julia 1.2.0",
   "language": "julia",
   "name": "julia-1.2"
  },
  "language_info": {
   "file_extension": ".jl",
   "mimetype": "application/julia",
   "name": "julia",
   "version": "1.2.0"
  }
 },
 "nbformat": 4,
 "nbformat_minor": 2
}
