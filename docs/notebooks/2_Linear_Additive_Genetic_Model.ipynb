{
 "cells": [
  {
   "cell_type": "markdown",
   "metadata": {},
   "source": [
    "<ul class=\"breadcrumb\">\n",
    "  <li><a href=\"1_Conventional_Linear_Mixed_Model.ipynb\">Bayesian Linear Mixed Models (Conventional)</a></li>\n",
    "  <li><a href=\"2_Linear_Additive_Genetic_Model.ipynb\">Bayesian Linear Additive Genetic Model</a></li> \n",
    "  <li><a href=\"3_Genomic_Linear_Mixed_Model.ipynb\">Bayesian Linear Mixed Models (Genomic Data)</a></li>\n",
    "</ul>"
   ]
  },
  {
   "cell_type": "markdown",
   "metadata": {},
   "source": [
    "<div class=\"span5 alert alert-success\">\n",
    " <font size=\"5\" face=\"Georgia\">Bayesian Linear Additive Genetic Model</font> \n",
    "</div>"
   ]
  },
  {
   "cell_type": "markdown",
   "metadata": {},
   "source": [
    "<button type=\"button\" class=\"btn btn-lg btn-primary\">Step 1: Load Packages</button> "
   ]
  },
  {
   "cell_type": "code",
   "execution_count": 1,
   "metadata": {},
   "outputs": [],
   "source": [
    "using JWAS,JWAS.Datasets,DataFrames,CSV"
   ]
  },
  {
   "cell_type": "markdown",
   "metadata": {},
   "source": [
    "<button type=\"button\" class=\"btn btn-lg btn-primary\">Step 2: Read data</button> "
   ]
  },
  {
   "cell_type": "code",
   "execution_count": 2,
   "metadata": {},
   "outputs": [
    {
     "name": "stdout",
     "output_type": "stream",
     "text": [
      "\u001b[31mThe delimiter in pedigree.txt is ','.\u001b[39m\n",
      "Finished!\n"
     ]
    }
   ],
   "source": [
    "phenofile  = Datasets.dataset(\"example\",\"phenotypes.txt\")\n",
    "pedfile    = Datasets.dataset(\"example\",\"pedigree.txt\")\n",
    "\n",
    "phenotypes = CSV.read(phenofile,delim = ',',header=true,missingstrings=[\"NA\"])\n",
    "pedigree   = get_pedigree(pedfile,separator=\",\",header=true);"
   ]
  },
  {
   "cell_type": "code",
   "execution_count": 3,
   "metadata": {},
   "outputs": [
    {
     "data": {
      "text/html": [
       "<table class=\"data-frame\"><thead><tr><th></th><th>ID</th><th>y1</th><th>y2</th><th>y3</th><th>x1</th><th>x2</th><th>x3</th><th>dam</th></tr><tr><th></th><th>String</th><th>Float64</th><th>Float64⍰</th><th>Float64⍰</th><th>Float64</th><th>Int64</th><th>String</th><th>String</th></tr></thead><tbody><p>5 rows × 8 columns</p><tr><th>1</th><td>a1</td><td>-0.06</td><td>3.58</td><td>-1.18</td><td>0.9</td><td>2</td><td>m</td><td>0</td></tr><tr><th>2</th><td>a3</td><td>-2.07</td><td>3.19</td><td>missing</td><td>0.7</td><td>2</td><td>f</td><td>0</td></tr><tr><th>3</th><td>a4</td><td>-2.63</td><td>6.97</td><td>-0.83</td><td>0.6</td><td>1</td><td>m</td><td>a2</td></tr><tr><th>4</th><td>a5</td><td>2.31</td><td>missing</td><td>-1.52</td><td>0.4</td><td>2</td><td>m</td><td>a2</td></tr><tr><th>5</th><td>a6</td><td>0.93</td><td>4.87</td><td>-0.01</td><td>5.0</td><td>2</td><td>f</td><td>a3</td></tr></tbody></table>"
      ],
      "text/latex": [
       "\\begin{tabular}{r|cccccccc}\n",
       "\t& ID & y1 & y2 & y3 & x1 & x2 & x3 & dam\\\\\n",
       "\t\\hline\n",
       "\t& String & Float64 & Float64⍰ & Float64⍰ & Float64 & Int64 & String & String\\\\\n",
       "\t\\hline\n",
       "\t1 & a1 & -0.06 & 3.58 & -1.18 & 0.9 & 2 & m & 0 \\\\\n",
       "\t2 & a3 & -2.07 & 3.19 &  & 0.7 & 2 & f & 0 \\\\\n",
       "\t3 & a4 & -2.63 & 6.97 & -0.83 & 0.6 & 1 & m & a2 \\\\\n",
       "\t4 & a5 & 2.31 &  & -1.52 & 0.4 & 2 & m & a2 \\\\\n",
       "\t5 & a6 & 0.93 & 4.87 & -0.01 & 5.0 & 2 & f & a3 \\\\\n",
       "\\end{tabular}\n"
      ],
      "text/plain": [
       "5×8 DataFrame. Omitted printing of 1 columns\n",
       "│ Row │ ID     │ y1      │ y2       │ y3       │ x1      │ x2    │ x3     │\n",
       "│     │ \u001b[90mString\u001b[39m │ \u001b[90mFloat64\u001b[39m │ \u001b[90mFloat64⍰\u001b[39m │ \u001b[90mFloat64⍰\u001b[39m │ \u001b[90mFloat64\u001b[39m │ \u001b[90mInt64\u001b[39m │ \u001b[90mString\u001b[39m │\n",
       "├─────┼────────┼─────────┼──────────┼──────────┼─────────┼───────┼────────┤\n",
       "│ 1   │ a1     │ -0.06   │ 3.58     │ -1.18    │ 0.9     │ 2     │ m      │\n",
       "│ 2   │ a3     │ -2.07   │ 3.19     │ \u001b[90mmissing\u001b[39m  │ 0.7     │ 2     │ f      │\n",
       "│ 3   │ a4     │ -2.63   │ 6.97     │ -0.83    │ 0.6     │ 1     │ m      │\n",
       "│ 4   │ a5     │ 2.31    │ \u001b[90mmissing\u001b[39m  │ -1.52    │ 0.4     │ 2     │ m      │\n",
       "│ 5   │ a6     │ 0.93    │ 4.87     │ -0.01    │ 5.0     │ 2     │ f      │"
      ]
     },
     "execution_count": 3,
     "metadata": {},
     "output_type": "execute_result"
    }
   ],
   "source": [
    "first(phenotypes,5)"
   ]
  },
  {
   "cell_type": "markdown",
   "metadata": {},
   "source": [
    "<div class=\"span5 alert alert-success\">\n",
    " <font size=\"5\" face=\"Georgia\">Univariate Linear Additive Genetic Model</font> \n",
    "</div>"
   ]
  },
  {
   "cell_type": "markdown",
   "metadata": {},
   "source": [
    "<button type=\"button\" class=\"btn btn-lg btn-primary\">Step 3: Build Model Equations</button> "
   ]
  },
  {
   "cell_type": "code",
   "execution_count": 4,
   "metadata": {},
   "outputs": [],
   "source": [
    "model_equation1  =\"y1 = intercept + x1*x3 + x2 + x3 + ID + dam\";"
   ]
  },
  {
   "cell_type": "code",
   "execution_count": 5,
   "metadata": {},
   "outputs": [],
   "source": [
    "R      = 1.0\n",
    "model1 = build_model(model_equation1,R);"
   ]
  },
  {
   "cell_type": "markdown",
   "metadata": {},
   "source": [
    "<button type=\"button\" class=\"btn btn-lg btn-primary\">Step 4: Set Factors or Covariates</button> "
   ]
  },
  {
   "cell_type": "code",
   "execution_count": 6,
   "metadata": {},
   "outputs": [],
   "source": [
    "set_covariate(model1,\"x1\");"
   ]
  },
  {
   "cell_type": "markdown",
   "metadata": {},
   "source": [
    "<button type=\"button\" class=\"btn btn-lg btn-primary\">Step 5: Set Random or Fixed Effects</button> "
   ]
  },
  {
   "cell_type": "code",
   "execution_count": 7,
   "metadata": {},
   "outputs": [],
   "source": [
    "G1 = 1.0\n",
    "G2 = [1.0 0.5\n",
    "      0.5 1.0]\n",
    "set_random(model1,\"x2\",G1);\n",
    "set_random(model1,\"ID dam\",pedigree,G2);"
   ]
  },
  {
   "cell_type": "markdown",
   "metadata": {},
   "source": [
    "<button type=\"button\" class=\"btn btn-lg btn-primary\">Step 6:Run Analysis</button> "
   ]
  },
  {
   "cell_type": "code",
   "execution_count": 8,
   "metadata": {},
   "outputs": [
    {
     "name": "stdout",
     "output_type": "stream",
     "text": [
      "\u001b[0m\u001b[1mA Linear Mixed Model was build using model equations:\u001b[22m\n",
      "\n",
      "y1 = intercept + x1*x3 + x2 + x3 + ID + dam\n",
      "\n",
      "\u001b[0m\u001b[1mModel Information:\u001b[22m\n",
      "\n",
      "Term            C/F          F/R            nLevels\n",
      "intercept       factor       fixed                1\n",
      "x1*x3           interaction  fixed                2\n",
      "x2              factor       random               2\n",
      "x3              factor       fixed                2\n",
      "ID              factor       random              12\n",
      "dam             factor       random              12\n",
      "\n",
      "\u001b[0m\u001b[1mMCMC Information:\u001b[22m\n",
      "\n",
      "methods                        conventional (no markers)\n",
      "chain_length                                   5000\n",
      "burnin                                            0\n",
      "estimateScale                                 false\n",
      "starting_value                                false\n",
      "printout_frequency                             5001\n",
      "output_samples_frequency                        100\n",
      "constraint                                    false\n",
      "missing_phenotypes                             true\n",
      "update_priors_frequency                           0\n",
      "\n",
      "\u001b[0m\u001b[1mHyper-parameters Information:\u001b[22m\n",
      "\n",
      "random effect variances (x2):                 [1.0]\n",
      "residual variances:                           1.000\n",
      "genetic variances (polygenic):\n",
      "                                 [1.0 0.5; 0.5 1.0]\n",
      "\n",
      "\u001b[0m\u001b[1mDegree of freedom for hyper-parameters:\u001b[22m\n",
      "\n",
      "residual variances:                           4.000\n",
      "iid random effect variances:                  4.000\n",
      "polygenic effect variances:                   4.000\n",
      "\n",
      "\n",
      "\n",
      "\u001b[31mThe file MCMC_samples_residual_variance.txt already exists!!! It is overwritten by the new output.\u001b[39m\n",
      "\u001b[32mThe file MCMC_samples_polygenic_effects_variance.txt is created to save MCMC samples for polygenic_effects_variance.\u001b[39m\n",
      "\u001b[32mThe file MCMC_samples_1:x2.txt is created to save MCMC samples for 1:x2.\u001b[39m\n",
      "\u001b[31mThe file MCMC_samples_x2_variances.txt already exists!!! It is overwritten by the new output.\u001b[39m\n",
      "\u001b[32mThe file MCMC_samples_EBV_y1.txt is created to save MCMC samples for EBV_y1.\u001b[39m\n"
     ]
    },
    {
     "name": "stderr",
     "output_type": "stream",
     "text": [
      "\u001b[32mrunning MCMC for conventional (no markers)...100%|██████| Time: 0:00:01\u001b[39m\n"
     ]
    }
   ],
   "source": [
    "outputMCMCsamples(model1,\"x2\")\n",
    "out1=runMCMC(model1,phenotypes,chain_length=5000,output_samples_frequency=100);"
   ]
  },
  {
   "cell_type": "markdown",
   "metadata": {},
   "source": [
    "<button type=\"button\" class=\"btn btn-lg btn-primary\">Check Results</button> "
   ]
  },
  {
   "cell_type": "code",
   "execution_count": 9,
   "metadata": {},
   "outputs": [
    {
     "data": {
      "text/plain": [
       "Base.KeySet for a Dict{Any,Any} with 4 entries. Keys:\n",
       "  \"Posterior mean of polygenic effects covariance matrix\"\n",
       "  \"EBV_y1\"\n",
       "  \"Posterior mean of residual variance\"\n",
       "  \"Posterior mean of location parameters\""
      ]
     },
     "execution_count": 9,
     "metadata": {},
     "output_type": "execute_result"
    }
   ],
   "source": [
    "keys(out1)"
   ]
  },
  {
   "cell_type": "code",
   "execution_count": 10,
   "metadata": {},
   "outputs": [
    {
     "data": {
      "text/plain": [
       "2×2 Array{Float64,2}:\n",
       " 5.05712  1.41212\n",
       " 1.41212  2.35717"
      ]
     },
     "execution_count": 10,
     "metadata": {},
     "output_type": "execute_result"
    }
   ],
   "source": [
    "out1[\"Posterior mean of polygenic effects covariance matrix\"]"
   ]
  },
  {
   "cell_type": "markdown",
   "metadata": {},
   "source": [
    "<div class=\"span5 alert alert-success\">\n",
    " <font size=\"5\" face=\"Georgia\">Multivariate Linear Additive Genetic Model</font> \n",
    "</div>"
   ]
  },
  {
   "cell_type": "markdown",
   "metadata": {},
   "source": [
    "<button type=\"button\" class=\"btn btn-lg btn-primary\">Step 3: Build Model Equations</button> "
   ]
  },
  {
   "cell_type": "code",
   "execution_count": 11,
   "metadata": {},
   "outputs": [],
   "source": [
    "model_equation2 =\"y1 = intercept + x1 + x3 + ID + dam\n",
    "                  y2 = intercept + x1 + x2 + x3 + ID\n",
    "                  y3 = intercept + x1 + x1*x3 + x2 + ID\";"
   ]
  },
  {
   "cell_type": "code",
   "execution_count": 12,
   "metadata": {},
   "outputs": [],
   "source": [
    "R      = [1.0 0.5 0.5\n",
    "          0.5 1.0 0.5\n",
    "          0.5 0.5 1.0]\n",
    "model2 = build_model(model_equation2,R);"
   ]
  },
  {
   "cell_type": "markdown",
   "metadata": {},
   "source": [
    "<button type=\"button\" class=\"btn btn-lg btn-primary\">Step 4: Set Factors or Covariates</button> "
   ]
  },
  {
   "cell_type": "code",
   "execution_count": 13,
   "metadata": {},
   "outputs": [],
   "source": [
    "set_covariate(model2,\"x1\");"
   ]
  },
  {
   "cell_type": "markdown",
   "metadata": {},
   "source": [
    "<button type=\"button\" class=\"btn btn-lg btn-primary\">Step 5: Set Random or Fixed Effects</button> "
   ]
  },
  {
   "cell_type": "code",
   "execution_count": 14,
   "metadata": {},
   "outputs": [
    {
     "name": "stdout",
     "output_type": "stream",
     "text": [
      "\u001b[31mx2 is not found in model equation 1.\u001b[39m\n",
      "\u001b[31mdam is not found in model equation 2.\u001b[39m\n",
      "\u001b[31mdam is not found in model equation 3.\u001b[39m\n"
     ]
    }
   ],
   "source": [
    "G1 = [1.0 0.5\n",
    "      0.5 1.0]\n",
    "G2 = [1.0 0.5 0.5 0.5\n",
    "      0.5 1.0 0.5 0.5\n",
    "      0.5 0.5 1.0 0.5\n",
    "      0.5 0.5 0.5 1.0]\n",
    "set_random(model2,\"x2\",G1);\n",
    "set_random(model2,\"ID dam\",pedigree,G2);"
   ]
  },
  {
   "cell_type": "markdown",
   "metadata": {},
   "source": [
    "<button type=\"button\" class=\"btn btn-lg btn-primary\">Step 6: Run Analysis</button> "
   ]
  },
  {
   "cell_type": "code",
   "execution_count": 15,
   "metadata": {},
   "outputs": [
    {
     "name": "stdout",
     "output_type": "stream",
     "text": [
      "\u001b[0m\u001b[1mA Linear Mixed Model was build using model equations:\u001b[22m\n",
      "\n",
      "y1 = intercept + x1 + x3 + ID + dam\n",
      "y2 = intercept + x1 + x2 + x3 + ID\n",
      "y3 = intercept + x1 + x1*x3 + x2 + ID\n",
      "\n",
      "\u001b[0m\u001b[1mModel Information:\u001b[22m\n",
      "\n",
      "Term            C/F          F/R            nLevels\n",
      "intercept       factor       fixed                1\n",
      "x1              covariate    fixed                1\n",
      "x3              factor       fixed                2\n",
      "ID              factor       random              12\n",
      "dam             factor       random              12\n",
      "x2              factor       random               2\n",
      "x1*x3           interaction  fixed                2\n",
      "\n",
      "\u001b[0m\u001b[1mMCMC Information:\u001b[22m\n",
      "\n",
      "methods                        conventional (no markers)\n",
      "chain_length                                   5000\n",
      "burnin                                            0\n",
      "estimateScale                                 false\n",
      "starting_value                                false\n",
      "printout_frequency                             5001\n",
      "output_samples_frequency                        100\n",
      "constraint                                    false\n",
      "missing_phenotypes                             true\n",
      "update_priors_frequency                           0\n",
      "\n",
      "\u001b[0m\u001b[1mHyper-parameters Information:\u001b[22m\n",
      "\n",
      "random effect variances (x2): \n",
      " 1.0  0.5\n",
      " 0.5  1.0\n",
      "residual variances:           \n",
      " 1.0  0.5  0.5\n",
      " 0.5  1.0  0.5\n",
      " 0.5  0.5  1.0\n",
      "genetic variances (polygenic):\n",
      " 1.0  0.5  0.5  0.5\n",
      " 0.5  1.0  0.5  0.5\n",
      " 0.5  0.5  1.0  0.5\n",
      " 0.5  0.5  0.5  1.0\n",
      "\n",
      "\u001b[0m\u001b[1mDegree of freedom for hyper-parameters:\u001b[22m\n",
      "\n",
      "residual variances:                           4.000\n",
      "iid random effect variances:                  4.000\n",
      "polygenic effect variances:                   4.000\n",
      "\n",
      "\n",
      "\n",
      "\u001b[31mThe file MCMC_samples_residual_variance.txt already exists!!! It is overwritten by the new output.\u001b[39m\n",
      "\u001b[31mThe file MCMC_samples_polygenic_effects_variance.txt already exists!!! It is overwritten by the new output.\u001b[39m\n",
      "\u001b[32mThe file MCMC_samples_2:x2.txt is created to save MCMC samples for 2:x2.\u001b[39m\n",
      "\u001b[32mThe file MCMC_samples_3:x2.txt is created to save MCMC samples for 3:x2.\u001b[39m\n",
      "\u001b[31mThe file MCMC_samples_x2_variances.txt already exists!!! It is overwritten by the new output.\u001b[39m\n",
      "\u001b[31mThe file MCMC_samples_EBV_y1.txt already exists!!! It is overwritten by the new output.\u001b[39m\n",
      "\u001b[32mThe file MCMC_samples_EBV_y2.txt is created to save MCMC samples for EBV_y2.\u001b[39m\n",
      "\u001b[32mThe file MCMC_samples_EBV_y3.txt is created to save MCMC samples for EBV_y3.\u001b[39m\n"
     ]
    },
    {
     "name": "stderr",
     "output_type": "stream",
     "text": [
      "\u001b[32mrunning MCMC for conventional (no markers)...100%|██████| Time: 0:00:02\u001b[39m\n"
     ]
    }
   ],
   "source": [
    "outputMCMCsamples(model2,\"x2\")\n",
    "out2=runMCMC(model2,phenotypes,chain_length=5000,output_samples_frequency=100,outputEBV=true);"
   ]
  },
  {
   "cell_type": "markdown",
   "metadata": {},
   "source": [
    "<button type=\"button\" class=\"btn btn-lg btn-primary\">Check Results</button> "
   ]
  },
  {
   "cell_type": "code",
   "execution_count": 16,
   "metadata": {},
   "outputs": [
    {
     "data": {
      "text/plain": [
       "Base.KeySet for a Dict{Any,Any} with 6 entries. Keys:\n",
       "  \"EBV_y2\"\n",
       "  \"Posterior mean of polygenic effects covariance matrix\"\n",
       "  \"EBV_y1\"\n",
       "  \"EBV_y3\"\n",
       "  \"Posterior mean of residual variance\"\n",
       "  \"Posterior mean of location parameters\""
      ]
     },
     "execution_count": 16,
     "metadata": {},
     "output_type": "execute_result"
    }
   ],
   "source": [
    "keys(out2)"
   ]
  },
  {
   "cell_type": "code",
   "execution_count": 17,
   "metadata": {},
   "outputs": [
    {
     "data": {
      "text/plain": [
       "4×4 Array{Float64,2}:\n",
       "  3.5536    -2.87913   0.135462  0.321165\n",
       " -2.87913    4.90866   0.853486  0.211488\n",
       "  0.135462   0.853486  1.12717   0.250172\n",
       "  0.321165   0.211488  0.250172  1.39911 "
      ]
     },
     "execution_count": 17,
     "metadata": {},
     "output_type": "execute_result"
    }
   ],
   "source": [
    "out2[\"Posterior mean of polygenic effects covariance matrix\"]"
   ]
  },
  {
   "cell_type": "code",
   "execution_count": 18,
   "metadata": {},
   "outputs": [
    {
     "data": {
      "text/html": [
       "<table class=\"data-frame\"><thead><tr><th></th><th>ID</th><th>Estimate</th></tr><tr><th></th><th>Any</th><th>Any</th></tr></thead><tbody><p>12 rows × 2 columns</p><tr><th>1</th><td>a2</td><td>-0.118519</td></tr><tr><th>2</th><td>a1</td><td>0.0255316</td></tr><tr><th>3</th><td>a7</td><td>0.228192</td></tr><tr><th>4</th><td>a12</td><td>0.135108</td></tr><tr><th>5</th><td>a5</td><td>-0.302975</td></tr><tr><th>6</th><td>a3</td><td>0.351545</td></tr><tr><th>7</th><td>a4</td><td>0.163164</td></tr><tr><th>8</th><td>a6</td><td>0.126424</td></tr><tr><th>9</th><td>a10</td><td>0.0486478</td></tr><tr><th>10</th><td>a11</td><td>0.115656</td></tr><tr><th>11</th><td>a8</td><td>0.0997263</td></tr><tr><th>12</th><td>a9</td><td>0.186683</td></tr></tbody></table>"
      ],
      "text/latex": [
       "\\begin{tabular}{r|cc}\n",
       "\t& ID & Estimate\\\\\n",
       "\t\\hline\n",
       "\t& Any & Any\\\\\n",
       "\t\\hline\n",
       "\t1 & a2 & -0.118519 \\\\\n",
       "\t2 & a1 & 0.0255316 \\\\\n",
       "\t3 & a7 & 0.228192 \\\\\n",
       "\t4 & a12 & 0.135108 \\\\\n",
       "\t5 & a5 & -0.302975 \\\\\n",
       "\t6 & a3 & 0.351545 \\\\\n",
       "\t7 & a4 & 0.163164 \\\\\n",
       "\t8 & a6 & 0.126424 \\\\\n",
       "\t9 & a10 & 0.0486478 \\\\\n",
       "\t10 & a11 & 0.115656 \\\\\n",
       "\t11 & a8 & 0.0997263 \\\\\n",
       "\t12 & a9 & 0.186683 \\\\\n",
       "\\end{tabular}\n"
      ],
      "text/plain": [
       "12×2 DataFrame\n",
       "│ Row │ ID  │ Estimate  │\n",
       "│     │ \u001b[90mAny\u001b[39m │ \u001b[90mAny\u001b[39m       │\n",
       "├─────┼─────┼───────────┤\n",
       "│ 1   │ a2  │ -0.118519 │\n",
       "│ 2   │ a1  │ 0.0255316 │\n",
       "│ 3   │ a7  │ 0.228192  │\n",
       "│ 4   │ a12 │ 0.135108  │\n",
       "│ 5   │ a5  │ -0.302975 │\n",
       "│ 6   │ a3  │ 0.351545  │\n",
       "│ 7   │ a4  │ 0.163164  │\n",
       "│ 8   │ a6  │ 0.126424  │\n",
       "│ 9   │ a10 │ 0.0486478 │\n",
       "│ 10  │ a11 │ 0.115656  │\n",
       "│ 11  │ a8  │ 0.0997263 │\n",
       "│ 12  │ a9  │ 0.186683  │"
      ]
     },
     "execution_count": 18,
     "metadata": {},
     "output_type": "execute_result"
    }
   ],
   "source": [
    "out2[\"EBV_y3\"]"
   ]
  },
  {
   "cell_type": "code",
   "execution_count": 19,
   "metadata": {},
   "outputs": [
    {
     "data": {
      "text/html": [
       "<table class=\"data-frame\"><thead><tr><th></th><th>Trait</th><th>Effect</th><th>Level</th><th>Estimate</th></tr><tr><th></th><th>Any</th><th>Any</th><th>Any</th><th>Any</th></tr></thead><tbody><p>64 rows × 4 columns</p><tr><th>1</th><td>1</td><td>intercept</td><td>intercept</td><td>-15.3736</td></tr><tr><th>2</th><td>1</td><td>x1</td><td>x1</td><td>0.733355</td></tr><tr><th>3</th><td>1</td><td>x3</td><td>m</td><td>14.8988</td></tr><tr><th>4</th><td>1</td><td>x3</td><td>f</td><td>12.7948</td></tr><tr><th>5</th><td>1</td><td>ID</td><td>a2</td><td>0.162014</td></tr><tr><th>6</th><td>1</td><td>ID</td><td>a1</td><td>-0.262265</td></tr><tr><th>7</th><td>1</td><td>ID</td><td>a3</td><td>-0.164866</td></tr><tr><th>8</th><td>1</td><td>ID</td><td>a7</td><td>-0.102624</td></tr><tr><th>9</th><td>1</td><td>ID</td><td>a4</td><td>-1.85152</td></tr><tr><th>10</th><td>1</td><td>ID</td><td>a6</td><td>-0.128768</td></tr><tr><th>11</th><td>1</td><td>ID</td><td>a9</td><td>-1.04285</td></tr><tr><th>12</th><td>1</td><td>ID</td><td>a5</td><td>1.71926</td></tr><tr><th>13</th><td>1</td><td>ID</td><td>a10</td><td>0.716619</td></tr><tr><th>14</th><td>1</td><td>ID</td><td>a12</td><td>-0.24654</td></tr><tr><th>15</th><td>1</td><td>ID</td><td>a11</td><td>-0.240348</td></tr><tr><th>16</th><td>1</td><td>ID</td><td>a8</td><td>-0.938517</td></tr><tr><th>17</th><td>1</td><td>dam</td><td>a2</td><td>0.0691716</td></tr><tr><th>18</th><td>1</td><td>dam</td><td>a1</td><td>-0.0342922</td></tr><tr><th>19</th><td>1</td><td>dam</td><td>a3</td><td>0.000143189</td></tr><tr><th>20</th><td>1</td><td>dam</td><td>a7</td><td>0.045204</td></tr><tr><th>21</th><td>1</td><td>dam</td><td>a4</td><td>-0.0945277</td></tr><tr><th>22</th><td>1</td><td>dam</td><td>a6</td><td>-0.11511</td></tr><tr><th>23</th><td>1</td><td>dam</td><td>a9</td><td>-0.00888224</td></tr><tr><th>24</th><td>1</td><td>dam</td><td>a5</td><td>-0.030343</td></tr><tr><th>25</th><td>1</td><td>dam</td><td>a10</td><td>-0.0633645</td></tr><tr><th>26</th><td>1</td><td>dam</td><td>a12</td><td>-0.106989</td></tr><tr><th>27</th><td>1</td><td>dam</td><td>a11</td><td>-0.0948184</td></tr><tr><th>28</th><td>1</td><td>dam</td><td>a8</td><td>-0.0514069</td></tr><tr><th>29</th><td>2</td><td>intercept</td><td>intercept</td><td>-9.90938</td></tr><tr><th>30</th><td>2</td><td>x1</td><td>x1</td><td>0.523996</td></tr><tr><th>&vellip;</th><td>&vellip;</td><td>&vellip;</td><td>&vellip;</td><td>&vellip;</td></tr></tbody></table>"
      ],
      "text/latex": [
       "\\begin{tabular}{r|cccc}\n",
       "\t& Trait & Effect & Level & Estimate\\\\\n",
       "\t\\hline\n",
       "\t& Any & Any & Any & Any\\\\\n",
       "\t\\hline\n",
       "\t1 & 1 & intercept & intercept & -15.3736 \\\\\n",
       "\t2 & 1 & x1 & x1 & 0.733355 \\\\\n",
       "\t3 & 1 & x3 & m & 14.8988 \\\\\n",
       "\t4 & 1 & x3 & f & 12.7948 \\\\\n",
       "\t5 & 1 & ID & a2 & 0.162014 \\\\\n",
       "\t6 & 1 & ID & a1 & -0.262265 \\\\\n",
       "\t7 & 1 & ID & a3 & -0.164866 \\\\\n",
       "\t8 & 1 & ID & a7 & -0.102624 \\\\\n",
       "\t9 & 1 & ID & a4 & -1.85152 \\\\\n",
       "\t10 & 1 & ID & a6 & -0.128768 \\\\\n",
       "\t11 & 1 & ID & a9 & -1.04285 \\\\\n",
       "\t12 & 1 & ID & a5 & 1.71926 \\\\\n",
       "\t13 & 1 & ID & a10 & 0.716619 \\\\\n",
       "\t14 & 1 & ID & a12 & -0.24654 \\\\\n",
       "\t15 & 1 & ID & a11 & -0.240348 \\\\\n",
       "\t16 & 1 & ID & a8 & -0.938517 \\\\\n",
       "\t17 & 1 & dam & a2 & 0.0691716 \\\\\n",
       "\t18 & 1 & dam & a1 & -0.0342922 \\\\\n",
       "\t19 & 1 & dam & a3 & 0.000143189 \\\\\n",
       "\t20 & 1 & dam & a7 & 0.045204 \\\\\n",
       "\t21 & 1 & dam & a4 & -0.0945277 \\\\\n",
       "\t22 & 1 & dam & a6 & -0.11511 \\\\\n",
       "\t23 & 1 & dam & a9 & -0.00888224 \\\\\n",
       "\t24 & 1 & dam & a5 & -0.030343 \\\\\n",
       "\t25 & 1 & dam & a10 & -0.0633645 \\\\\n",
       "\t26 & 1 & dam & a12 & -0.106989 \\\\\n",
       "\t27 & 1 & dam & a11 & -0.0948184 \\\\\n",
       "\t28 & 1 & dam & a8 & -0.0514069 \\\\\n",
       "\t29 & 2 & intercept & intercept & -9.90938 \\\\\n",
       "\t30 & 2 & x1 & x1 & 0.523996 \\\\\n",
       "\t$\\dots$ & $\\dots$ & $\\dots$ & $\\dots$ & $\\dots$ \\\\\n",
       "\\end{tabular}\n"
      ],
      "text/plain": [
       "64×4 DataFrame\n",
       "│ Row │ Trait │ Effect    │ Level     │ Estimate  │\n",
       "│     │ \u001b[90mAny\u001b[39m   │ \u001b[90mAny\u001b[39m       │ \u001b[90mAny\u001b[39m       │ \u001b[90mAny\u001b[39m       │\n",
       "├─────┼───────┼───────────┼───────────┼───────────┤\n",
       "│ 1   │ 1     │ intercept │ intercept │ -15.3736  │\n",
       "│ 2   │ 1     │ x1        │ x1        │ 0.733355  │\n",
       "│ 3   │ 1     │ x3        │ m         │ 14.8988   │\n",
       "│ 4   │ 1     │ x3        │ f         │ 12.7948   │\n",
       "│ 5   │ 1     │ ID        │ a2        │ 0.162014  │\n",
       "│ 6   │ 1     │ ID        │ a1        │ -0.262265 │\n",
       "│ 7   │ 1     │ ID        │ a3        │ -0.164866 │\n",
       "│ 8   │ 1     │ ID        │ a7        │ -0.102624 │\n",
       "│ 9   │ 1     │ ID        │ a4        │ -1.85152  │\n",
       "│ 10  │ 1     │ ID        │ a6        │ -0.128768 │\n",
       "⋮\n",
       "│ 54  │ 3     │ ID        │ a1        │ 0.0255316 │\n",
       "│ 55  │ 3     │ ID        │ a3        │ 0.351545  │\n",
       "│ 56  │ 3     │ ID        │ a7        │ 0.228192  │\n",
       "│ 57  │ 3     │ ID        │ a4        │ 0.163164  │\n",
       "│ 58  │ 3     │ ID        │ a6        │ 0.126424  │\n",
       "│ 59  │ 3     │ ID        │ a9        │ 0.186683  │\n",
       "│ 60  │ 3     │ ID        │ a5        │ -0.302975 │\n",
       "│ 61  │ 3     │ ID        │ a10       │ 0.0486478 │\n",
       "│ 62  │ 3     │ ID        │ a12       │ 0.135108  │\n",
       "│ 63  │ 3     │ ID        │ a11       │ 0.115656  │\n",
       "│ 64  │ 3     │ ID        │ a8        │ 0.0997263 │"
      ]
     },
     "execution_count": 19,
     "metadata": {},
     "output_type": "execute_result"
    }
   ],
   "source": [
    "out2[\"Posterior mean of location parameters\"]"
   ]
  }
 ],
 "metadata": {
  "anaconda-cloud": {},
  "kernelspec": {
   "display_name": "Julia 1.1.0",
   "language": "julia",
   "name": "julia-1.1"
  },
  "language_info": {
   "file_extension": ".jl",
   "mimetype": "application/julia",
   "name": "julia",
   "version": "1.1.0"
  }
 },
 "nbformat": 4,
 "nbformat_minor": 2
}
