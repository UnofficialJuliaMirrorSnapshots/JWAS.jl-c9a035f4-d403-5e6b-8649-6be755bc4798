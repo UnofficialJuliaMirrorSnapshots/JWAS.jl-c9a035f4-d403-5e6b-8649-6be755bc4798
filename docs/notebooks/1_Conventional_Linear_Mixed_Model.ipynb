{
 "cells": [
  {
   "cell_type": "markdown",
   "metadata": {},
   "source": [
    "<ul class=\"breadcrumb\">\n",
    "  <li><a href=\"1_Conventional_Linear_Mixed_Model.ipynb\">Bayesian Linear Mixed Models (Conventional)</a></li>\n",
    "  <li><a href=\"2_Linear_Additive_Genetic_Model.ipynb\">Bayesian Linear Additive Genetic Model</a></li> \n",
    "  <li><a href=\"3_Genomic_Linear_Mixed_Model.ipynb\">Bayesian Linear Mixed Models (Genomic Data)</a></li>\n",
    "</ul>"
   ]
  },
  {
   "cell_type": "markdown",
   "metadata": {},
   "source": [
    "<div class=\"span5 alert alert-success\">\n",
    " <font size=\"5\" face=\"Georgia\">Bayesian Linear Mixed Models (Conventional)</font> \n",
    "</div>"
   ]
  },
  {
   "cell_type": "markdown",
   "metadata": {},
   "source": [
    "<button type=\"button\" class=\"btn btn-lg btn-primary\">Step 1: Load Packages</button> "
   ]
  },
  {
   "cell_type": "code",
   "execution_count": 25,
   "metadata": {},
   "outputs": [],
   "source": [
    "using JWAS,JWAS.Datasets,DataFrames,CSV"
   ]
  },
  {
   "cell_type": "markdown",
   "metadata": {},
   "source": [
    "<button type=\"button\" class=\"btn btn-lg btn-primary\">Step 2: Read data</button> "
   ]
  },
  {
   "cell_type": "code",
   "execution_count": 26,
   "metadata": {},
   "outputs": [],
   "source": [
    "phenofile  = Datasets.dataset(\"example\",\"phenotypes.txt\")\n",
    "phenotypes = CSV.read(phenofile,delim = ',',header=true,missingstrings=[\"NA\"]);"
   ]
  },
  {
   "cell_type": "code",
   "execution_count": 27,
   "metadata": {},
   "outputs": [
    {
     "data": {
      "text/html": [
       "<table class=\"data-frame\"><thead><tr><th></th><th>ID</th><th>y1</th><th>y2</th><th>y3</th><th>x1</th><th>x2</th><th>x3</th><th>dam</th></tr><tr><th></th><th>String</th><th>Float64⍰</th><th>Float64⍰</th><th>Float64⍰</th><th>Float64</th><th>Float64</th><th>String</th><th>String</th></tr></thead><tbody><p>5 rows × 8 columns</p><tr><th>1</th><td>a1</td><td>-0.06</td><td>3.58</td><td>-1.18</td><td>0.9</td><td>2.0</td><td>m</td><td>0</td></tr><tr><th>2</th><td>a3</td><td>-2.07</td><td>3.19</td><td>missing</td><td>0.7</td><td>2.0</td><td>f</td><td>0</td></tr><tr><th>3</th><td>a4</td><td>-2.63</td><td>6.97</td><td>-0.83</td><td>0.6</td><td>1.0</td><td>m</td><td>a2</td></tr><tr><th>4</th><td>a5</td><td>2.31</td><td>missing</td><td>-1.52</td><td>0.4</td><td>2.0</td><td>m</td><td>a2</td></tr><tr><th>5</th><td>a6</td><td>0.93</td><td>4.87</td><td>-0.01</td><td>5.0</td><td>2.0</td><td>f</td><td>a3</td></tr></tbody></table>"
      ],
      "text/latex": [
       "\\begin{tabular}{r|cccccccc}\n",
       "\t& ID & y1 & y2 & y3 & x1 & x2 & x3 & dam\\\\\n",
       "\t\\hline\n",
       "\t& String & Float64⍰ & Float64⍰ & Float64⍰ & Float64 & Float64 & String & String\\\\\n",
       "\t\\hline\n",
       "\t1 & a1 & -0.06 & 3.58 & -1.18 & 0.9 & 2.0 & m & 0 \\\\\n",
       "\t2 & a3 & -2.07 & 3.19 &  & 0.7 & 2.0 & f & 0 \\\\\n",
       "\t3 & a4 & -2.63 & 6.97 & -0.83 & 0.6 & 1.0 & m & a2 \\\\\n",
       "\t4 & a5 & 2.31 &  & -1.52 & 0.4 & 2.0 & m & a2 \\\\\n",
       "\t5 & a6 & 0.93 & 4.87 & -0.01 & 5.0 & 2.0 & f & a3 \\\\\n",
       "\\end{tabular}\n"
      ],
      "text/plain": [
       "5×8 DataFrame. Omitted printing of 1 columns\n",
       "│ Row │ ID     │ y1       │ y2       │ y3       │ x1      │ x2      │ x3     │\n",
       "│     │ \u001b[90mString\u001b[39m │ \u001b[90mFloat64⍰\u001b[39m │ \u001b[90mFloat64⍰\u001b[39m │ \u001b[90mFloat64⍰\u001b[39m │ \u001b[90mFloat64\u001b[39m │ \u001b[90mFloat64\u001b[39m │ \u001b[90mString\u001b[39m │\n",
       "├─────┼────────┼──────────┼──────────┼──────────┼─────────┼─────────┼────────┤\n",
       "│ 1   │ a1     │ -0.06    │ 3.58     │ -1.18    │ 0.9     │ 2.0     │ m      │\n",
       "│ 2   │ a3     │ -2.07    │ 3.19     │ \u001b[90mmissing\u001b[39m  │ 0.7     │ 2.0     │ f      │\n",
       "│ 3   │ a4     │ -2.63    │ 6.97     │ -0.83    │ 0.6     │ 1.0     │ m      │\n",
       "│ 4   │ a5     │ 2.31     │ \u001b[90mmissing\u001b[39m  │ -1.52    │ 0.4     │ 2.0     │ m      │\n",
       "│ 5   │ a6     │ 0.93     │ 4.87     │ -0.01    │ 5.0     │ 2.0     │ f      │"
      ]
     },
     "execution_count": 27,
     "metadata": {},
     "output_type": "execute_result"
    }
   ],
   "source": [
    "first(phenotypes,5)"
   ]
  },
  {
   "cell_type": "markdown",
   "metadata": {},
   "source": [
    "<div class=\"span5 alert alert-success\">\n",
    " <font size=\"5\" face=\"Georgia\">Univariate Linear Mixed Models (Conventional)</font> \n",
    "</div>"
   ]
  },
  {
   "cell_type": "markdown",
   "metadata": {},
   "source": [
    "<button type=\"button\" class=\"btn btn-lg btn-primary\">Step 3: Build Model Equations</button> "
   ]
  },
  {
   "cell_type": "code",
   "execution_count": 28,
   "metadata": {},
   "outputs": [],
   "source": [
    "model_equation1  =\"y1 = intercept + x1*x3 + x2 + x3\";"
   ]
  },
  {
   "cell_type": "code",
   "execution_count": 29,
   "metadata": {},
   "outputs": [],
   "source": [
    "R      = 1.0\n",
    "model1 = build_model(model_equation1,R);"
   ]
  },
  {
   "cell_type": "markdown",
   "metadata": {},
   "source": [
    "<button type=\"button\" class=\"btn btn-lg btn-primary\">Step 4: Set Factors or Covariates</button> "
   ]
  },
  {
   "cell_type": "code",
   "execution_count": 30,
   "metadata": {},
   "outputs": [],
   "source": [
    "set_covariate(model1,\"x1\");"
   ]
  },
  {
   "cell_type": "markdown",
   "metadata": {},
   "source": [
    "<button type=\"button\" class=\"btn btn-lg btn-primary\">Step 5: Set Random or Fixed Effects</button> "
   ]
  },
  {
   "cell_type": "code",
   "execution_count": 31,
   "metadata": {},
   "outputs": [],
   "source": [
    "G1 = 1.0\n",
    "G2 = [1.0 0.5\n",
    "      0.5 1.0]\n",
    "set_random(model1,\"x2\",G1);"
   ]
  },
  {
   "cell_type": "markdown",
   "metadata": {},
   "source": [
    "<button type=\"button\" class=\"btn btn-lg btn-primary\">Step 6:Run Analysis</button> "
   ]
  },
  {
   "cell_type": "code",
   "execution_count": 32,
   "metadata": {},
   "outputs": [
    {
     "name": "stdout",
     "output_type": "stream",
     "text": [
      "\u001b[32mChecking phenotypes...\u001b[39m\n",
      "\u001b[32mIndividual IDs (strings) are provided in the first column of the phenotypic data.\u001b[39m\n",
      "\u001b[31mPhenotypes for all traits included in the model for individual a7 in the row 6 are missing. This record is deleted\u001b[39m\n",
      "\n",
      "\u001b[0m\u001b[1mA Linear Mixed Model was build using model equations:\u001b[22m\n",
      "\n",
      "y1 = intercept + x1*x3 + x2 + x3\n",
      "\n",
      "\u001b[0m\u001b[1mModel Information:\u001b[22m\n",
      "\n",
      "Term            C/F          F/R            nLevels\n",
      "intercept       factor       fixed                1\n",
      "x1*x3           interaction  fixed                2\n",
      "x2              factor       random               2\n",
      "x3              factor       fixed                2\n",
      "\n",
      "\u001b[0m\u001b[1mMCMC Information:\u001b[22m\n",
      "\n",
      "methods                   conventional (no markers)\n",
      "chain_length                                   5000\n",
      "burnin                                            0\n",
      "estimateScale                                 false\n",
      "starting_value                                false\n",
      "printout_frequency                             5001\n",
      "output_samples_frequency                        100\n",
      "constraint                                    false\n",
      "missing_phenotypes                             true\n",
      "update_priors_frequency                           0\n",
      "seed                                          false\n",
      "\n",
      "\u001b[0m\u001b[1mHyper-parameters Information:\u001b[22m\n",
      "\n",
      "random effect variances (x2):                 [1.0]\n",
      "residual variances:                           1.000\n",
      "\n",
      "\u001b[0m\u001b[1mDegree of freedom for hyper-parameters:\u001b[22m\n",
      "\n",
      "residual variances:                           4.000\n",
      "iid random effect variances:                  5.000\n",
      "\n",
      "\n",
      "\n",
      "\u001b[31mThe file MCMC_samples_residual_variance.txt already exists!!! It is overwritten by the new output.\u001b[39m\n",
      "\u001b[31mThe file MCMC_samples_x2_variances.txt already exists!!! It is overwritten by the new output.\u001b[39m\n",
      "\n",
      "\n",
      "\u001b[0m\u001b[1mThe version of Julia and Platform in use:\u001b[22m\n",
      "\n",
      "Julia Version 1.2.0\n",
      "Commit c6da87ff4b (2019-08-20 00:03 UTC)\n",
      "Platform Info:\n",
      "  OS: macOS (x86_64-apple-darwin18.6.0)\n",
      "  CPU: Intel(R) Core(TM) i7-8559U CPU @ 2.70GHz\n",
      "  WORD_SIZE: 64\n",
      "  LIBM: libopenlibm\n",
      "  LLVM: libLLVM-6.0.1 (ORCJIT, skylake)\n",
      "\n",
      "\n",
      "\u001b[0m\u001b[1mThe analysis has finished. Results are saved in the returned \u001b[22m\u001b[0m\u001b[1mvariable and text files. MCMC samples are saved in text files.\u001b[22m\n",
      "\n",
      "\n"
     ]
    }
   ],
   "source": [
    "out1=runMCMC(model1,phenotypes,chain_length=5000,output_samples_frequency=100);"
   ]
  },
  {
   "cell_type": "markdown",
   "metadata": {},
   "source": [
    "<button type=\"button\" class=\"btn btn-lg btn-primary\">Check Results</button> "
   ]
  },
  {
   "cell_type": "code",
   "execution_count": 33,
   "metadata": {},
   "outputs": [
    {
     "data": {
      "text/plain": [
       "Base.KeySet for a Dict{Any,Any} with 2 entries. Keys:\n",
       "  \"location parameters\"\n",
       "  \"residual variance\""
      ]
     },
     "execution_count": 33,
     "metadata": {},
     "output_type": "execute_result"
    }
   ],
   "source": [
    "keys(out1)"
   ]
  },
  {
   "cell_type": "code",
   "execution_count": 34,
   "metadata": {},
   "outputs": [
    {
     "data": {
      "text/html": [
       "<table class=\"data-frame\"><thead><tr><th></th><th>Trait</th><th>Effect</th><th>Level</th><th>Estimate</th><th>Std_Error</th></tr><tr><th></th><th>Any</th><th>Any</th><th>Any</th><th>Any</th><th>Any</th></tr></thead><tbody><p>7 rows × 5 columns</p><tr><th>1</th><td>y1</td><td>intercept</td><td>intercept</td><td>-7.21687</td><td>22.4309</td></tr><tr><th>2</th><td>y1</td><td>x1*x3</td><td>x1 * m</td><td>-4.33681</td><td>3.67413</td></tr><tr><th>3</th><td>y1</td><td>x1*x3</td><td>x1 * f</td><td>0.742673</td><td>0.419367</td></tr><tr><th>4</th><td>y1</td><td>x2</td><td>2.0</td><td>0.880238</td><td>0.868359</td></tr><tr><th>5</th><td>y1</td><td>x2</td><td>1.0</td><td>-1.1367</td><td>1.11171</td></tr><tr><th>6</th><td>y1</td><td>x3</td><td>m</td><td>9.59467</td><td>22.5576</td></tr><tr><th>7</th><td>y1</td><td>x3</td><td>f</td><td>3.60338</td><td>22.5968</td></tr></tbody></table>"
      ],
      "text/latex": [
       "\\begin{tabular}{r|ccccc}\n",
       "\t& Trait & Effect & Level & Estimate & Std\\_Error\\\\\n",
       "\t\\hline\n",
       "\t& Any & Any & Any & Any & Any\\\\\n",
       "\t\\hline\n",
       "\t1 & y1 & intercept & intercept & -7.21687 & 22.4309 \\\\\n",
       "\t2 & y1 & x1*x3 & x1 * m & -4.33681 & 3.67413 \\\\\n",
       "\t3 & y1 & x1*x3 & x1 * f & 0.742673 & 0.419367 \\\\\n",
       "\t4 & y1 & x2 & 2.0 & 0.880238 & 0.868359 \\\\\n",
       "\t5 & y1 & x2 & 1.0 & -1.1367 & 1.11171 \\\\\n",
       "\t6 & y1 & x3 & m & 9.59467 & 22.5576 \\\\\n",
       "\t7 & y1 & x3 & f & 3.60338 & 22.5968 \\\\\n",
       "\\end{tabular}\n"
      ],
      "text/plain": [
       "7×5 DataFrame\n",
       "│ Row │ Trait │ Effect    │ Level     │ Estimate │ Std_Error │\n",
       "│     │ \u001b[90mAny\u001b[39m   │ \u001b[90mAny\u001b[39m       │ \u001b[90mAny\u001b[39m       │ \u001b[90mAny\u001b[39m      │ \u001b[90mAny\u001b[39m       │\n",
       "├─────┼───────┼───────────┼───────────┼──────────┼───────────┤\n",
       "│ 1   │ y1    │ intercept │ intercept │ -7.21687 │ 22.4309   │\n",
       "│ 2   │ y1    │ x1*x3     │ x1 * m    │ -4.33681 │ 3.67413   │\n",
       "│ 3   │ y1    │ x1*x3     │ x1 * f    │ 0.742673 │ 0.419367  │\n",
       "│ 4   │ y1    │ x2        │ 2.0       │ 0.880238 │ 0.868359  │\n",
       "│ 5   │ y1    │ x2        │ 1.0       │ -1.1367  │ 1.11171   │\n",
       "│ 6   │ y1    │ x3        │ m         │ 9.59467  │ 22.5576   │\n",
       "│ 7   │ y1    │ x3        │ f         │ 3.60338  │ 22.5968   │"
      ]
     },
     "execution_count": 34,
     "metadata": {},
     "output_type": "execute_result"
    }
   ],
   "source": [
    "out1[\"location parameters\"]"
   ]
  },
  {
   "cell_type": "code",
   "execution_count": 35,
   "metadata": {},
   "outputs": [
    {
     "data": {
      "text/html": [
       "<table class=\"data-frame\"><thead><tr><th></th><th>Covariance</th><th>Estimate</th><th>Std_Error</th></tr><tr><th></th><th>Any</th><th>Any</th><th>Any</th></tr></thead><tbody><p>1 rows × 3 columns</p><tr><th>1</th><td>y1_y1</td><td>2.13306</td><td>2.31544</td></tr></tbody></table>"
      ],
      "text/latex": [
       "\\begin{tabular}{r|ccc}\n",
       "\t& Covariance & Estimate & Std\\_Error\\\\\n",
       "\t\\hline\n",
       "\t& Any & Any & Any\\\\\n",
       "\t\\hline\n",
       "\t1 & y1\\_y1 & 2.13306 & 2.31544 \\\\\n",
       "\\end{tabular}\n"
      ],
      "text/plain": [
       "1×3 DataFrame\n",
       "│ Row │ Covariance │ Estimate │ Std_Error │\n",
       "│     │ \u001b[90mAny\u001b[39m        │ \u001b[90mAny\u001b[39m      │ \u001b[90mAny\u001b[39m       │\n",
       "├─────┼────────────┼──────────┼───────────┤\n",
       "│ 1   │ y1_y1      │ 2.13306  │ 2.31544   │"
      ]
     },
     "execution_count": 35,
     "metadata": {},
     "output_type": "execute_result"
    }
   ],
   "source": [
    "out1[\"residual variance\"]"
   ]
  },
  {
   "cell_type": "markdown",
   "metadata": {},
   "source": [
    "<div class=\"span5 alert alert-success\">\n",
    " <font size=\"5\" face=\"Georgia\">Multivariate Linear Mixed Models (Conventional)</font> \n",
    "</div>"
   ]
  },
  {
   "cell_type": "markdown",
   "metadata": {},
   "source": [
    "<button type=\"button\" class=\"btn btn-lg btn-primary\">Step 3: Build Model Equations</button> "
   ]
  },
  {
   "cell_type": "code",
   "execution_count": 36,
   "metadata": {},
   "outputs": [],
   "source": [
    "model_equation2 =\"y1 = intercept + x1 + x3\n",
    "                  y2 = intercept + x1 + x2 + x3\n",
    "                  y3 = intercept + x1 + x1*x3 + x2\";"
   ]
  },
  {
   "cell_type": "code",
   "execution_count": 37,
   "metadata": {},
   "outputs": [],
   "source": [
    "R      = [1.0 0.5 0.5\n",
    "          0.5 1.0 0.5\n",
    "          0.5 0.5 1.0]\n",
    "model2 = build_model(model_equation2,R);"
   ]
  },
  {
   "cell_type": "markdown",
   "metadata": {},
   "source": [
    "<button type=\"button\" class=\"btn btn-lg btn-primary\">Step 4: Set Factors or Covariates</button> "
   ]
  },
  {
   "cell_type": "code",
   "execution_count": 38,
   "metadata": {},
   "outputs": [],
   "source": [
    "set_covariate(model2,\"x1\");"
   ]
  },
  {
   "cell_type": "markdown",
   "metadata": {},
   "source": [
    "<button type=\"button\" class=\"btn btn-lg btn-primary\">Step 5: Set Random or Fixed Effects</button> "
   ]
  },
  {
   "cell_type": "code",
   "execution_count": 39,
   "metadata": {},
   "outputs": [
    {
     "name": "stdout",
     "output_type": "stream",
     "text": [
      "\u001b[32mx2 is not found in model equation 1.\u001b[39m\n"
     ]
    }
   ],
   "source": [
    "G1 = [1.0 0.5\n",
    "      0.5 1.0]\n",
    "G2 = [1.0 0.5 0.5 0.5\n",
    "      0.5 1.0 0.5 0.5\n",
    "      0.5 0.5 1.0 0.5\n",
    "      0.5 0.5 0.5 1.0]\n",
    "set_random(model2,\"x2\",G1);"
   ]
  },
  {
   "cell_type": "markdown",
   "metadata": {},
   "source": [
    "<button type=\"button\" class=\"btn btn-lg btn-primary\">Step 6: Run Analysis</button> "
   ]
  },
  {
   "cell_type": "code",
   "execution_count": 40,
   "metadata": {},
   "outputs": [
    {
     "name": "stdout",
     "output_type": "stream",
     "text": [
      "\u001b[32mChecking phenotypes...\u001b[39m\n",
      "\u001b[32mIndividual IDs (strings) are provided in the first column of the phenotypic data.\u001b[39m\n",
      "\u001b[31mPhenotypes for all traits included in the model for individual a7 in the row 6 are missing. This record is deleted\u001b[39m\n",
      "\n",
      "\u001b[0m\u001b[1mA Linear Mixed Model was build using model equations:\u001b[22m\n",
      "\n",
      "y1 = intercept + x1 + x3\n",
      "y2 = intercept + x1 + x2 + x3\n",
      "y3 = intercept + x1 + x1*x3 + x2\n",
      "\n",
      "\u001b[0m\u001b[1mModel Information:\u001b[22m\n",
      "\n",
      "Term            C/F          F/R            nLevels\n",
      "intercept       factor       fixed                1\n",
      "x1              covariate    fixed                1\n",
      "x3              factor       fixed                2\n",
      "x2              factor       random               2\n",
      "x1*x3           interaction  fixed                2\n",
      "\n",
      "\u001b[0m\u001b[1mMCMC Information:\u001b[22m\n",
      "\n",
      "methods                   conventional (no markers)\n",
      "chain_length                                   5000\n",
      "burnin                                            0\n",
      "estimateScale                                 false\n",
      "starting_value                                false\n",
      "printout_frequency                             5001\n",
      "output_samples_frequency                        100\n",
      "constraint                                    false\n",
      "missing_phenotypes                             true\n",
      "update_priors_frequency                           0\n",
      "seed                                          false\n",
      "\n",
      "\u001b[0m\u001b[1mHyper-parameters Information:\u001b[22m\n",
      "\n",
      "random effect variances (x2): \n",
      " 1.0  0.5\n",
      " 0.5  1.0\n",
      "residual variances:           \n",
      " 1.0  0.5  0.5\n",
      " 0.5  1.0  0.5\n",
      " 0.5  0.5  1.0\n",
      "\n",
      "\u001b[0m\u001b[1mDegree of freedom for hyper-parameters:\u001b[22m\n",
      "\n",
      "residual variances:                           4.000\n",
      "iid random effect variances:                  6.000\n",
      "\n",
      "\n",
      "\n",
      "\u001b[31mThe file MCMC_samples_residual_variance.txt already exists!!! It is overwritten by the new output.\u001b[39m\n",
      "\u001b[31mThe file MCMC_samples_x2_variances.txt already exists!!! It is overwritten by the new output.\u001b[39m\n"
     ]
    },
    {
     "name": "stderr",
     "output_type": "stream",
     "text": [
      "\u001b[32mrunning MCMC for conventional (no markers)...100%|██████| Time: 0:00:00\u001b[39m\n"
     ]
    },
    {
     "name": "stdout",
     "output_type": "stream",
     "text": [
      "\n",
      "\n",
      "\u001b[0m\u001b[1mThe version of Julia and Platform in use:\u001b[22m\n",
      "\n",
      "Julia Version 1.2.0\n",
      "Commit c6da87ff4b (2019-08-20 00:03 UTC)\n",
      "Platform Info:\n",
      "  OS: macOS (x86_64-apple-darwin18.6.0)\n",
      "  CPU: Intel(R) Core(TM) i7-8559U CPU @ 2.70GHz\n",
      "  WORD_SIZE: 64\n",
      "  LIBM: libopenlibm\n",
      "  LLVM: libLLVM-6.0.1 (ORCJIT, skylake)\n",
      "\n",
      "\n",
      "\u001b[0m\u001b[1mThe analysis has finished. Results are saved in the returned \u001b[22m\u001b[0m\u001b[1mvariable and text files. MCMC samples are saved in text files.\u001b[22m\n",
      "\n",
      "\n"
     ]
    }
   ],
   "source": [
    "out2=runMCMC(model2,phenotypes,chain_length=5000,output_samples_frequency=100);"
   ]
  },
  {
   "cell_type": "markdown",
   "metadata": {},
   "source": [
    "<button type=\"button\" class=\"btn btn-lg btn-primary\">Check Results</button> "
   ]
  },
  {
   "cell_type": "code",
   "execution_count": 41,
   "metadata": {},
   "outputs": [
    {
     "data": {
      "text/plain": [
       "Base.KeySet for a Dict{Any,Any} with 2 entries. Keys:\n",
       "  \"location parameters\"\n",
       "  \"residual variance\""
      ]
     },
     "execution_count": 41,
     "metadata": {},
     "output_type": "execute_result"
    }
   ],
   "source": [
    "keys(out2)"
   ]
  },
  {
   "cell_type": "code",
   "execution_count": 42,
   "metadata": {},
   "outputs": [
    {
     "data": {
      "text/html": [
       "<table class=\"data-frame\"><thead><tr><th></th><th>Trait</th><th>Effect</th><th>Level</th><th>Estimate</th><th>Std_Error</th></tr><tr><th></th><th>Any</th><th>Any</th><th>Any</th><th>Any</th><th>Any</th></tr></thead><tbody><p>16 rows × 5 columns</p><tr><th>1</th><td>y1</td><td>intercept</td><td>intercept</td><td>-21.5325</td><td>missing</td></tr><tr><th>2</th><td>y1</td><td>x1</td><td>x1</td><td>0.618332</td><td>missing</td></tr><tr><th>3</th><td>y1</td><td>x3</td><td>m</td><td>21.0722</td><td>missing</td></tr><tr><th>4</th><td>y1</td><td>x3</td><td>f</td><td>19.2383</td><td>missing</td></tr><tr><th>5</th><td>y2</td><td>intercept</td><td>intercept</td><td>19.7454</td><td>missing</td></tr><tr><th>6</th><td>y2</td><td>x1</td><td>x1</td><td>0.380775</td><td>missing</td></tr><tr><th>7</th><td>y2</td><td>x2</td><td>2.0</td><td>-1.27043</td><td>missing</td></tr><tr><th>8</th><td>y2</td><td>x2</td><td>1.0</td><td>1.00834</td><td>missing</td></tr><tr><th>9</th><td>y2</td><td>x3</td><td>m</td><td>-14.6048</td><td>missing</td></tr><tr><th>10</th><td>y2</td><td>x3</td><td>f</td><td>-15.4893</td><td>missing</td></tr><tr><th>11</th><td>y3</td><td>intercept</td><td>intercept</td><td>-2.40569</td><td>missing</td></tr><tr><th>12</th><td>y3</td><td>x1</td><td>x1</td><td>5.92235</td><td>missing</td></tr><tr><th>13</th><td>y3</td><td>x1*x3</td><td>x1 * m</td><td>-3.46818</td><td>missing</td></tr><tr><th>14</th><td>y3</td><td>x1*x3</td><td>x1 * f</td><td>-5.30133</td><td>missing</td></tr><tr><th>15</th><td>y3</td><td>x2</td><td>2.0</td><td>-0.718058</td><td>missing</td></tr><tr><th>16</th><td>y3</td><td>x2</td><td>1.0</td><td>0.52935</td><td>missing</td></tr></tbody></table>"
      ],
      "text/latex": [
       "\\begin{tabular}{r|ccccc}\n",
       "\t& Trait & Effect & Level & Estimate & Std\\_Error\\\\\n",
       "\t\\hline\n",
       "\t& Any & Any & Any & Any & Any\\\\\n",
       "\t\\hline\n",
       "\t1 & y1 & intercept & intercept & -21.5325 &  \\\\\n",
       "\t2 & y1 & x1 & x1 & 0.618332 &  \\\\\n",
       "\t3 & y1 & x3 & m & 21.0722 &  \\\\\n",
       "\t4 & y1 & x3 & f & 19.2383 &  \\\\\n",
       "\t5 & y2 & intercept & intercept & 19.7454 &  \\\\\n",
       "\t6 & y2 & x1 & x1 & 0.380775 &  \\\\\n",
       "\t7 & y2 & x2 & 2.0 & -1.27043 &  \\\\\n",
       "\t8 & y2 & x2 & 1.0 & 1.00834 &  \\\\\n",
       "\t9 & y2 & x3 & m & -14.6048 &  \\\\\n",
       "\t10 & y2 & x3 & f & -15.4893 &  \\\\\n",
       "\t11 & y3 & intercept & intercept & -2.40569 &  \\\\\n",
       "\t12 & y3 & x1 & x1 & 5.92235 &  \\\\\n",
       "\t13 & y3 & x1*x3 & x1 * m & -3.46818 &  \\\\\n",
       "\t14 & y3 & x1*x3 & x1 * f & -5.30133 &  \\\\\n",
       "\t15 & y3 & x2 & 2.0 & -0.718058 &  \\\\\n",
       "\t16 & y3 & x2 & 1.0 & 0.52935 &  \\\\\n",
       "\\end{tabular}\n"
      ],
      "text/plain": [
       "16×5 DataFrame\n",
       "│ Row │ Trait │ Effect    │ Level     │ Estimate  │ Std_Error │\n",
       "│     │ \u001b[90mAny\u001b[39m   │ \u001b[90mAny\u001b[39m       │ \u001b[90mAny\u001b[39m       │ \u001b[90mAny\u001b[39m       │ \u001b[90mAny\u001b[39m       │\n",
       "├─────┼───────┼───────────┼───────────┼───────────┼───────────┤\n",
       "│ 1   │ y1    │ intercept │ intercept │ -21.5325  │ \u001b[90mmissing\u001b[39m   │\n",
       "│ 2   │ y1    │ x1        │ x1        │ 0.618332  │ \u001b[90mmissing\u001b[39m   │\n",
       "│ 3   │ y1    │ x3        │ m         │ 21.0722   │ \u001b[90mmissing\u001b[39m   │\n",
       "│ 4   │ y1    │ x3        │ f         │ 19.2383   │ \u001b[90mmissing\u001b[39m   │\n",
       "│ 5   │ y2    │ intercept │ intercept │ 19.7454   │ \u001b[90mmissing\u001b[39m   │\n",
       "│ 6   │ y2    │ x1        │ x1        │ 0.380775  │ \u001b[90mmissing\u001b[39m   │\n",
       "│ 7   │ y2    │ x2        │ 2.0       │ -1.27043  │ \u001b[90mmissing\u001b[39m   │\n",
       "│ 8   │ y2    │ x2        │ 1.0       │ 1.00834   │ \u001b[90mmissing\u001b[39m   │\n",
       "│ 9   │ y2    │ x3        │ m         │ -14.6048  │ \u001b[90mmissing\u001b[39m   │\n",
       "│ 10  │ y2    │ x3        │ f         │ -15.4893  │ \u001b[90mmissing\u001b[39m   │\n",
       "│ 11  │ y3    │ intercept │ intercept │ -2.40569  │ \u001b[90mmissing\u001b[39m   │\n",
       "│ 12  │ y3    │ x1        │ x1        │ 5.92235   │ \u001b[90mmissing\u001b[39m   │\n",
       "│ 13  │ y3    │ x1*x3     │ x1 * m    │ -3.46818  │ \u001b[90mmissing\u001b[39m   │\n",
       "│ 14  │ y3    │ x1*x3     │ x1 * f    │ -5.30133  │ \u001b[90mmissing\u001b[39m   │\n",
       "│ 15  │ y3    │ x2        │ 2.0       │ -0.718058 │ \u001b[90mmissing\u001b[39m   │\n",
       "│ 16  │ y3    │ x2        │ 1.0       │ 0.52935   │ \u001b[90mmissing\u001b[39m   │"
      ]
     },
     "execution_count": 42,
     "metadata": {},
     "output_type": "execute_result"
    }
   ],
   "source": [
    "out2[\"location parameters\"]"
   ]
  },
  {
   "cell_type": "code",
   "execution_count": 43,
   "metadata": {},
   "outputs": [
    {
     "data": {
      "text/html": [
       "<table class=\"data-frame\"><thead><tr><th></th><th>Covariance</th><th>Estimate</th><th>Std_Error</th></tr><tr><th></th><th>Any</th><th>Any</th><th>Any</th></tr></thead><tbody><p>9 rows × 3 columns</p><tr><th>1</th><td>y1_y1</td><td>3.19361</td><td>missing</td></tr><tr><th>2</th><td>y1_y2</td><td>0.00643565</td><td>missing</td></tr><tr><th>3</th><td>y1_y3</td><td>0.83756</td><td>missing</td></tr><tr><th>4</th><td>y2_y1</td><td>0.00643565</td><td>missing</td></tr><tr><th>5</th><td>y2_y2</td><td>1.56534</td><td>missing</td></tr><tr><th>6</th><td>y2_y3</td><td>0.604375</td><td>missing</td></tr><tr><th>7</th><td>y3_y1</td><td>0.83756</td><td>missing</td></tr><tr><th>8</th><td>y3_y2</td><td>0.604375</td><td>missing</td></tr><tr><th>9</th><td>y3_y3</td><td>1.20148</td><td>missing</td></tr></tbody></table>"
      ],
      "text/latex": [
       "\\begin{tabular}{r|ccc}\n",
       "\t& Covariance & Estimate & Std\\_Error\\\\\n",
       "\t\\hline\n",
       "\t& Any & Any & Any\\\\\n",
       "\t\\hline\n",
       "\t1 & y1\\_y1 & 3.19361 &  \\\\\n",
       "\t2 & y1\\_y2 & 0.00643565 &  \\\\\n",
       "\t3 & y1\\_y3 & 0.83756 &  \\\\\n",
       "\t4 & y2\\_y1 & 0.00643565 &  \\\\\n",
       "\t5 & y2\\_y2 & 1.56534 &  \\\\\n",
       "\t6 & y2\\_y3 & 0.604375 &  \\\\\n",
       "\t7 & y3\\_y1 & 0.83756 &  \\\\\n",
       "\t8 & y3\\_y2 & 0.604375 &  \\\\\n",
       "\t9 & y3\\_y3 & 1.20148 &  \\\\\n",
       "\\end{tabular}\n"
      ],
      "text/plain": [
       "9×3 DataFrame\n",
       "│ Row │ Covariance │ Estimate   │ Std_Error │\n",
       "│     │ \u001b[90mAny\u001b[39m        │ \u001b[90mAny\u001b[39m        │ \u001b[90mAny\u001b[39m       │\n",
       "├─────┼────────────┼────────────┼───────────┤\n",
       "│ 1   │ y1_y1      │ 3.19361    │ \u001b[90mmissing\u001b[39m   │\n",
       "│ 2   │ y1_y2      │ 0.00643565 │ \u001b[90mmissing\u001b[39m   │\n",
       "│ 3   │ y1_y3      │ 0.83756    │ \u001b[90mmissing\u001b[39m   │\n",
       "│ 4   │ y2_y1      │ 0.00643565 │ \u001b[90mmissing\u001b[39m   │\n",
       "│ 5   │ y2_y2      │ 1.56534    │ \u001b[90mmissing\u001b[39m   │\n",
       "│ 6   │ y2_y3      │ 0.604375   │ \u001b[90mmissing\u001b[39m   │\n",
       "│ 7   │ y3_y1      │ 0.83756    │ \u001b[90mmissing\u001b[39m   │\n",
       "│ 8   │ y3_y2      │ 0.604375   │ \u001b[90mmissing\u001b[39m   │\n",
       "│ 9   │ y3_y3      │ 1.20148    │ \u001b[90mmissing\u001b[39m   │"
      ]
     },
     "execution_count": 43,
     "metadata": {},
     "output_type": "execute_result"
    }
   ],
   "source": [
    "out2[\"residual variance\"]"
   ]
  },
  {
   "cell_type": "code",
   "execution_count": null,
   "metadata": {},
   "outputs": [],
   "source": []
  }
 ],
 "metadata": {
  "anaconda-cloud": {},
  "kernelspec": {
   "display_name": "Julia 1.2.0",
   "language": "julia",
   "name": "julia-1.2"
  },
  "language_info": {
   "file_extension": ".jl",
   "mimetype": "application/julia",
   "name": "julia",
   "version": "1.2.0"
  }
 },
 "nbformat": 4,
 "nbformat_minor": 2
}
