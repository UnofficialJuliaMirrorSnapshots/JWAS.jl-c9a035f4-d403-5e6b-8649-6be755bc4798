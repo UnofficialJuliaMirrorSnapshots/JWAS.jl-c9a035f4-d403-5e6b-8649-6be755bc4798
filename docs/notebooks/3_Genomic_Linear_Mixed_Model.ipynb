{
 "cells": [
  {
   "cell_type": "markdown",
   "metadata": {},
   "source": [
    "<ul class=\"breadcrumb\">\n",
    "  <li><a href=\"1_Conventional_Linear_Mixed_Model.ipynb\">Bayesian Linear Mixed Models (Conventional)</a></li>\n",
    "  <li><a href=\"2_Linear_Additive_Genetic_Model.ipynb\">Bayesian Linear Additive Genetic Model</a></li> \n",
    "  <li><a href=\"3_Genomic_Linear_Mixed_Model.ipynb\">Bayesian Linear Mixed Models (Genomic Data)</a></li>\n",
    "</ul>"
   ]
  },
  {
   "cell_type": "markdown",
   "metadata": {},
   "source": [
    "<div class=\"span5 alert alert-success\">\n",
    " <font size=\"5\" face=\"Georgia\">Bayesian Linear Mixed Models (Genomic Data)</font> \n",
    "</div>"
   ]
  },
  {
   "cell_type": "markdown",
   "metadata": {},
   "source": [
    "<button type=\"button\" class=\"btn btn-lg btn-primary\">Step 1: Load Packages</button> "
   ]
  },
  {
   "cell_type": "code",
   "execution_count": 1,
   "metadata": {},
   "outputs": [],
   "source": [
    "using JWAS,JWAS.Datasets,DataFrames,CSV"
   ]
  },
  {
   "cell_type": "markdown",
   "metadata": {},
   "source": [
    "<button type=\"button\" class=\"btn btn-lg btn-primary\">Step 2: Read data</button> "
   ]
  },
  {
   "cell_type": "code",
   "execution_count": 2,
   "metadata": {},
   "outputs": [
    {
     "name": "stdout",
     "output_type": "stream",
     "text": [
      "Finished!\n"
     ]
    }
   ],
   "source": [
    "phenofile  = Datasets.dataset(\"example\",\"phenotypes.txt\")\n",
    "pedfile    = Datasets.dataset(\"example\",\"pedigree.txt\")\n",
    "genofile   = Datasets.dataset(\"example\",\"genotypes.txt\")\n",
    "\n",
    "phenotypes = CSV.read(phenofile,delim = ',',header=true)\n",
    "pedigree   = get_pedigree(pedfile,separator=\",\",header=true);"
   ]
  },
  {
   "cell_type": "code",
   "execution_count": 3,
   "metadata": {},
   "outputs": [
    {
     "data": {
      "text/html": [
       "<table class=\"data-frame\"><thead><tr><th></th><th>ID</th><th>y1</th><th>y2</th><th>y3</th><th>x1</th><th>x2</th><th>x3</th><th>dam</th></tr><tr><th></th><th>String⍰</th><th>Float64⍰</th><th>Float64⍰</th><th>Float64⍰</th><th>Float64⍰</th><th>Int64⍰</th><th>String⍰</th><th>String⍰</th></tr></thead><tbody><p>5 rows × 8 columns</p><tr><th>1</th><td>a1</td><td>-0.06</td><td>3.58</td><td>-1.18</td><td>0.9</td><td>2</td><td>m</td><td>0</td></tr><tr><th>2</th><td>a3</td><td>-2.07</td><td>3.19</td><td>0.73</td><td>0.7</td><td>2</td><td>f</td><td>0</td></tr><tr><th>3</th><td>a4</td><td>-2.63</td><td>6.97</td><td>-0.83</td><td>0.6</td><td>1</td><td>m</td><td>a2</td></tr><tr><th>4</th><td>a5</td><td>2.31</td><td>3.5</td><td>-1.52</td><td>0.4</td><td>2</td><td>m</td><td>a2</td></tr><tr><th>5</th><td>a6</td><td>0.93</td><td>4.87</td><td>-0.01</td><td>5.0</td><td>2</td><td>f</td><td>a3</td></tr></tbody></table>"
      ],
      "text/latex": [
       "\\begin{tabular}{r|cccccccc}\n",
       "\t& ID & y1 & y2 & y3 & x1 & x2 & x3 & dam\\\\\n",
       "\t\\hline\n",
       "\t& String⍰ & Float64⍰ & Float64⍰ & Float64⍰ & Float64⍰ & Int64⍰ & String⍰ & String⍰\\\\\n",
       "\t\\hline\n",
       "\t1 & a1 & -0.06 & 3.58 & -1.18 & 0.9 & 2 & m & 0 \\\\\n",
       "\t2 & a3 & -2.07 & 3.19 & 0.73 & 0.7 & 2 & f & 0 \\\\\n",
       "\t3 & a4 & -2.63 & 6.97 & -0.83 & 0.6 & 1 & m & a2 \\\\\n",
       "\t4 & a5 & 2.31 & 3.5 & -1.52 & 0.4 & 2 & m & a2 \\\\\n",
       "\t5 & a6 & 0.93 & 4.87 & -0.01 & 5.0 & 2 & f & a3 \\\\\n",
       "\\end{tabular}\n"
      ],
      "text/plain": [
       "5×8 DataFrame. Omitted printing of 1 columns\n",
       "│ Row │ ID      │ y1       │ y2       │ y3       │ x1       │ x2     │ x3      │\n",
       "│     │ \u001b[90mString⍰\u001b[39m │ \u001b[90mFloat64⍰\u001b[39m │ \u001b[90mFloat64⍰\u001b[39m │ \u001b[90mFloat64⍰\u001b[39m │ \u001b[90mFloat64⍰\u001b[39m │ \u001b[90mInt64⍰\u001b[39m │ \u001b[90mString⍰\u001b[39m │\n",
       "├─────┼─────────┼──────────┼──────────┼──────────┼──────────┼────────┼─────────┤\n",
       "│ 1   │ a1      │ -0.06    │ 3.58     │ -1.18    │ 0.9      │ 2      │ m       │\n",
       "│ 2   │ a3      │ -2.07    │ 3.19     │ 0.73     │ 0.7      │ 2      │ f       │\n",
       "│ 3   │ a4      │ -2.63    │ 6.97     │ -0.83    │ 0.6      │ 1      │ m       │\n",
       "│ 4   │ a5      │ 2.31     │ 3.5      │ -1.52    │ 0.4      │ 2      │ m       │\n",
       "│ 5   │ a6      │ 0.93     │ 4.87     │ -0.01    │ 5.0      │ 2      │ f       │"
      ]
     },
     "execution_count": 3,
     "metadata": {},
     "output_type": "execute_result"
    }
   ],
   "source": [
    "first(phenotypes,5)"
   ]
  },
  {
   "cell_type": "markdown",
   "metadata": {},
   "source": [
    "<div class=\"span5 alert alert-success\">\n",
    " <font size=\"5\" face=\"Georgia\">Univariate Linear Mixed Model (Genomic data)</font> \n",
    "</div>"
   ]
  },
  {
   "cell_type": "markdown",
   "metadata": {},
   "source": [
    "<button type=\"button\" class=\"btn btn-lg btn-primary\">Step 3: Build Model Equations</button> "
   ]
  },
  {
   "cell_type": "code",
   "execution_count": 4,
   "metadata": {},
   "outputs": [],
   "source": [
    "model_equation1  =\"y1 = intercept + x1*x3 + x2 + x3 + ID + dam\";"
   ]
  },
  {
   "cell_type": "code",
   "execution_count": 5,
   "metadata": {},
   "outputs": [],
   "source": [
    "R      = 1.0\n",
    "model1 = build_model(model_equation1,R);"
   ]
  },
  {
   "cell_type": "markdown",
   "metadata": {},
   "source": [
    "<button type=\"button\" class=\"btn btn-lg btn-primary\">Step 4: Set Factors or Covariates</button> "
   ]
  },
  {
   "cell_type": "code",
   "execution_count": 6,
   "metadata": {},
   "outputs": [],
   "source": [
    "set_covariate(model1,\"x1\");"
   ]
  },
  {
   "cell_type": "markdown",
   "metadata": {},
   "source": [
    "<button type=\"button\" class=\"btn btn-lg btn-primary\">Step 5: Set Random or Fixed Effects</button> "
   ]
  },
  {
   "cell_type": "code",
   "execution_count": 7,
   "metadata": {},
   "outputs": [],
   "source": [
    "G1 = 1.0\n",
    "G2 = [1.0 0.5\n",
    "      0.5 1.0]\n",
    "set_random(model1,\"x2\",G1);\n",
    "set_random(model1,\"ID dam\",pedigree,G2);"
   ]
  },
  {
   "cell_type": "markdown",
   "metadata": {},
   "source": [
    "<button type=\"button\" class=\"btn btn-lg btn-primary\">Step 6: Use Genomic Information</button> "
   ]
  },
  {
   "cell_type": "code",
   "execution_count": 8,
   "metadata": {},
   "outputs": [
    {
     "name": "stdout",
     "output_type": "stream",
     "text": [
      "\u001b[31mThe delimiter in genotypes.txt is ','.\u001b[39m\n",
      "\u001b[31mThe header (marker IDs) is provided in genotypes.txt.\u001b[39m\n"
     ]
    },
    {
     "name": "stderr",
     "output_type": "stream",
     "text": [
      "┌ Warning: readtable is deprecated, use CSV.read from the CSV package instead\n",
      "│   caller = ip:0x0\n",
      "└ @ Core :-1\n"
     ]
    },
    {
     "name": "stdout",
     "output_type": "stream",
     "text": [
      "5 markers on 7 individuals were added.\n"
     ]
    }
   ],
   "source": [
    "G3 =1.0\n",
    "add_genotypes(model1,genofile,G3,separator=',');"
   ]
  },
  {
   "cell_type": "markdown",
   "metadata": {},
   "source": [
    "<button type=\"button\" class=\"btn btn-lg btn-primary\">Step 7: Run Analysis</button> "
   ]
  },
  {
   "cell_type": "code",
   "execution_count": 9,
   "metadata": {},
   "outputs": [
    {
     "name": "stdout",
     "output_type": "stream",
     "text": [
      "\n",
      "The prior for marker effects variance is calculated from the genetic variance and π.\n",
      "The mean of the prior for the marker effects variance is: 0.492462\n",
      "\n",
      "\n",
      "\u001b[0m\u001b[1mA Linear Mixed Model was build using model equations:\u001b[22m\n",
      "\n",
      "y1 = intercept + x1*x3 + x2 + x3 + ID + dam\n",
      "\n",
      "\u001b[0m\u001b[1mModel Information:\u001b[22m\n",
      "\n",
      "Term            C/F          F/R            nLevels\n",
      "intercept       factor       fixed                1\n",
      "x1*x3           interaction  fixed                2\n",
      "x2              factor       random               2\n",
      "x3              factor       fixed                2\n",
      "ID              factor       random              12\n",
      "dam             factor       random              12\n",
      "\n",
      "\u001b[0m\u001b[1mMCMC Information:\u001b[22m\n",
      "\n",
      "methods                                      BayesC\n",
      "chain_length                                   5000\n",
      "burnin                                            0\n",
      "estimatePi                                     true\n",
      "estimateScale                                 false\n",
      "starting_value                                false\n",
      "printout_frequency                             5001\n",
      "output_samples_frequency                        100\n",
      "constraint                                    false\n",
      "missing_phenotypes                             true\n",
      "update_priors_frequency                           0\n",
      "\n",
      "\u001b[0m\u001b[1mHyper-parameters Information:\u001b[22m\n",
      "\n",
      "random effect variances (x2):                 [1.0]\n",
      "residual variances:                           1.000\n",
      "genetic variances (polygenic):\n",
      "                                 [1.0 0.5; 0.5 1.0]\n",
      "genetic variances (genomic):                  1.000\n",
      "marker effect variances:                      0.492\n",
      "π                                               0.0\n",
      "\n",
      "\u001b[0m\u001b[1mDegree of freedom for hyper-parameters:\u001b[22m\n",
      "\n",
      "residual variances:                           4.000\n",
      "iid random effect variances:                  4.000\n",
      "polygenic effect variances:                   4.000\n",
      "marker effect variances:                      4.000\n",
      "\n",
      "\n",
      "\n",
      "\u001b[32mThe file MCMC_samples_residual_variance.txt is created to save MCMC samples for residual_variance.\u001b[39m\n",
      "\u001b[32mThe file MCMC_samples_polygenic_effects_variance.txt is created to save MCMC samples for polygenic_effects_variance.\u001b[39m\n",
      "\u001b[32mThe file MCMC_samples_marker_effects_y1.txt is created to save MCMC samples for marker_effects_y1.\u001b[39m\n",
      "\u001b[32mThe file MCMC_samples_marker_effects_variances.txt is created to save MCMC samples for marker_effects_variances.\u001b[39m\n",
      "\u001b[32mThe file MCMC_samples_pi.txt is created to save MCMC samples for pi.\u001b[39m\n",
      "\u001b[32mThe file MCMC_samples_1:x2.txt is created to save MCMC samples for 1:x2.\u001b[39m\n",
      "\u001b[32mThe file MCMC_samples_x2_variances.txt is created to save MCMC samples for x2_variances.\u001b[39m\n",
      "\u001b[32mThe file MCMC_samples_EBV_y1.txt is created to save MCMC samples for EBV_y1.\u001b[39m\n"
     ]
    },
    {
     "name": "stderr",
     "output_type": "stream",
     "text": [
      "\u001b[32mrunning MCMC for BayesC...100%|█████████████████████████| Time: 0:00:01\u001b[39m\n"
     ]
    }
   ],
   "source": [
    "outputMCMCsamples(model1,\"x2\")\n",
    "out1=runMCMC(model1,phenotypes,methods=\"BayesC\",estimatePi=true,chain_length=5000,output_samples_frequency=100);"
   ]
  },
  {
   "cell_type": "markdown",
   "metadata": {},
   "source": [
    "<button type=\"button\" class=\"btn btn-lg btn-primary\">Check Results</button> "
   ]
  },
  {
   "cell_type": "code",
   "execution_count": 10,
   "metadata": {},
   "outputs": [
    {
     "data": {
      "text/plain": [
       "Base.KeySet for a Dict{Any,Any} with 7 entries. Keys:\n",
       "  \"Posterior mean of polygenic effects covariance matrix\"\n",
       "  \"EBV_y1\"\n",
       "  \"Posterior mean of marker effects\"\n",
       "  \"Posterior mean of residual variance\"\n",
       "  \"Posterior mean of marker effects variance\"\n",
       "  \"Posterior mean of location parameters\"\n",
       "  \"Posterior mean of Pi\""
      ]
     },
     "execution_count": 10,
     "metadata": {},
     "output_type": "execute_result"
    }
   ],
   "source": [
    "keys(out1)"
   ]
  },
  {
   "cell_type": "code",
   "execution_count": 11,
   "metadata": {},
   "outputs": [
    {
     "data": {
      "text/plain": [
       "0.46883760513326905"
      ]
     },
     "execution_count": 11,
     "metadata": {},
     "output_type": "execute_result"
    }
   ],
   "source": [
    "out1[\"Posterior mean of Pi\"]"
   ]
  },
  {
   "cell_type": "markdown",
   "metadata": {},
   "source": [
    "<div class=\"span5 alert alert-success\">\n",
    " <font size=\"5\" face=\"Georgia\">Multivariate Linear Mixed Model (Genomic data)</font> \n",
    "</div>"
   ]
  },
  {
   "cell_type": "markdown",
   "metadata": {},
   "source": [
    "<button type=\"button\" class=\"btn btn-lg btn-primary\">Step 3: Build Model Equations</button> "
   ]
  },
  {
   "cell_type": "code",
   "execution_count": 12,
   "metadata": {},
   "outputs": [],
   "source": [
    "model_equation2 =\"y1 = intercept + x1 + x3 + ID + dam\n",
    "                  y2 = intercept + x1 + x2 + x3 + ID\n",
    "                  y3 = intercept + x1 + x1*x3 + x2 + ID\";"
   ]
  },
  {
   "cell_type": "code",
   "execution_count": 13,
   "metadata": {},
   "outputs": [],
   "source": [
    "R      = [1.0 0.5 0.5\n",
    "          0.5 1.0 0.5\n",
    "          0.5 0.5 1.0]\n",
    "model2 = build_model(model_equation2,R);"
   ]
  },
  {
   "cell_type": "markdown",
   "metadata": {},
   "source": [
    "<button type=\"button\" class=\"btn btn-lg btn-primary\">Step 4: Set Factors or Covariates</button> "
   ]
  },
  {
   "cell_type": "code",
   "execution_count": 14,
   "metadata": {},
   "outputs": [],
   "source": [
    "set_covariate(model2,\"x1\");"
   ]
  },
  {
   "cell_type": "markdown",
   "metadata": {},
   "source": [
    "<button type=\"button\" class=\"btn btn-lg btn-primary\">Step 5: Set Random or Fixed Effects</button> "
   ]
  },
  {
   "cell_type": "code",
   "execution_count": 15,
   "metadata": {},
   "outputs": [
    {
     "name": "stdout",
     "output_type": "stream",
     "text": [
      "\u001b[31mx2 is not found in model equation 1.\u001b[39m\n",
      "\u001b[31mdam is not found in model equation 2.\u001b[39m\n",
      "\u001b[31mdam is not found in model equation 3.\u001b[39m\n"
     ]
    }
   ],
   "source": [
    "G1 = [1.0 0.5\n",
    "      0.5 1.0]\n",
    "G2 = [1.0 0.5 0.5 0.5\n",
    "      0.5 1.0 0.5 0.5\n",
    "      0.5 0.5 1.0 0.5\n",
    "      0.5 0.5 0.5 1.0]\n",
    "set_random(model2,\"x2\",G1);\n",
    "set_random(model2,\"ID dam\",pedigree,G2);"
   ]
  },
  {
   "cell_type": "markdown",
   "metadata": {},
   "source": [
    "<button type=\"button\" class=\"btn btn-lg btn-primary\">Step 6: Use Genomic Information</button> "
   ]
  },
  {
   "cell_type": "code",
   "execution_count": 16,
   "metadata": {},
   "outputs": [
    {
     "name": "stdout",
     "output_type": "stream",
     "text": [
      "\u001b[31mThe delimiter in genotypes.txt is ','.\u001b[39m\n",
      "\u001b[31mThe header (marker IDs) is provided in genotypes.txt.\u001b[39m\n",
      "5 markers on 7 individuals were added.\n"
     ]
    }
   ],
   "source": [
    "G3 = [1.0 0.5 0.5\n",
    "      0.5 1.0 0.5\n",
    "      0.5 0.5 1.0]\n",
    "add_genotypes(model2,genofile,G3,separator=',');"
   ]
  },
  {
   "cell_type": "markdown",
   "metadata": {},
   "source": [
    "<button type=\"button\" class=\"btn btn-lg btn-primary\">Step 7: Run Analysis</button> "
   ]
  },
  {
   "cell_type": "code",
   "execution_count": 17,
   "metadata": {},
   "outputs": [
    {
     "name": "stdout",
     "output_type": "stream",
     "text": [
      "\u001b[0mPi (Π) is not provided.\n",
      "\u001b[0mPi (Π) is generated assuming all markers have effects on all traits.\n",
      "\n",
      "The prior for marker effects covariance matrix is calculated from genetic covariance matrix and Π.\n",
      "The mean of the prior for the marker effects covariance matrix is:\n",
      " 0.492462  0.246231  0.246231\n",
      " 0.246231  0.492462  0.246231\n",
      " 0.246231  0.246231  0.492462\n",
      "\n",
      "\n",
      "\u001b[0m\u001b[1mA Linear Mixed Model was build using model equations:\u001b[22m\n",
      "\n",
      "y1 = intercept + x1 + x3 + ID + dam\n",
      "y2 = intercept + x1 + x2 + x3 + ID\n",
      "y3 = intercept + x1 + x1*x3 + x2 + ID\n",
      "\n",
      "\u001b[0m\u001b[1mModel Information:\u001b[22m\n",
      "\n",
      "Term            C/F          F/R            nLevels\n",
      "intercept       factor       fixed                1\n",
      "x1              covariate    fixed                1\n",
      "x3              factor       fixed                2\n",
      "ID              factor       random              12\n",
      "dam             factor       random              12\n",
      "x2              factor       random               2\n",
      "x1*x3           interaction  fixed                2\n",
      "\n",
      "\u001b[0m\u001b[1mMCMC Information:\u001b[22m\n",
      "\n",
      "methods                                      BayesC\n",
      "chain_length                                   5000\n",
      "burnin                                            0\n",
      "estimatePi                                     true\n",
      "estimateScale                                 false\n",
      "starting_value                                false\n",
      "printout_frequency                             5001\n",
      "output_samples_frequency                        100\n",
      "constraint                                    false\n",
      "missing_phenotypes                             true\n",
      "update_priors_frequency                           0\n",
      "\n",
      "\u001b[0m\u001b[1mHyper-parameters Information:\u001b[22m\n",
      "\n",
      "random effect variances (x2): \n",
      " 1.0  0.5\n",
      " 0.5  1.0\n",
      "residual variances:           \n",
      " 1.0  0.5  0.5\n",
      " 0.5  1.0  0.5\n",
      " 0.5  0.5  1.0\n",
      "genetic variances (polygenic):\n",
      " 1.0  0.5  0.5  0.5\n",
      " 0.5  1.0  0.5  0.5\n",
      " 0.5  0.5  1.0  0.5\n",
      " 0.5  0.5  0.5  1.0\n",
      "genetic variances (genomic):  \n",
      " 1.0  0.5  0.5\n",
      " 0.5  1.0  0.5\n",
      " 0.5  0.5  1.0\n",
      "marker effect variances:      \n",
      " 0.492  0.246  0.246\n",
      " 0.246  0.492  0.246\n",
      " 0.246  0.246  0.492\n",
      "\n",
      "Π: (Y(yes):included; N(no):excluded)\n",
      "\n",
      "[\"y1\", \"y2\", \"y3\"]         probability\n",
      "[\"Y\", \"Y\", \"N\"]                 0.0\n",
      "[\"N\", \"N\", \"N\"]                 0.0\n",
      "[\"Y\", \"N\", \"N\"]                 0.0\n",
      "[\"N\", \"Y\", \"Y\"]                 0.0\n",
      "[\"Y\", \"N\", \"Y\"]                 0.0\n",
      "[\"N\", \"N\", \"Y\"]                 0.0\n",
      "[\"Y\", \"Y\", \"Y\"]                 1.0\n",
      "[\"N\", \"Y\", \"N\"]                 0.0\n",
      "\n",
      "\u001b[0m\u001b[1mDegree of freedom for hyper-parameters:\u001b[22m\n",
      "\n",
      "residual variances:                           4.000\n",
      "iid random effect variances:                  4.000\n",
      "polygenic effect variances:                   4.000\n",
      "marker effect variances:                      4.000\n",
      "\n",
      "\n",
      "\n",
      "\u001b[31mThe file MCMC_samples_residual_variance.txt already exists!!! It is overwritten by the new output.\u001b[39m\n",
      "\u001b[31mThe file MCMC_samples_polygenic_effects_variance.txt already exists!!! It is overwritten by the new output.\u001b[39m\n",
      "\u001b[31mThe file MCMC_samples_marker_effects_y1.txt already exists!!! It is overwritten by the new output.\u001b[39m\n",
      "\u001b[32mThe file MCMC_samples_marker_effects_y2.txt is created to save MCMC samples for marker_effects_y2.\u001b[39m\n",
      "\u001b[32mThe file MCMC_samples_marker_effects_y3.txt is created to save MCMC samples for marker_effects_y3.\u001b[39m\n",
      "\u001b[31mThe file MCMC_samples_marker_effects_variances.txt already exists!!! It is overwritten by the new output.\u001b[39m\n",
      "\u001b[31mThe file MCMC_samples_pi.txt already exists!!! It is overwritten by the new output.\u001b[39m\n",
      "\u001b[32mThe file MCMC_samples_2:x2.txt is created to save MCMC samples for 2:x2.\u001b[39m\n",
      "\u001b[32mThe file MCMC_samples_3:x2.txt is created to save MCMC samples for 3:x2.\u001b[39m\n",
      "\u001b[31mThe file MCMC_samples_x2_variances.txt already exists!!! It is overwritten by the new output.\u001b[39m\n",
      "\u001b[31mThe file MCMC_samples_EBV_y1.txt already exists!!! It is overwritten by the new output.\u001b[39m\n",
      "\u001b[32mThe file MCMC_samples_EBV_y2.txt is created to save MCMC samples for EBV_y2.\u001b[39m\n",
      "\u001b[32mThe file MCMC_samples_EBV_y3.txt is created to save MCMC samples for EBV_y3.\u001b[39m\n"
     ]
    },
    {
     "name": "stderr",
     "output_type": "stream",
     "text": [
      "\u001b[32mrunning MCMC for BayesC...100%|█████████████████████████| Time: 0:00:03\u001b[39m\n"
     ]
    }
   ],
   "source": [
    "outputMCMCsamples(model2,\"x2\")\n",
    "out2=runMCMC(model2,phenotypes,methods=\"BayesC\",estimatePi=true,chain_length=5000,output_samples_frequency=100);"
   ]
  },
  {
   "cell_type": "markdown",
   "metadata": {},
   "source": [
    "<button type=\"button\" class=\"btn btn-lg btn-primary\">Check Results</button> "
   ]
  },
  {
   "cell_type": "code",
   "execution_count": 18,
   "metadata": {},
   "outputs": [
    {
     "data": {
      "text/plain": [
       "Base.KeySet for a Dict{Any,Any} with 11 entries. Keys:\n",
       "  \"Model frequency\"\n",
       "  \"Posterior mean of marker effects\"\n",
       "  \"EBV_y3\"\n",
       "  \"Posterior mean of location parameters\"\n",
       "  \"EBV_y2\"\n",
       "  \"Posterior mean of polygenic effects covariance matrix\"\n",
       "  \"EBV_y1\"\n",
       "  \"Posterior mean of marker effects covariance matrix\"\n",
       "  \"Posterior mean of residual variance\"\n",
       "  \"Posterior mean of Pi\"\n",
       "  \"Posterior mean of marker effects variance\""
      ]
     },
     "execution_count": 18,
     "metadata": {},
     "output_type": "execute_result"
    }
   ],
   "source": [
    "keys(out2)"
   ]
  },
  {
   "cell_type": "code",
   "execution_count": 19,
   "metadata": {},
   "outputs": [
    {
     "data": {
      "text/plain": [
       "Dict{Array{Float64,1},Float64} with 8 entries:\n",
       "  [1.0, 1.0, 0.0] => 0.130788\n",
       "  [0.0, 0.0, 0.0] => 0.115113\n",
       "  [1.0, 0.0, 0.0] => 0.153896\n",
       "  [0.0, 1.0, 1.0] => 0.121281\n",
       "  [1.0, 0.0, 1.0] => 0.130922\n",
       "  [0.0, 0.0, 1.0] => 0.109946\n",
       "  [1.0, 1.0, 1.0] => 0.124899\n",
       "  [0.0, 1.0, 0.0] => 0.113156"
      ]
     },
     "execution_count": 19,
     "metadata": {},
     "output_type": "execute_result"
    }
   ],
   "source": [
    "out2[\"Posterior mean of Pi\"]"
   ]
  }
 ],
 "metadata": {
  "anaconda-cloud": {},
  "kernelspec": {
   "display_name": "Julia 1.1.0",
   "language": "julia",
   "name": "julia-1.1"
  },
  "language_info": {
   "file_extension": ".jl",
   "mimetype": "application/julia",
   "name": "julia",
   "version": "1.1.0"
  }
 },
 "nbformat": 4,
 "nbformat_minor": 2
}
