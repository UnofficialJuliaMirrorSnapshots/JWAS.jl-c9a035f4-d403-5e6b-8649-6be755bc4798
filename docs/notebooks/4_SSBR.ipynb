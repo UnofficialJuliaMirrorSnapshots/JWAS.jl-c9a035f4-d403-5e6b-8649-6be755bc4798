{
 "cells": [
  {
   "cell_type": "markdown",
   "metadata": {},
   "source": [
    "<ul class=\"breadcrumb\">\n",
    "  <li><a href=\"1_Conventional_Linear_Mixed_Model.ipynb\">Bayesian Linear Mixed Models (Conventional)</a></li>\n",
    "  <li><a href=\"2_Linear_Additive_Genetic_Model.ipynb\">Bayesian Linear Additive Genetic Model</a></li> \n",
    "  <li><a href=\"3_Genomic_Linear_Mixed_Model.ipynb\">Bayesian Linear Mixed Models (Genomic Data)</a></li>\n",
    "</ul>"
   ]
  },
  {
   "cell_type": "markdown",
   "metadata": {},
   "source": [
    "<div class=\"span5 alert alert-success\">\n",
    " <font size=\"5\" face=\"Georgia\">Single-step Bayesian Regression (Incomplete Genomic Data)</font> \n",
    "</div>"
   ]
  },
  {
   "cell_type": "markdown",
   "metadata": {},
   "source": [
    "<button type=\"button\" class=\"btn btn-lg btn-primary\">Step 1: Load Packages</button> "
   ]
  },
  {
   "cell_type": "code",
   "execution_count": 1,
   "metadata": {},
   "outputs": [],
   "source": [
    "using JWAS,JWAS.Datasets,DataFrames,CSV, LinearAlgebra"
   ]
  },
  {
   "cell_type": "markdown",
   "metadata": {},
   "source": [
    "<button type=\"button\" class=\"btn btn-lg btn-primary\">Step 2: Read data</button> "
   ]
  },
  {
   "cell_type": "code",
   "execution_count": 2,
   "metadata": {},
   "outputs": [
    {
     "name": "stdout",
     "output_type": "stream",
     "text": [
      "Finished!\n"
     ]
    }
   ],
   "source": [
    "phenofile  = Datasets.dataset(\"example\",\"phenotypes_ssbr.txt\")\n",
    "pedfile    = Datasets.dataset(\"example\",\"pedigree.txt\")\n",
    "genofile   = Datasets.dataset(\"example\",\"genotypes.txt\")\n",
    "\n",
    "phenotypes = CSV.read(phenofile,delim = ',',header=true)\n",
    "pedigree   = get_pedigree(pedfile,separator=\",\",header=true);"
   ]
  },
  {
   "cell_type": "code",
   "execution_count": 3,
   "metadata": {},
   "outputs": [
    {
     "data": {
      "text/html": [
       "<table class=\"data-frame\"><thead><tr><th></th><th>ID</th><th>y1</th><th>y2</th><th>y3</th><th>x1</th><th>x2</th><th>x3</th><th>dam</th></tr><tr><th></th><th>String⍰</th><th>Float64⍰</th><th>Float64⍰</th><th>Float64⍰</th><th>Float64⍰</th><th>Int64⍰</th><th>String⍰</th><th>String⍰</th></tr></thead><tbody><p>5 rows × 8 columns</p><tr><th>1</th><td>a1</td><td>-0.06</td><td>3.58</td><td>-1.18</td><td>0.9</td><td>2</td><td>m</td><td>0</td></tr><tr><th>2</th><td>a2</td><td>-0.6</td><td>4.9</td><td>0.88</td><td>0.3</td><td>1</td><td>f</td><td>0</td></tr><tr><th>3</th><td>a3</td><td>-2.07</td><td>3.19</td><td>0.73</td><td>0.7</td><td>2</td><td>f</td><td>0</td></tr><tr><th>4</th><td>a4</td><td>-2.63</td><td>6.97</td><td>-0.83</td><td>0.6</td><td>1</td><td>m</td><td>a2</td></tr><tr><th>5</th><td>a5</td><td>2.31</td><td>3.5</td><td>-1.52</td><td>0.4</td><td>2</td><td>m</td><td>a2</td></tr></tbody></table>"
      ],
      "text/latex": [
       "\\begin{tabular}{r|cccccccc}\n",
       "\t& ID & y1 & y2 & y3 & x1 & x2 & x3 & dam\\\\\n",
       "\t\\hline\n",
       "\t& String⍰ & Float64⍰ & Float64⍰ & Float64⍰ & Float64⍰ & Int64⍰ & String⍰ & String⍰\\\\\n",
       "\t\\hline\n",
       "\t1 & a1 & -0.06 & 3.58 & -1.18 & 0.9 & 2 & m & 0 \\\\\n",
       "\t2 & a2 & -0.6 & 4.9 & 0.88 & 0.3 & 1 & f & 0 \\\\\n",
       "\t3 & a3 & -2.07 & 3.19 & 0.73 & 0.7 & 2 & f & 0 \\\\\n",
       "\t4 & a4 & -2.63 & 6.97 & -0.83 & 0.6 & 1 & m & a2 \\\\\n",
       "\t5 & a5 & 2.31 & 3.5 & -1.52 & 0.4 & 2 & m & a2 \\\\\n",
       "\\end{tabular}\n"
      ],
      "text/plain": [
       "5×8 DataFrame. Omitted printing of 1 columns\n",
       "│ Row │ ID      │ y1       │ y2       │ y3       │ x1       │ x2     │ x3      │\n",
       "│     │ \u001b[90mString⍰\u001b[39m │ \u001b[90mFloat64⍰\u001b[39m │ \u001b[90mFloat64⍰\u001b[39m │ \u001b[90mFloat64⍰\u001b[39m │ \u001b[90mFloat64⍰\u001b[39m │ \u001b[90mInt64⍰\u001b[39m │ \u001b[90mString⍰\u001b[39m │\n",
       "├─────┼─────────┼──────────┼──────────┼──────────┼──────────┼────────┼─────────┤\n",
       "│ 1   │ a1      │ -0.06    │ 3.58     │ -1.18    │ 0.9      │ 2      │ m       │\n",
       "│ 2   │ a2      │ -0.6     │ 4.9      │ 0.88     │ 0.3      │ 1      │ f       │\n",
       "│ 3   │ a3      │ -2.07    │ 3.19     │ 0.73     │ 0.7      │ 2      │ f       │\n",
       "│ 4   │ a4      │ -2.63    │ 6.97     │ -0.83    │ 0.6      │ 1      │ m       │\n",
       "│ 5   │ a5      │ 2.31     │ 3.5      │ -1.52    │ 0.4      │ 2      │ m       │"
      ]
     },
     "execution_count": 3,
     "metadata": {},
     "output_type": "execute_result"
    }
   ],
   "source": [
    "first(phenotypes,5)"
   ]
  },
  {
   "cell_type": "markdown",
   "metadata": {},
   "source": [
    "<div class=\"span5 alert alert-success\">\n",
    " <font size=\"5\" face=\"Georgia\">Single-trait Single-step Bayesian Regression (Incomplete Genomic Data)</font> \n",
    "</div>"
   ]
  },
  {
   "cell_type": "markdown",
   "metadata": {},
   "source": [
    "<button type=\"button\" class=\"btn btn-lg btn-primary\">Step 3: Build Model Equations</button> "
   ]
  },
  {
   "cell_type": "code",
   "execution_count": 4,
   "metadata": {},
   "outputs": [],
   "source": [
    "model_equation1  =\"y1 = intercept + x1*x3 + x2 + x3 + ID + dam\";"
   ]
  },
  {
   "cell_type": "code",
   "execution_count": 5,
   "metadata": {},
   "outputs": [],
   "source": [
    "R      = 1.0\n",
    "model1 = build_model(model_equation1,R);"
   ]
  },
  {
   "cell_type": "markdown",
   "metadata": {},
   "source": [
    "<button type=\"button\" class=\"btn btn-lg btn-primary\">Step 4: Set Factors or Covariates</button> "
   ]
  },
  {
   "cell_type": "code",
   "execution_count": 6,
   "metadata": {},
   "outputs": [],
   "source": [
    "set_covariate(model1,\"x1\");"
   ]
  },
  {
   "cell_type": "markdown",
   "metadata": {},
   "source": [
    "<button type=\"button\" class=\"btn btn-lg btn-primary\">Step 5: Set Random or Fixed Effects</button> "
   ]
  },
  {
   "cell_type": "code",
   "execution_count": 7,
   "metadata": {},
   "outputs": [],
   "source": [
    "G1 = 1.0\n",
    "G2 = [1.0 0.5\n",
    "      0.5 1.0]\n",
    "set_random(model1,\"x2\",G1);\n",
    "set_random(model1,\"ID dam\",pedigree,G2);"
   ]
  },
  {
   "cell_type": "markdown",
   "metadata": {},
   "source": [
    "<button type=\"button\" class=\"btn btn-lg btn-primary\">Step 6: Use Genomic Information</button> "
   ]
  },
  {
   "cell_type": "code",
   "execution_count": 8,
   "metadata": {},
   "outputs": [
    {
     "name": "stdout",
     "output_type": "stream",
     "text": [
      "\u001b[31mThe delimiter in genotypes.txt is ','.\u001b[39m\n",
      "\u001b[31mThe header (marker IDs) is provided in genotypes.txt.\u001b[39m\n"
     ]
    },
    {
     "name": "stderr",
     "output_type": "stream",
     "text": [
      "┌ Warning: readtable is deprecated, use CSV.read from the CSV package instead\n",
      "│   caller = ip:0x0\n",
      "└ @ Core :-1\n"
     ]
    },
    {
     "name": "stdout",
     "output_type": "stream",
     "text": [
      "5 markers on 7 individuals were added.\n"
     ]
    }
   ],
   "source": [
    "G3 =1.0\n",
    "add_genotypes(model1,genofile,G3,separator=',');"
   ]
  },
  {
   "cell_type": "markdown",
   "metadata": {},
   "source": [
    "<button type=\"button\" class=\"btn btn-lg btn-primary\">Step 7: Run Analysis</button> "
   ]
  },
  {
   "cell_type": "code",
   "execution_count": 9,
   "metadata": {},
   "outputs": [
    {
     "name": "stdout",
     "output_type": "stream",
     "text": [
      "\n",
      "The prior for marker effects variance is calculated from the genetic variance and π.\n",
      "The mean of the prior for the marker effects variance is: 0.492462\n",
      "\n",
      "\n",
      "\u001b[0m\u001b[1mA Linear Mixed Model was build using model equations:\u001b[22m\n",
      "\n",
      "y1 = intercept + x1*x3 + x2 + x3 + ID + dam\n",
      "\n",
      "\u001b[0m\u001b[1mModel Information:\u001b[22m\n",
      "\n",
      "Term            C/F          F/R            nLevels\n",
      "intercept       factor       fixed                1\n",
      "x1*x3           interaction  fixed                2\n",
      "x2              factor       random               2\n",
      "x3              factor       fixed                2\n",
      "ID              factor       random              12\n",
      "dam             factor       random              12\n",
      "ϵ               factor       random               5\n",
      "J               covariate    fixed                1\n",
      "\n",
      "\u001b[0m\u001b[1mMCMC Information:\u001b[22m\n",
      "\n",
      "methods                                     RR-BLUP\n",
      "chain_length                                   5000\n",
      "burnin                                            0\n",
      "estimatePi                                    false\n",
      "estimateScale                                 false\n",
      "starting_value                                false\n",
      "printout_frequency                             5001\n",
      "output_samples_frequency                        100\n",
      "constraint                                    false\n",
      "missing_phenotypes                             true\n",
      "update_priors_frequency                           0\n",
      "\n",
      "\u001b[0m\u001b[1mHyper-parameters Information:\u001b[22m\n",
      "\n",
      "random effect variances (x2):                 [1.0]\n",
      "random effect variances (ϵ):                  [1.0]\n",
      "residual variances:                           1.000\n",
      "genetic variances (polygenic):\n",
      "                                 [1.0 0.5; 0.5 1.0]\n",
      "genetic variances (genomic):                  1.000\n",
      "marker effect variances:                      0.492\n",
      "π                                               0.0\n",
      "\n",
      "\u001b[0m\u001b[1mDegree of freedom for hyper-parameters:\u001b[22m\n",
      "\n",
      "residual variances:                           4.000\n",
      "iid random effect variances:                  4.000\n",
      "polygenic effect variances:                   4.000\n",
      "marker effect variances:                      4.000\n",
      "\n",
      "\n",
      "\n",
      "\u001b[32mThe file MCMC_samples_residual_variance.txt is created to save MCMC samples for residual_variance.\u001b[39m\n",
      "\u001b[32mThe file MCMC_samples_polygenic_effects_variance.txt is created to save MCMC samples for polygenic_effects_variance.\u001b[39m\n",
      "\u001b[32mThe file MCMC_samples_marker_effects_y1.txt is created to save MCMC samples for marker_effects_y1.\u001b[39m\n",
      "\u001b[32mThe file MCMC_samples_marker_effects_variances.txt is created to save MCMC samples for marker_effects_variances.\u001b[39m\n",
      "\u001b[32mThe file MCMC_samples_pi.txt is created to save MCMC samples for pi.\u001b[39m\n",
      "\u001b[32mThe file MCMC_samples_1:x2.txt is created to save MCMC samples for 1:x2.\u001b[39m\n",
      "\u001b[32mThe file MCMC_samples_1:J.txt is created to save MCMC samples for 1:J.\u001b[39m\n",
      "\u001b[32mThe file MCMC_samples_1:ϵ.txt is created to save MCMC samples for 1:ϵ.\u001b[39m\n",
      "\u001b[32mThe file MCMC_samples_x2_variances.txt is created to save MCMC samples for x2_variances.\u001b[39m\n",
      "\u001b[32mThe file MCMC_samples_ϵ_variances.txt is created to save MCMC samples for ϵ_variances.\u001b[39m\n",
      "\u001b[32mThe file MCMC_samples_EBV_y1.txt is created to save MCMC samples for EBV_y1.\u001b[39m\n"
     ]
    },
    {
     "name": "stderr",
     "output_type": "stream",
     "text": [
      "\u001b[32mrunning MCMC for RR-BLUP...100%|████████████████████████| Time: 0:00:02\u001b[39m\n"
     ]
    }
   ],
   "source": [
    "outputEBV(model1,[\"a1\",\"a2\",\"a3\"]);\n",
    "outputMCMCsamples(model1,\"x2\")\n",
    "out1=runMCMC(model1,phenotypes,methods=\"RR-BLUP\",single_step_analysis=true,\n",
    "    pedigree=pedigree,chain_length=5000,output_samples_frequency=100,outputEBV=true);"
   ]
  },
  {
   "cell_type": "markdown",
   "metadata": {},
   "source": [
    "<button type=\"button\" class=\"btn btn-lg btn-primary\">Check Results</button> "
   ]
  },
  {
   "cell_type": "code",
   "execution_count": 10,
   "metadata": {},
   "outputs": [
    {
     "data": {
      "text/plain": [
       "Base.KeySet for a Dict{Any,Any} with 6 entries. Keys:\n",
       "  \"Posterior mean of polygenic effects covariance matrix\"\n",
       "  \"EBV_y1\"\n",
       "  \"Posterior mean of marker effects\"\n",
       "  \"Posterior mean of residual variance\"\n",
       "  \"Posterior mean of marker effects variance\"\n",
       "  \"Posterior mean of location parameters\""
      ]
     },
     "execution_count": 10,
     "metadata": {},
     "output_type": "execute_result"
    }
   ],
   "source": [
    "keys(out1)"
   ]
  },
  {
   "cell_type": "code",
   "execution_count": 11,
   "metadata": {},
   "outputs": [
    {
     "data": {
      "text/html": [
       "<table class=\"data-frame\"><thead><tr><th></th><th>ID</th><th>Estimate</th></tr><tr><th></th><th>Any</th><th>Any</th></tr></thead><tbody><p>3 rows × 2 columns</p><tr><th>1</th><td>a1</td><td>0.772651</td></tr><tr><th>2</th><td>a2</td><td>0.67363</td></tr><tr><th>3</th><td>a3</td><td>-0.846419</td></tr></tbody></table>"
      ],
      "text/latex": [
       "\\begin{tabular}{r|cc}\n",
       "\t& ID & Estimate\\\\\n",
       "\t\\hline\n",
       "\t& Any & Any\\\\\n",
       "\t\\hline\n",
       "\t1 & a1 & 0.772651 \\\\\n",
       "\t2 & a2 & 0.67363 \\\\\n",
       "\t3 & a3 & -0.846419 \\\\\n",
       "\\end{tabular}\n"
      ],
      "text/plain": [
       "3×2 DataFrame\n",
       "│ Row │ ID  │ Estimate  │\n",
       "│     │ \u001b[90mAny\u001b[39m │ \u001b[90mAny\u001b[39m       │\n",
       "├─────┼─────┼───────────┤\n",
       "│ 1   │ a1  │ 0.772651  │\n",
       "│ 2   │ a2  │ 0.67363   │\n",
       "│ 3   │ a3  │ -0.846419 │"
      ]
     },
     "execution_count": 11,
     "metadata": {},
     "output_type": "execute_result"
    }
   ],
   "source": [
    "out1[\"EBV_y1\"]"
   ]
  },
  {
   "cell_type": "code",
   "execution_count": 12,
   "metadata": {},
   "outputs": [
    {
     "data": {
      "text/plain": [
       "5×2 Array{Any,2}:\n",
       " \"m1\"   0.00520021\n",
       " \"m2\"  -0.185241  \n",
       " \"m3\"   0.416465  \n",
       " \"m4\"  -0.294937  \n",
       " \"m5\"  -0.0841507 "
      ]
     },
     "execution_count": 12,
     "metadata": {},
     "output_type": "execute_result"
    }
   ],
   "source": [
    "out1[\"Posterior mean of marker effects\"]"
   ]
  },
  {
   "cell_type": "markdown",
   "metadata": {},
   "source": [
    "<div class=\"span5 alert alert-success\">\n",
    " <font size=\"5\" face=\"Georgia\">Multi-trait Single-step Bayesian Regression (Incomplete Genomic Data)</font> \n",
    "</div>"
   ]
  },
  {
   "cell_type": "markdown",
   "metadata": {},
   "source": [
    "<button type=\"button\" class=\"btn btn-lg btn-primary\">Step 3: Build Model Equations</button> "
   ]
  },
  {
   "cell_type": "code",
   "execution_count": 13,
   "metadata": {},
   "outputs": [],
   "source": [
    "model_equation2 =\"y1 = intercept + x1 + x3 + ID + dam\n",
    "                  y2 = intercept + x1 + x2 + x3 + ID\n",
    "                  y3 = intercept + x1 + x1*x3 + x2 + ID\";"
   ]
  },
  {
   "cell_type": "code",
   "execution_count": 14,
   "metadata": {},
   "outputs": [],
   "source": [
    "R      = [1.0 0.5 0.5\n",
    "          0.5 1.0 0.5\n",
    "          0.5 0.5 1.0]\n",
    "model2 = build_model(model_equation2,R);"
   ]
  },
  {
   "cell_type": "markdown",
   "metadata": {},
   "source": [
    "<button type=\"button\" class=\"btn btn-lg btn-primary\">Step 4: Set Factors or Covariates</button> "
   ]
  },
  {
   "cell_type": "code",
   "execution_count": 15,
   "metadata": {},
   "outputs": [],
   "source": [
    "set_covariate(model2,\"x1\");"
   ]
  },
  {
   "cell_type": "markdown",
   "metadata": {},
   "source": [
    "<button type=\"button\" class=\"btn btn-lg btn-primary\">Step 5: Set Random or Fixed Effects</button> "
   ]
  },
  {
   "cell_type": "code",
   "execution_count": 16,
   "metadata": {},
   "outputs": [
    {
     "name": "stdout",
     "output_type": "stream",
     "text": [
      "\u001b[31mx2 is not found in model equation 1.\u001b[39m\n",
      "\u001b[31mdam is not found in model equation 2.\u001b[39m\n",
      "\u001b[31mdam is not found in model equation 3.\u001b[39m\n"
     ]
    }
   ],
   "source": [
    "G1 = [1.0 0.5\n",
    "      0.5 1.0]\n",
    "G2 = [1.0 0.5 0.5 0.5\n",
    "      0.5 1.0 0.5 0.5\n",
    "      0.5 0.5 1.0 0.5\n",
    "      0.5 0.5 0.5 1.0]\n",
    "set_random(model2,\"x2\",G1);\n",
    "set_random(model2,\"ID dam\",pedigree,G2);"
   ]
  },
  {
   "cell_type": "markdown",
   "metadata": {},
   "source": [
    "<button type=\"button\" class=\"btn btn-lg btn-primary\">Step 6: Use Genomic Information</button> "
   ]
  },
  {
   "cell_type": "code",
   "execution_count": 17,
   "metadata": {},
   "outputs": [
    {
     "name": "stdout",
     "output_type": "stream",
     "text": [
      "\u001b[31mThe delimiter in genotypes.txt is ','.\u001b[39m\n",
      "\u001b[31mThe header (marker IDs) is provided in genotypes.txt.\u001b[39m\n",
      "5 markers on 7 individuals were added.\n"
     ]
    }
   ],
   "source": [
    "G3 = [1.0 0.5 0.5\n",
    "      0.5 1.0 0.5\n",
    "      0.5 0.5 1.0]\n",
    "add_genotypes(model2,genofile,G3,separator=',');"
   ]
  },
  {
   "cell_type": "markdown",
   "metadata": {},
   "source": [
    "<button type=\"button\" class=\"btn btn-lg btn-primary\">Step 7: Run Analysis</button> "
   ]
  },
  {
   "cell_type": "code",
   "execution_count": 18,
   "metadata": {},
   "outputs": [
    {
     "name": "stdout",
     "output_type": "stream",
     "text": [
      "\u001b[0mPi (Π) is not provided.\n",
      "\u001b[0mPi (Π) is generated assuming all markers have effects on all traits.\n",
      "\n",
      "The prior for marker effects covariance matrix is calculated from genetic covariance matrix and Π.\n",
      "The mean of the prior for the marker effects covariance matrix is:\n",
      " 0.492462  0.246231  0.246231\n",
      " 0.246231  0.492462  0.246231\n",
      " 0.246231  0.246231  0.492462\n",
      "\n",
      "\n",
      "\u001b[0m\u001b[1mA Linear Mixed Model was build using model equations:\u001b[22m\n",
      "\n",
      "y1 = intercept + x1 + x3 + ID + dam\n",
      "y2 = intercept + x1 + x2 + x3 + ID\n",
      "y3 = intercept + x1 + x1*x3 + x2 + ID\n",
      "\n",
      "\u001b[0m\u001b[1mModel Information:\u001b[22m\n",
      "\n",
      "Term            C/F          F/R            nLevels\n",
      "intercept       factor       fixed                1\n",
      "x1              covariate    fixed                1\n",
      "x3              factor       fixed                2\n",
      "ID              factor       random              12\n",
      "dam             factor       random              12\n",
      "x2              factor       random               2\n",
      "x1*x3           interaction  fixed                2\n",
      "ϵ               factor       random               5\n",
      "J               covariate    fixed                1\n",
      "\n",
      "\u001b[0m\u001b[1mMCMC Information:\u001b[22m\n",
      "\n",
      "methods                                      BayesC\n",
      "chain_length                                   5000\n",
      "burnin                                            0\n",
      "estimatePi                                     true\n",
      "estimateScale                                 false\n",
      "starting_value                                false\n",
      "printout_frequency                             5001\n",
      "output_samples_frequency                        100\n",
      "constraint                                    false\n",
      "missing_phenotypes                             true\n",
      "update_priors_frequency                           0\n",
      "\n",
      "\u001b[0m\u001b[1mHyper-parameters Information:\u001b[22m\n",
      "\n",
      "random effect variances (x2): \n",
      " 1.0  0.5\n",
      " 0.5  1.0\n",
      "random effect variances (ϵ):  \n",
      " 1.0  0.5  0.5\n",
      " 0.5  1.0  0.5\n",
      " 0.5  0.5  1.0\n",
      "residual variances:           \n",
      " 1.0  0.5  0.5\n",
      " 0.5  1.0  0.5\n",
      " 0.5  0.5  1.0\n",
      "genetic variances (polygenic):\n",
      " 1.0  0.5  0.5  0.5\n",
      " 0.5  1.0  0.5  0.5\n",
      " 0.5  0.5  1.0  0.5\n",
      " 0.5  0.5  0.5  1.0\n",
      "genetic variances (genomic):  \n",
      " 1.0  0.5  0.5\n",
      " 0.5  1.0  0.5\n",
      " 0.5  0.5  1.0\n",
      "marker effect variances:      \n",
      " 0.492  0.246  0.246\n",
      " 0.246  0.492  0.246\n",
      " 0.246  0.246  0.492\n",
      "\n",
      "Π: (Y(yes):included; N(no):excluded)\n",
      "\n",
      "[\"y1\", \"y2\", \"y3\"]         probability\n",
      "[\"Y\", \"Y\", \"N\"]                 0.0\n",
      "[\"N\", \"N\", \"N\"]                 0.0\n",
      "[\"Y\", \"N\", \"N\"]                 0.0\n",
      "[\"N\", \"Y\", \"Y\"]                 0.0\n",
      "[\"Y\", \"N\", \"Y\"]                 0.0\n",
      "[\"N\", \"N\", \"Y\"]                 0.0\n",
      "[\"Y\", \"Y\", \"Y\"]                 1.0\n",
      "[\"N\", \"Y\", \"N\"]                 0.0\n",
      "\n",
      "\u001b[0m\u001b[1mDegree of freedom for hyper-parameters:\u001b[22m\n",
      "\n",
      "residual variances:                           4.000\n",
      "iid random effect variances:                  4.000\n",
      "polygenic effect variances:                   4.000\n",
      "marker effect variances:                      4.000\n",
      "\n",
      "\n",
      "\n",
      "\u001b[31mThe file MCMC_samples_residual_variance.txt already exists!!! It is overwritten by the new output.\u001b[39m\n",
      "\u001b[31mThe file MCMC_samples_polygenic_effects_variance.txt already exists!!! It is overwritten by the new output.\u001b[39m\n",
      "\u001b[31mThe file MCMC_samples_marker_effects_y1.txt already exists!!! It is overwritten by the new output.\u001b[39m\n",
      "\u001b[32mThe file MCMC_samples_marker_effects_y2.txt is created to save MCMC samples for marker_effects_y2.\u001b[39m\n",
      "\u001b[32mThe file MCMC_samples_marker_effects_y3.txt is created to save MCMC samples for marker_effects_y3.\u001b[39m\n",
      "\u001b[31mThe file MCMC_samples_marker_effects_variances.txt already exists!!! It is overwritten by the new output.\u001b[39m\n",
      "\u001b[31mThe file MCMC_samples_pi.txt already exists!!! It is overwritten by the new output.\u001b[39m\n",
      "\u001b[31mThe file MCMC_samples_1:J.txt already exists!!! It is overwritten by the new output.\u001b[39m\n",
      "\u001b[32mThe file MCMC_samples_2:J.txt is created to save MCMC samples for 2:J.\u001b[39m\n",
      "\u001b[32mThe file MCMC_samples_3:J.txt is created to save MCMC samples for 3:J.\u001b[39m\n",
      "\u001b[31mThe file MCMC_samples_1:ϵ.txt already exists!!! It is overwritten by the new output.\u001b[39m\n",
      "\u001b[32mThe file MCMC_samples_2:ϵ.txt is created to save MCMC samples for 2:ϵ.\u001b[39m\n",
      "\u001b[32mThe file MCMC_samples_3:ϵ.txt is created to save MCMC samples for 3:ϵ.\u001b[39m\n",
      "\u001b[31mThe file MCMC_samples_x2_variances.txt already exists!!! It is overwritten by the new output.\u001b[39m\n",
      "\u001b[31mThe file MCMC_samples_ϵ_variances.txt already exists!!! It is overwritten by the new output.\u001b[39m\n",
      "\u001b[31mThe file MCMC_samples_EBV_y1.txt already exists!!! It is overwritten by the new output.\u001b[39m\n",
      "\u001b[32mThe file MCMC_samples_EBV_y2.txt is created to save MCMC samples for EBV_y2.\u001b[39m\n",
      "\u001b[32mThe file MCMC_samples_EBV_y3.txt is created to save MCMC samples for EBV_y3.\u001b[39m\n"
     ]
    },
    {
     "name": "stderr",
     "output_type": "stream",
     "text": [
      "\u001b[32mrunning MCMC for BayesC...100%|█████████████████████████| Time: 0:00:04\u001b[39m\n"
     ]
    }
   ],
   "source": [
    "out2=runMCMC(model2,phenotypes,methods=\"BayesC\",estimatePi=true,single_step_analysis=true,pedigree=pedigree,chain_length=5000,output_samples_frequency=100);"
   ]
  },
  {
   "cell_type": "markdown",
   "metadata": {},
   "source": [
    "<button type=\"button\" class=\"btn btn-lg btn-primary\">Check Results</button> "
   ]
  },
  {
   "cell_type": "code",
   "execution_count": 19,
   "metadata": {},
   "outputs": [
    {
     "data": {
      "text/plain": [
       "Base.KeySet for a Dict{Any,Any} with 11 entries. Keys:\n",
       "  \"Model frequency\"\n",
       "  \"Posterior mean of marker effects\"\n",
       "  \"EBV_y3\"\n",
       "  \"Posterior mean of location parameters\"\n",
       "  \"EBV_y2\"\n",
       "  \"Posterior mean of polygenic effects covariance matrix\"\n",
       "  \"EBV_y1\"\n",
       "  \"Posterior mean of marker effects covariance matrix\"\n",
       "  \"Posterior mean of residual variance\"\n",
       "  \"Posterior mean of Pi\"\n",
       "  \"Posterior mean of marker effects variance\""
      ]
     },
     "execution_count": 19,
     "metadata": {},
     "output_type": "execute_result"
    }
   ],
   "source": [
    "keys(out2)"
   ]
  },
  {
   "cell_type": "code",
   "execution_count": 20,
   "metadata": {},
   "outputs": [
    {
     "data": {
      "text/html": [
       "<table class=\"data-frame\"><thead><tr><th></th><th>Trait</th><th>Effect</th><th>Level</th><th>Estimate</th></tr><tr><th></th><th>Any</th><th>Any</th><th>Any</th><th>Any</th></tr></thead><tbody><p>37 rows × 4 columns</p><tr><th>1</th><td>1</td><td>intercept</td><td>intercept</td><td>52.434</td></tr><tr><th>2</th><td>1</td><td>x1*x3</td><td>x1 * m</td><td>-1.99159</td></tr><tr><th>3</th><td>1</td><td>x1*x3</td><td>x1 * f</td><td>0.498369</td></tr><tr><th>4</th><td>1</td><td>x2</td><td>2</td><td>-0.0143184</td></tr><tr><th>5</th><td>1</td><td>x2</td><td>1</td><td>-0.0459832</td></tr><tr><th>6</th><td>1</td><td>x3</td><td>m</td><td>-52.3673</td></tr><tr><th>7</th><td>1</td><td>x3</td><td>f</td><td>-54.0543</td></tr><tr><th>8</th><td>1</td><td>ID</td><td>a2</td><td>0.136605</td></tr><tr><th>9</th><td>1</td><td>ID</td><td>a12</td><td>0.456931</td></tr><tr><th>10</th><td>1</td><td>ID</td><td>a10</td><td>0.0264092</td></tr><tr><th>11</th><td>1</td><td>ID</td><td>a11</td><td>0.0267496</td></tr><tr><th>12</th><td>1</td><td>ID</td><td>a9</td><td>0.0244683</td></tr><tr><th>13</th><td>1</td><td>ID</td><td>a6</td><td>-0.0503711</td></tr><tr><th>14</th><td>1</td><td>ID</td><td>a7</td><td>-0.596303</td></tr><tr><th>15</th><td>1</td><td>ID</td><td>a3</td><td>-0.508292</td></tr><tr><th>16</th><td>1</td><td>ID</td><td>a8</td><td>-0.231136</td></tr><tr><th>17</th><td>1</td><td>ID</td><td>a1</td><td>0.245915</td></tr><tr><th>18</th><td>1</td><td>ID</td><td>a5</td><td>0.735624</td></tr><tr><th>19</th><td>1</td><td>ID</td><td>a4</td><td>-0.350691</td></tr><tr><th>20</th><td>1</td><td>dam</td><td>a2</td><td>0.145622</td></tr><tr><th>21</th><td>1</td><td>dam</td><td>a12</td><td>0.360489</td></tr><tr><th>22</th><td>1</td><td>dam</td><td>a10</td><td>0.299501</td></tr><tr><th>23</th><td>1</td><td>dam</td><td>a11</td><td>0.128892</td></tr><tr><th>24</th><td>1</td><td>dam</td><td>a9</td><td>-0.0701513</td></tr><tr><th>25</th><td>1</td><td>dam</td><td>a6</td><td>-0.134343</td></tr><tr><th>26</th><td>1</td><td>dam</td><td>a7</td><td>-0.731935</td></tr><tr><th>27</th><td>1</td><td>dam</td><td>a3</td><td>-0.514754</td></tr><tr><th>28</th><td>1</td><td>dam</td><td>a8</td><td>-0.195391</td></tr><tr><th>29</th><td>1</td><td>dam</td><td>a1</td><td>0.0347354</td></tr><tr><th>30</th><td>1</td><td>dam</td><td>a5</td><td>0.618804</td></tr><tr><th>&vellip;</th><td>&vellip;</td><td>&vellip;</td><td>&vellip;</td><td>&vellip;</td></tr></tbody></table>"
      ],
      "text/latex": [
       "\\begin{tabular}{r|cccc}\n",
       "\t& Trait & Effect & Level & Estimate\\\\\n",
       "\t\\hline\n",
       "\t& Any & Any & Any & Any\\\\\n",
       "\t\\hline\n",
       "\t1 & 1 & intercept & intercept & 52.434 \\\\\n",
       "\t2 & 1 & x1*x3 & x1 * m & -1.99159 \\\\\n",
       "\t3 & 1 & x1*x3 & x1 * f & 0.498369 \\\\\n",
       "\t4 & 1 & x2 & 2 & -0.0143184 \\\\\n",
       "\t5 & 1 & x2 & 1 & -0.0459832 \\\\\n",
       "\t6 & 1 & x3 & m & -52.3673 \\\\\n",
       "\t7 & 1 & x3 & f & -54.0543 \\\\\n",
       "\t8 & 1 & ID & a2 & 0.136605 \\\\\n",
       "\t9 & 1 & ID & a12 & 0.456931 \\\\\n",
       "\t10 & 1 & ID & a10 & 0.0264092 \\\\\n",
       "\t11 & 1 & ID & a11 & 0.0267496 \\\\\n",
       "\t12 & 1 & ID & a9 & 0.0244683 \\\\\n",
       "\t13 & 1 & ID & a6 & -0.0503711 \\\\\n",
       "\t14 & 1 & ID & a7 & -0.596303 \\\\\n",
       "\t15 & 1 & ID & a3 & -0.508292 \\\\\n",
       "\t16 & 1 & ID & a8 & -0.231136 \\\\\n",
       "\t17 & 1 & ID & a1 & 0.245915 \\\\\n",
       "\t18 & 1 & ID & a5 & 0.735624 \\\\\n",
       "\t19 & 1 & ID & a4 & -0.350691 \\\\\n",
       "\t20 & 1 & dam & a2 & 0.145622 \\\\\n",
       "\t21 & 1 & dam & a12 & 0.360489 \\\\\n",
       "\t22 & 1 & dam & a10 & 0.299501 \\\\\n",
       "\t23 & 1 & dam & a11 & 0.128892 \\\\\n",
       "\t24 & 1 & dam & a9 & -0.0701513 \\\\\n",
       "\t25 & 1 & dam & a6 & -0.134343 \\\\\n",
       "\t26 & 1 & dam & a7 & -0.731935 \\\\\n",
       "\t27 & 1 & dam & a3 & -0.514754 \\\\\n",
       "\t28 & 1 & dam & a8 & -0.195391 \\\\\n",
       "\t29 & 1 & dam & a1 & 0.0347354 \\\\\n",
       "\t30 & 1 & dam & a5 & 0.618804 \\\\\n",
       "\t$\\dots$ & $\\dots$ & $\\dots$ & $\\dots$ & $\\dots$ \\\\\n",
       "\\end{tabular}\n"
      ],
      "text/plain": [
       "37×4 DataFrame\n",
       "│ Row │ Trait │ Effect    │ Level     │ Estimate   │\n",
       "│     │ \u001b[90mAny\u001b[39m   │ \u001b[90mAny\u001b[39m       │ \u001b[90mAny\u001b[39m       │ \u001b[90mAny\u001b[39m        │\n",
       "├─────┼───────┼───────────┼───────────┼────────────┤\n",
       "│ 1   │ 1     │ intercept │ intercept │ 52.434     │\n",
       "│ 2   │ 1     │ x1*x3     │ x1 * m    │ -1.99159   │\n",
       "│ 3   │ 1     │ x1*x3     │ x1 * f    │ 0.498369   │\n",
       "│ 4   │ 1     │ x2        │ 2         │ -0.0143184 │\n",
       "│ 5   │ 1     │ x2        │ 1         │ -0.0459832 │\n",
       "│ 6   │ 1     │ x3        │ m         │ -52.3673   │\n",
       "│ 7   │ 1     │ x3        │ f         │ -54.0543   │\n",
       "│ 8   │ 1     │ ID        │ a2        │ 0.136605   │\n",
       "│ 9   │ 1     │ ID        │ a12       │ 0.456931   │\n",
       "│ 10  │ 1     │ ID        │ a10       │ 0.0264092  │\n",
       "⋮\n",
       "│ 27  │ 1     │ dam       │ a3        │ -0.514754  │\n",
       "│ 28  │ 1     │ dam       │ a8        │ -0.195391  │\n",
       "│ 29  │ 1     │ dam       │ a1        │ 0.0347354  │\n",
       "│ 30  │ 1     │ dam       │ a5        │ 0.618804   │\n",
       "│ 31  │ 1     │ dam       │ a4        │ -0.260131  │\n",
       "│ 32  │ 1     │ ϵ         │ a2        │ 0.0922577  │\n",
       "│ 33  │ 1     │ ϵ         │ a12       │ 0.16242    │\n",
       "│ 34  │ 1     │ ϵ         │ a10       │ -0.310155  │\n",
       "│ 35  │ 1     │ ϵ         │ a11       │ -0.0598898 │\n",
       "│ 36  │ 1     │ ϵ         │ a9        │ 0.158142   │\n",
       "│ 37  │ 1     │ J         │ J         │ -0.40046   │"
      ]
     },
     "execution_count": 20,
     "metadata": {},
     "output_type": "execute_result"
    }
   ],
   "source": [
    "out1[\"Posterior mean of location parameters\"]"
   ]
  }
 ],
 "metadata": {
  "anaconda-cloud": {},
  "kernelspec": {
   "display_name": "Julia 1.1.0",
   "language": "julia",
   "name": "julia-1.1"
  },
  "language_info": {
   "file_extension": ".jl",
   "mimetype": "application/julia",
   "name": "julia",
   "version": "1.1.0"
  }
 },
 "nbformat": 4,
 "nbformat_minor": 2
}
