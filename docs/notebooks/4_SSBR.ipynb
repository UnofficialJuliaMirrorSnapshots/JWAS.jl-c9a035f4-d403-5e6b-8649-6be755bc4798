{
 "cells": [
  {
   "cell_type": "markdown",
   "metadata": {},
   "source": [
    "<ul class=\"breadcrumb\">\n",
    "  <li><a href=\"1_Conventional_Linear_Mixed_Model.ipynb\">Bayesian Linear Mixed Models (Conventional)</a></li>\n",
    "  <li><a href=\"2_Linear_Additive_Genetic_Model.ipynb\">Bayesian Linear Additive Genetic Model</a></li> \n",
    "  <li><a href=\"3_Genomic_Linear_Mixed_Model.ipynb\">Bayesian Linear Mixed Models (Genomic Data)</a></li>\n",
    "</ul>"
   ]
  },
  {
   "cell_type": "markdown",
   "metadata": {},
   "source": [
    "<div class=\"span5 alert alert-success\">\n",
    " <font size=\"5\" face=\"Georgia\">Single-step Bayesian Regression (Incomplete Genomic Data)</font> \n",
    "</div>"
   ]
  },
  {
   "cell_type": "markdown",
   "metadata": {},
   "source": [
    "<button type=\"button\" class=\"btn btn-lg btn-primary\">Step 1: Load Packages</button> "
   ]
  },
  {
   "cell_type": "code",
   "execution_count": 50,
   "metadata": {},
   "outputs": [],
   "source": [
    "using JWAS,JWAS.Datasets,DataFrames,CSV, LinearAlgebra"
   ]
  },
  {
   "cell_type": "markdown",
   "metadata": {},
   "source": [
    "<button type=\"button\" class=\"btn btn-lg btn-primary\">Step 2: Read data</button> "
   ]
  },
  {
   "cell_type": "code",
   "execution_count": 51,
   "metadata": {},
   "outputs": [
    {
     "name": "stdout",
     "output_type": "stream",
     "text": [
      "\u001b[32mThe delimiter in pedigree.txt is ','.\u001b[39m\n",
      "Finished!\n"
     ]
    }
   ],
   "source": [
    "phenofile  = Datasets.dataset(\"example\",\"phenotypes_ssbr.txt\")\n",
    "pedfile    = Datasets.dataset(\"example\",\"pedigree.txt\")\n",
    "genofile   = Datasets.dataset(\"example\",\"genotypes.txt\")\n",
    "\n",
    "phenotypes = CSV.read(phenofile,delim = ',',header=true)\n",
    "pedigree   = get_pedigree(pedfile,separator=\",\",header=true);"
   ]
  },
  {
   "cell_type": "code",
   "execution_count": 52,
   "metadata": {},
   "outputs": [
    {
     "data": {
      "text/html": [
       "<table class=\"data-frame\"><thead><tr><th></th><th>ID</th><th>y1</th><th>y2</th><th>y3</th><th>x1</th><th>x2</th><th>x3</th><th>dam</th></tr><tr><th></th><th>String</th><th>Float64</th><th>Float64</th><th>Float64</th><th>Float64</th><th>Int64</th><th>String</th><th>String</th></tr></thead><tbody><p>5 rows × 8 columns</p><tr><th>1</th><td>a1</td><td>-0.06</td><td>3.58</td><td>-1.18</td><td>0.9</td><td>2</td><td>m</td><td>0</td></tr><tr><th>2</th><td>a2</td><td>-0.6</td><td>4.9</td><td>0.88</td><td>0.3</td><td>1</td><td>f</td><td>0</td></tr><tr><th>3</th><td>a3</td><td>-2.07</td><td>3.19</td><td>0.73</td><td>0.7</td><td>2</td><td>f</td><td>0</td></tr><tr><th>4</th><td>a4</td><td>-2.63</td><td>6.97</td><td>-0.83</td><td>0.6</td><td>1</td><td>m</td><td>a2</td></tr><tr><th>5</th><td>a5</td><td>2.31</td><td>3.5</td><td>-1.52</td><td>0.4</td><td>2</td><td>m</td><td>a2</td></tr></tbody></table>"
      ],
      "text/latex": [
       "\\begin{tabular}{r|cccccccc}\n",
       "\t& ID & y1 & y2 & y3 & x1 & x2 & x3 & dam\\\\\n",
       "\t\\hline\n",
       "\t& String & Float64 & Float64 & Float64 & Float64 & Int64 & String & String\\\\\n",
       "\t\\hline\n",
       "\t1 & a1 & -0.06 & 3.58 & -1.18 & 0.9 & 2 & m & 0 \\\\\n",
       "\t2 & a2 & -0.6 & 4.9 & 0.88 & 0.3 & 1 & f & 0 \\\\\n",
       "\t3 & a3 & -2.07 & 3.19 & 0.73 & 0.7 & 2 & f & 0 \\\\\n",
       "\t4 & a4 & -2.63 & 6.97 & -0.83 & 0.6 & 1 & m & a2 \\\\\n",
       "\t5 & a5 & 2.31 & 3.5 & -1.52 & 0.4 & 2 & m & a2 \\\\\n",
       "\\end{tabular}\n"
      ],
      "text/plain": [
       "5×8 DataFrame. Omitted printing of 1 columns\n",
       "│ Row │ ID     │ y1      │ y2      │ y3      │ x1      │ x2    │ x3     │\n",
       "│     │ \u001b[90mString\u001b[39m │ \u001b[90mFloat64\u001b[39m │ \u001b[90mFloat64\u001b[39m │ \u001b[90mFloat64\u001b[39m │ \u001b[90mFloat64\u001b[39m │ \u001b[90mInt64\u001b[39m │ \u001b[90mString\u001b[39m │\n",
       "├─────┼────────┼─────────┼─────────┼─────────┼─────────┼───────┼────────┤\n",
       "│ 1   │ a1     │ -0.06   │ 3.58    │ -1.18   │ 0.9     │ 2     │ m      │\n",
       "│ 2   │ a2     │ -0.6    │ 4.9     │ 0.88    │ 0.3     │ 1     │ f      │\n",
       "│ 3   │ a3     │ -2.07   │ 3.19    │ 0.73    │ 0.7     │ 2     │ f      │\n",
       "│ 4   │ a4     │ -2.63   │ 6.97    │ -0.83   │ 0.6     │ 1     │ m      │\n",
       "│ 5   │ a5     │ 2.31    │ 3.5     │ -1.52   │ 0.4     │ 2     │ m      │"
      ]
     },
     "execution_count": 52,
     "metadata": {},
     "output_type": "execute_result"
    }
   ],
   "source": [
    "first(phenotypes,5)"
   ]
  },
  {
   "cell_type": "markdown",
   "metadata": {},
   "source": [
    "<div class=\"span5 alert alert-success\">\n",
    " <font size=\"5\" face=\"Georgia\">Single-trait Single-step Bayesian Regression (Incomplete Genomic Data)</font> \n",
    "</div>"
   ]
  },
  {
   "cell_type": "markdown",
   "metadata": {},
   "source": [
    "<button type=\"button\" class=\"btn btn-lg btn-primary\">Step 3: Build Model Equations</button> "
   ]
  },
  {
   "cell_type": "code",
   "execution_count": 54,
   "metadata": {},
   "outputs": [],
   "source": [
    "model_equation1  =\"y1 = intercept + x1*x3 + x2 + x3 + ID + dam\";"
   ]
  },
  {
   "cell_type": "code",
   "execution_count": 55,
   "metadata": {},
   "outputs": [],
   "source": [
    "R      = 1.0\n",
    "model1 = build_model(model_equation1,R);"
   ]
  },
  {
   "cell_type": "markdown",
   "metadata": {},
   "source": [
    "<button type=\"button\" class=\"btn btn-lg btn-primary\">Step 4: Set Factors or Covariates</button> "
   ]
  },
  {
   "cell_type": "code",
   "execution_count": 56,
   "metadata": {},
   "outputs": [],
   "source": [
    "set_covariate(model1,\"x1\");"
   ]
  },
  {
   "cell_type": "markdown",
   "metadata": {},
   "source": [
    "<button type=\"button\" class=\"btn btn-lg btn-primary\">Step 5: Set Random or Fixed Effects</button> "
   ]
  },
  {
   "cell_type": "code",
   "execution_count": 57,
   "metadata": {},
   "outputs": [],
   "source": [
    "G1 = 1.0\n",
    "G2 = [1.0 0.5\n",
    "      0.5 1.0]\n",
    "set_random(model1,\"x2\",G1);\n",
    "set_random(model1,\"ID dam\",pedigree,G2);"
   ]
  },
  {
   "cell_type": "markdown",
   "metadata": {},
   "source": [
    "<button type=\"button\" class=\"btn btn-lg btn-primary\">Step 6: Use Genomic Information</button> "
   ]
  },
  {
   "cell_type": "code",
   "execution_count": 58,
   "metadata": {},
   "outputs": [
    {
     "name": "stdout",
     "output_type": "stream",
     "text": [
      "\u001b[32mThe delimiter in genotypes.txt is ','.\u001b[39m\n",
      "\u001b[32mThe header (marker IDs) is provided in genotypes.txt.\u001b[39m\n",
      "5 markers on 7 individuals were added.\n"
     ]
    }
   ],
   "source": [
    "G3 =1.0\n",
    "add_genotypes(model1,genofile,G3,separator=',');"
   ]
  },
  {
   "cell_type": "markdown",
   "metadata": {},
   "source": [
    "<button type=\"button\" class=\"btn btn-lg btn-primary\">Step 7: Run Analysis</button> "
   ]
  },
  {
   "cell_type": "code",
   "execution_count": 59,
   "metadata": {},
   "outputs": [
    {
     "name": "stdout",
     "output_type": "stream",
     "text": [
      "\u001b[32mChecking phenotypes...\u001b[39m\n",
      "\u001b[32mIndividual IDs (strings) are provided in the first column of the phenotypic data.\u001b[39m\n",
      "calculating A inverse\n",
      "  0.000232 seconds (203 allocations: 16.063 KiB)\n",
      "imputing missing genotypes\n",
      "  0.239723 seconds (68 allocations: 7.586 KiB, 99.88% gc time)\n",
      "completed imputing genotypes\n",
      "\n",
      "The prior for marker effects variance is calculated from the genetic variance and π.\n",
      "The mean of the prior for the marker effects variance is: 0.492462\n",
      "\n",
      "\n",
      "\n",
      "\u001b[0m\u001b[1mA Linear Mixed Model was build using model equations:\u001b[22m\n",
      "\n",
      "y1 = intercept + x1*x3 + x2 + x3 + ID + dam\n",
      "\n",
      "\u001b[0m\u001b[1mModel Information:\u001b[22m\n",
      "\n",
      "Term            C/F          F/R            nLevels\n",
      "intercept       factor       fixed                1\n",
      "x1*x3           interaction  fixed                2\n",
      "x2              factor       random               2\n",
      "x3              factor       fixed                2\n",
      "ID              factor       random              12\n",
      "dam             factor       random              12\n",
      "ϵ               factor       random               5\n",
      "J               covariate    fixed                1\n",
      "\n",
      "\u001b[0m\u001b[1mMCMC Information:\u001b[22m\n",
      "\n",
      "methods                                     RR-BLUP\n",
      "                            incomplete genomic data\n",
      "                       (i.e., single-step analysis)\n",
      "chain_length                                   5000\n",
      "burnin                                            0\n",
      "estimatePi                                    false\n",
      "estimateScale                                 false\n",
      "starting_value                                false\n",
      "printout_frequency                             5001\n",
      "output_samples_frequency                        100\n",
      "constraint                                    false\n",
      "missing_phenotypes                             true\n",
      "update_priors_frequency                           0\n",
      "seed                                          false\n",
      "\n",
      "\u001b[0m\u001b[1mHyper-parameters Information:\u001b[22m\n",
      "\n",
      "random effect variances (x2):                 [1.0]\n",
      "random effect variances (ϵ):                  [1.0]\n",
      "residual variances:                           1.000\n",
      "genetic variances (polygenic):\n",
      "                                 [1.0 0.5; 0.5 1.0]\n",
      "genetic variances (genomic):                  1.000\n",
      "marker effect variances:                      0.492\n",
      "π                                               0.0\n",
      "\n",
      "\u001b[0m\u001b[1mDegree of freedom for hyper-parameters:\u001b[22m\n",
      "\n",
      "residual variances:                           4.000\n",
      "iid random effect variances:                  4.000\n",
      "polygenic effect variances:                   4.000\n",
      "marker effect variances:                      4.000\n",
      "\n",
      "\n",
      "\n",
      "\u001b[31mThe file MCMC_samples_residual_variance.txt already exists!!! It is overwritten by the new output.\u001b[39m\n",
      "\u001b[31mThe file MCMC_samples_polygenic_effects_variance.txt already exists!!! It is overwritten by the new output.\u001b[39m\n",
      "\u001b[31mThe file MCMC_samples_marker_effects_y1.txt already exists!!! It is overwritten by the new output.\u001b[39m\n",
      "\u001b[31mThe file MCMC_samples_marker_effects_variances.txt already exists!!! It is overwritten by the new output.\u001b[39m\n",
      "\u001b[31mThe file MCMC_samples_pi.txt already exists!!! It is overwritten by the new output.\u001b[39m\n",
      "\u001b[31mThe file MCMC_samples_y1:J.txt already exists!!! It is overwritten by the new output.\u001b[39m\n",
      "\u001b[31mThe file MCMC_samples_y1:ϵ.txt already exists!!! It is overwritten by the new output.\u001b[39m\n",
      "\u001b[31mThe file MCMC_samples_x2_variances.txt already exists!!! It is overwritten by the new output.\u001b[39m\n",
      "\u001b[31mThe file MCMC_samples_ϵ_variances.txt already exists!!! It is overwritten by the new output.\u001b[39m\n",
      "\u001b[31mThe file MCMC_samples_EBV_y1.txt already exists!!! It is overwritten by the new output.\u001b[39m\n"
     ]
    },
    {
     "name": "stderr",
     "output_type": "stream",
     "text": [
      "\u001b[32mrunning MCMC for RR-BLUP...100%|████████████████████████| Time: 0:00:00\u001b[39m\n"
     ]
    },
    {
     "name": "stdout",
     "output_type": "stream",
     "text": [
      "\n",
      "\n",
      "\u001b[0m\u001b[1mThe version of Julia and Platform in use:\u001b[22m\n",
      "\n",
      "Julia Version 1.2.0\n",
      "Commit c6da87ff4b (2019-08-20 00:03 UTC)\n",
      "Platform Info:\n",
      "  OS: macOS (x86_64-apple-darwin18.6.0)\n",
      "  CPU: Intel(R) Core(TM) i7-8559U CPU @ 2.70GHz\n",
      "  WORD_SIZE: 64\n",
      "  LIBM: libopenlibm\n",
      "  LLVM: libLLVM-6.0.1 (ORCJIT, skylake)\n",
      "\n",
      "\n",
      "\u001b[0m\u001b[1mThe analysis has finished. Results are saved in the returned \u001b[22m\u001b[0m\u001b[1mvariable and text files. MCMC samples are saved in text files.\u001b[22m\n",
      "\n",
      "\n"
     ]
    }
   ],
   "source": [
    "outputEBV(model1,[\"a1\",\"a2\",\"a3\"]);# without this line, EBV for all genotyped individuals are returned by default\n",
    "out1=runMCMC(model1,phenotypes,methods=\"RR-BLUP\",single_step_analysis=true,\n",
    "    pedigree=pedigree,chain_length=5000,output_samples_frequency=100);"
   ]
  },
  {
   "cell_type": "markdown",
   "metadata": {},
   "source": [
    "<button type=\"button\" class=\"btn btn-lg btn-primary\">Check Results</button> "
   ]
  },
  {
   "cell_type": "code",
   "execution_count": 60,
   "metadata": {},
   "outputs": [
    {
     "data": {
      "text/plain": [
       "Base.KeySet for a Dict{Any,Any} with 6 entries. Keys:\n",
       "  \"marker effects\"\n",
       "  \"EBV_y1\"\n",
       "  \"location parameters\"\n",
       "  \"residual variance\"\n",
       "  \"polygenic effects covariance matrix\"\n",
       "  \"marker effects variance\""
      ]
     },
     "execution_count": 60,
     "metadata": {},
     "output_type": "execute_result"
    }
   ],
   "source": [
    "keys(out1)"
   ]
  },
  {
   "cell_type": "code",
   "execution_count": 61,
   "metadata": {},
   "outputs": [
    {
     "data": {
      "text/html": [
       "<table class=\"data-frame\"><thead><tr><th></th><th>ID</th><th>EBV</th><th>PEV</th></tr><tr><th></th><th>Any</th><th>Any</th><th>Any</th></tr></thead><tbody><p>3 rows × 3 columns</p><tr><th>1</th><td>a1</td><td>2.24064</td><td>189.065</td></tr><tr><th>2</th><td>a2</td><td>1.51196</td><td>60.7762</td></tr><tr><th>3</th><td>a3</td><td>-2.2499</td><td>61.7912</td></tr></tbody></table>"
      ],
      "text/latex": [
       "\\begin{tabular}{r|ccc}\n",
       "\t& ID & EBV & PEV\\\\\n",
       "\t\\hline\n",
       "\t& Any & Any & Any\\\\\n",
       "\t\\hline\n",
       "\t1 & a1 & 2.24064 & 189.065 \\\\\n",
       "\t2 & a2 & 1.51196 & 60.7762 \\\\\n",
       "\t3 & a3 & -2.2499 & 61.7912 \\\\\n",
       "\\end{tabular}\n"
      ],
      "text/plain": [
       "3×3 DataFrame\n",
       "│ Row │ ID  │ EBV     │ PEV     │\n",
       "│     │ \u001b[90mAny\u001b[39m │ \u001b[90mAny\u001b[39m     │ \u001b[90mAny\u001b[39m     │\n",
       "├─────┼─────┼─────────┼─────────┤\n",
       "│ 1   │ a1  │ 2.24064 │ 189.065 │\n",
       "│ 2   │ a2  │ 1.51196 │ 60.7762 │\n",
       "│ 3   │ a3  │ -2.2499 │ 61.7912 │"
      ]
     },
     "execution_count": 61,
     "metadata": {},
     "output_type": "execute_result"
    }
   ],
   "source": [
    "out1[\"EBV_y1\"]"
   ]
  },
  {
   "cell_type": "code",
   "execution_count": 62,
   "metadata": {},
   "outputs": [
    {
     "data": {
      "text/html": [
       "<table class=\"data-frame\"><thead><tr><th></th><th>Trait</th><th>Marker_ID</th><th>Estimate</th><th>Std_Error</th><th>Model_Frequency</th></tr><tr><th></th><th>Any</th><th>Any</th><th>Any</th><th>Any</th><th>Any</th></tr></thead><tbody><p>5 rows × 5 columns</p><tr><th>1</th><td>y1</td><td>m1</td><td>-0.054418</td><td>0.765134</td><td>1.0</td></tr><tr><th>2</th><td>y1</td><td>m2</td><td>-0.142892</td><td>0.681995</td><td>1.0</td></tr><tr><th>3</th><td>y1</td><td>m3</td><td>0.260093</td><td>0.656865</td><td>1.0</td></tr><tr><th>4</th><td>y1</td><td>m4</td><td>-0.10688</td><td>0.553649</td><td>1.0</td></tr><tr><th>5</th><td>y1</td><td>m5</td><td>0.0157241</td><td>0.563027</td><td>1.0</td></tr></tbody></table>"
      ],
      "text/latex": [
       "\\begin{tabular}{r|ccccc}\n",
       "\t& Trait & Marker\\_ID & Estimate & Std\\_Error & Model\\_Frequency\\\\\n",
       "\t\\hline\n",
       "\t& Any & Any & Any & Any & Any\\\\\n",
       "\t\\hline\n",
       "\t1 & y1 & m1 & -0.054418 & 0.765134 & 1.0 \\\\\n",
       "\t2 & y1 & m2 & -0.142892 & 0.681995 & 1.0 \\\\\n",
       "\t3 & y1 & m3 & 0.260093 & 0.656865 & 1.0 \\\\\n",
       "\t4 & y1 & m4 & -0.10688 & 0.553649 & 1.0 \\\\\n",
       "\t5 & y1 & m5 & 0.0157241 & 0.563027 & 1.0 \\\\\n",
       "\\end{tabular}\n"
      ],
      "text/plain": [
       "5×5 DataFrame\n",
       "│ Row │ Trait │ Marker_ID │ Estimate  │ Std_Error │ Model_Frequency │\n",
       "│     │ \u001b[90mAny\u001b[39m   │ \u001b[90mAny\u001b[39m       │ \u001b[90mAny\u001b[39m       │ \u001b[90mAny\u001b[39m       │ \u001b[90mAny\u001b[39m             │\n",
       "├─────┼───────┼───────────┼───────────┼───────────┼─────────────────┤\n",
       "│ 1   │ y1    │ m1        │ -0.054418 │ 0.765134  │ 1.0             │\n",
       "│ 2   │ y1    │ m2        │ -0.142892 │ 0.681995  │ 1.0             │\n",
       "│ 3   │ y1    │ m3        │ 0.260093  │ 0.656865  │ 1.0             │\n",
       "│ 4   │ y1    │ m4        │ -0.10688  │ 0.553649  │ 1.0             │\n",
       "│ 5   │ y1    │ m5        │ 0.0157241 │ 0.563027  │ 1.0             │"
      ]
     },
     "execution_count": 62,
     "metadata": {},
     "output_type": "execute_result"
    }
   ],
   "source": [
    "out1[\"marker effects\"]"
   ]
  },
  {
   "cell_type": "markdown",
   "metadata": {},
   "source": [
    "<div class=\"span5 alert alert-success\">\n",
    " <font size=\"5\" face=\"Georgia\">Multi-trait Single-step Bayesian Regression (Incomplete Genomic Data)</font> \n",
    "</div>"
   ]
  },
  {
   "cell_type": "markdown",
   "metadata": {},
   "source": [
    "<button type=\"button\" class=\"btn btn-lg btn-primary\">Step 3: Build Model Equations</button> "
   ]
  },
  {
   "cell_type": "code",
   "execution_count": 63,
   "metadata": {},
   "outputs": [],
   "source": [
    "model_equation2 =\"y1 = intercept + x1 + x3 + ID + dam\n",
    "                  y2 = intercept + x1 + x2 + x3 + ID\n",
    "                  y3 = intercept + x1 + x1*x3 + x2 + ID\";"
   ]
  },
  {
   "cell_type": "code",
   "execution_count": 64,
   "metadata": {},
   "outputs": [],
   "source": [
    "R      = [1.0 0.5 0.5\n",
    "          0.5 1.0 0.5\n",
    "          0.5 0.5 1.0]\n",
    "model2 = build_model(model_equation2,R);"
   ]
  },
  {
   "cell_type": "markdown",
   "metadata": {},
   "source": [
    "<button type=\"button\" class=\"btn btn-lg btn-primary\">Step 4: Set Factors or Covariates</button> "
   ]
  },
  {
   "cell_type": "code",
   "execution_count": 65,
   "metadata": {},
   "outputs": [],
   "source": [
    "set_covariate(model2,\"x1\");"
   ]
  },
  {
   "cell_type": "markdown",
   "metadata": {},
   "source": [
    "<button type=\"button\" class=\"btn btn-lg btn-primary\">Step 5: Set Random or Fixed Effects</button> "
   ]
  },
  {
   "cell_type": "code",
   "execution_count": 66,
   "metadata": {},
   "outputs": [
    {
     "name": "stdout",
     "output_type": "stream",
     "text": [
      "\u001b[32mx2 is not found in model equation 1.\u001b[39m\n",
      "\u001b[32mdam is not found in model equation 2.\u001b[39m\n",
      "\u001b[32mdam is not found in model equation 3.\u001b[39m\n"
     ]
    }
   ],
   "source": [
    "G1 = [1.0 0.5\n",
    "      0.5 1.0]\n",
    "G2 = [1.0 0.5 0.5 0.5\n",
    "      0.5 1.0 0.5 0.5\n",
    "      0.5 0.5 1.0 0.5\n",
    "      0.5 0.5 0.5 1.0]\n",
    "set_random(model2,\"x2\",G1);\n",
    "set_random(model2,\"ID dam\",pedigree,G2);"
   ]
  },
  {
   "cell_type": "markdown",
   "metadata": {},
   "source": [
    "<button type=\"button\" class=\"btn btn-lg btn-primary\">Step 6: Use Genomic Information</button> "
   ]
  },
  {
   "cell_type": "code",
   "execution_count": 67,
   "metadata": {},
   "outputs": [
    {
     "name": "stdout",
     "output_type": "stream",
     "text": [
      "\u001b[32mThe delimiter in genotypes.txt is ','.\u001b[39m\n",
      "\u001b[32mThe header (marker IDs) is provided in genotypes.txt.\u001b[39m\n",
      "5 markers on 7 individuals were added.\n"
     ]
    }
   ],
   "source": [
    "G3 = [1.0 0.5 0.5\n",
    "      0.5 1.0 0.5\n",
    "      0.5 0.5 1.0]\n",
    "add_genotypes(model2,genofile,G3,separator=',');"
   ]
  },
  {
   "cell_type": "markdown",
   "metadata": {},
   "source": [
    "<button type=\"button\" class=\"btn btn-lg btn-primary\">Step 7: Run Analysis</button> "
   ]
  },
  {
   "cell_type": "code",
   "execution_count": 68,
   "metadata": {},
   "outputs": [
    {
     "name": "stdout",
     "output_type": "stream",
     "text": [
      "\u001b[32mChecking phenotypes...\u001b[39m\n",
      "\u001b[32mIndividual IDs (strings) are provided in the first column of the phenotypic data.\u001b[39m\n",
      "calculating A inverse\n",
      "  0.000048 seconds (203 allocations: 16.063 KiB)\n",
      "imputing missing genotypes\n",
      "  0.152350 seconds (68 allocations: 7.586 KiB, 99.93% gc time)\n",
      "completed imputing genotypes\n",
      "\n",
      "\u001b[0mPi (Π) is not provided.\n",
      "\u001b[0mPi (Π) is generated assuming all markers have effects on all traits.\n",
      "\n",
      "The prior for marker effects covariance matrix is calculated from genetic covariance matrix and Π.\n",
      "The mean of the prior for the marker effects covariance matrix is:\n",
      " 0.492462  0.246231  0.246231\n",
      " 0.246231  0.492462  0.246231\n",
      " 0.246231  0.246231  0.492462\n",
      "\n",
      "\n",
      "\n",
      "\u001b[0m\u001b[1mA Linear Mixed Model was build using model equations:\u001b[22m\n",
      "\n",
      "y1 = intercept + x1 + x3 + ID + dam\n",
      "y2 = intercept + x1 + x2 + x3 + ID\n",
      "y3 = intercept + x1 + x1*x3 + x2 + ID\n",
      "\n",
      "\u001b[0m\u001b[1mModel Information:\u001b[22m\n",
      "\n",
      "Term            C/F          F/R            nLevels\n",
      "intercept       factor       fixed                1\n",
      "x1              covariate    fixed                1\n",
      "x3              factor       fixed                2\n",
      "ID              factor       random              12\n",
      "dam             factor       random              12\n",
      "x2              factor       random               2\n",
      "x1*x3           interaction  fixed                2\n",
      "ϵ               factor       random               5\n",
      "J               covariate    fixed                1\n",
      "\n",
      "\u001b[0m\u001b[1mMCMC Information:\u001b[22m\n",
      "\n",
      "methods                                      BayesC\n",
      "                            incomplete genomic data\n",
      "                       (i.e., single-step analysis)\n",
      "chain_length                                   5000\n",
      "burnin                                            0\n",
      "estimatePi                                     true\n",
      "estimateScale                                 false\n",
      "starting_value                                false\n",
      "printout_frequency                             5001\n",
      "output_samples_frequency                        100\n",
      "constraint                                    false\n",
      "missing_phenotypes                             true\n",
      "update_priors_frequency                           0\n",
      "seed                                          false\n",
      "\n",
      "\u001b[0m\u001b[1mHyper-parameters Information:\u001b[22m\n",
      "\n",
      "random effect variances (x2): \n",
      " 1.0  0.5\n",
      " 0.5  1.0\n",
      "random effect variances (ϵ):  \n",
      " 1.0  0.5  0.5\n",
      " 0.5  1.0  0.5\n",
      " 0.5  0.5  1.0\n",
      "residual variances:           \n",
      " 1.0  0.5  0.5\n",
      " 0.5  1.0  0.5\n",
      " 0.5  0.5  1.0\n",
      "genetic variances (polygenic):\n",
      " 1.0  0.5  0.5  0.5\n",
      " 0.5  1.0  0.5  0.5\n",
      " 0.5  0.5  1.0  0.5\n",
      " 0.5  0.5  0.5  1.0\n",
      "genetic variances (genomic):  \n",
      " 1.0  0.5  0.5\n",
      " 0.5  1.0  0.5\n",
      " 0.5  0.5  1.0\n",
      "marker effect variances:      \n",
      " 0.492  0.246  0.246\n",
      " 0.246  0.492  0.246\n",
      " 0.246  0.246  0.492\n",
      "\n",
      "Π: (Y(yes):included; N(no):excluded)\n",
      "\n",
      "[\"y1\", \"y2\", \"y3\"]         probability\n",
      "[\"Y\", \"Y\", \"N\"]                 0.0\n",
      "[\"N\", \"N\", \"N\"]                 0.0\n",
      "[\"Y\", \"N\", \"N\"]                 0.0\n",
      "[\"N\", \"Y\", \"Y\"]                 0.0\n",
      "[\"Y\", \"N\", \"Y\"]                 0.0\n",
      "[\"N\", \"N\", \"Y\"]                 0.0\n",
      "[\"Y\", \"Y\", \"Y\"]                 1.0\n",
      "[\"N\", \"Y\", \"N\"]                 0.0\n",
      "\n",
      "\u001b[0m\u001b[1mDegree of freedom for hyper-parameters:\u001b[22m\n",
      "\n",
      "residual variances:                           4.000\n",
      "iid random effect variances:                  4.000\n",
      "polygenic effect variances:                   4.000\n",
      "marker effect variances:                      4.000\n",
      "\n",
      "\n",
      "\n",
      "\u001b[31mThe file MCMC_samples_residual_variance.txt already exists!!! It is overwritten by the new output.\u001b[39m\n",
      "\u001b[31mThe file MCMC_samples_polygenic_effects_variance.txt already exists!!! It is overwritten by the new output.\u001b[39m\n",
      "\u001b[31mThe file MCMC_samples_marker_effects_y1.txt already exists!!! It is overwritten by the new output.\u001b[39m\n",
      "\u001b[31mThe file MCMC_samples_marker_effects_y2.txt already exists!!! It is overwritten by the new output.\u001b[39m\n",
      "\u001b[31mThe file MCMC_samples_marker_effects_y3.txt already exists!!! It is overwritten by the new output.\u001b[39m\n",
      "\u001b[31mThe file MCMC_samples_marker_effects_variances.txt already exists!!! It is overwritten by the new output.\u001b[39m\n",
      "\u001b[31mThe file MCMC_samples_pi.txt already exists!!! It is overwritten by the new output.\u001b[39m\n",
      "\u001b[31mThe file MCMC_samples_y1:J.txt already exists!!! It is overwritten by the new output.\u001b[39m\n",
      "\u001b[31mThe file MCMC_samples_y2:J.txt already exists!!! It is overwritten by the new output.\u001b[39m\n",
      "\u001b[31mThe file MCMC_samples_y3:J.txt already exists!!! It is overwritten by the new output.\u001b[39m\n",
      "\u001b[31mThe file MCMC_samples_y1:ϵ.txt already exists!!! It is overwritten by the new output.\u001b[39m\n",
      "\u001b[31mThe file MCMC_samples_y2:ϵ.txt already exists!!! It is overwritten by the new output.\u001b[39m\n",
      "\u001b[31mThe file MCMC_samples_y3:ϵ.txt already exists!!! It is overwritten by the new output.\u001b[39m\n",
      "\u001b[31mThe file MCMC_samples_x2_variances.txt already exists!!! It is overwritten by the new output.\u001b[39m\n",
      "\u001b[31mThe file MCMC_samples_ϵ_variances.txt already exists!!! It is overwritten by the new output.\u001b[39m\n",
      "\u001b[31mThe file MCMC_samples_EBV_y1.txt already exists!!! It is overwritten by the new output.\u001b[39m\n",
      "\u001b[31mThe file MCMC_samples_EBV_y2.txt already exists!!! It is overwritten by the new output.\u001b[39m\n",
      "\u001b[31mThe file MCMC_samples_EBV_y3.txt already exists!!! It is overwritten by the new output.\u001b[39m\n"
     ]
    },
    {
     "name": "stderr",
     "output_type": "stream",
     "text": [
      "\u001b[32mrunning MCMC for BayesC...100%|█████████████████████████| Time: 0:00:03\u001b[39m\n"
     ]
    },
    {
     "name": "stdout",
     "output_type": "stream",
     "text": [
      "\n",
      "\n",
      "\u001b[0m\u001b[1mThe version of Julia and Platform in use:\u001b[22m\n",
      "\n",
      "Julia Version 1.2.0\n",
      "Commit c6da87ff4b (2019-08-20 00:03 UTC)\n",
      "Platform Info:\n",
      "  OS: macOS (x86_64-apple-darwin18.6.0)\n",
      "  CPU: Intel(R) Core(TM) i7-8559U CPU @ 2.70GHz\n",
      "  WORD_SIZE: 64\n",
      "  LIBM: libopenlibm\n",
      "  LLVM: libLLVM-6.0.1 (ORCJIT, skylake)\n",
      "\n",
      "\n",
      "\u001b[0m\u001b[1mThe analysis has finished. Results are saved in the returned \u001b[22m\u001b[0m\u001b[1mvariable and text files. MCMC samples are saved in text files.\u001b[22m\n",
      "\n",
      "\n"
     ]
    }
   ],
   "source": [
    "outputEBV(model1,[\"a1\",\"a2\",\"a3\"]);# without this line, EBV for all genotyped individuals are returned by default\n",
    "out2=runMCMC(model2,phenotypes,methods=\"BayesC\",estimatePi=true,single_step_analysis=true,pedigree=pedigree,chain_length=5000,output_samples_frequency=100);"
   ]
  },
  {
   "cell_type": "markdown",
   "metadata": {},
   "source": [
    "<button type=\"button\" class=\"btn btn-lg btn-primary\">Check Results</button> "
   ]
  },
  {
   "cell_type": "code",
   "execution_count": 69,
   "metadata": {},
   "outputs": [
    {
     "data": {
      "text/plain": [
       "Base.KeySet for a Dict{Any,Any} with 9 entries. Keys:\n",
       "  \"marker effects\"\n",
       "  \"EBV_y2\"\n",
       "  \"EBV_y1\"\n",
       "  \"Pi\"\n",
       "  \"location parameters\"\n",
       "  \"residual variance\"\n",
       "  \"polygenic effects covariance matrix\"\n",
       "  \"EBV_y3\"\n",
       "  \"marker effects variance\""
      ]
     },
     "execution_count": 69,
     "metadata": {},
     "output_type": "execute_result"
    }
   ],
   "source": [
    "keys(out2)"
   ]
  },
  {
   "cell_type": "code",
   "execution_count": 70,
   "metadata": {},
   "outputs": [
    {
     "data": {
      "text/html": [
       "<table class=\"data-frame\"><thead><tr><th></th><th>Trait</th><th>Effect</th><th>Level</th><th>Estimate</th><th>Std_Error</th></tr><tr><th></th><th>Any</th><th>Any</th><th>Any</th><th>Any</th><th>Any</th></tr></thead><tbody><p>37 rows × 5 columns</p><tr><th>1</th><td>y1</td><td>intercept</td><td>intercept</td><td>-7.72138</td><td>13.4495</td></tr><tr><th>2</th><td>y1</td><td>x1*x3</td><td>x1 * m</td><td>0.395969</td><td>8.11195</td></tr><tr><th>3</th><td>y1</td><td>x1*x3</td><td>x1 * f</td><td>0.509506</td><td>0.922909</td></tr><tr><th>4</th><td>y1</td><td>x2</td><td>2</td><td>0.039693</td><td>1.15179</td></tr><tr><th>5</th><td>y1</td><td>x2</td><td>1</td><td>-0.0514321</td><td>0.905896</td></tr><tr><th>6</th><td>y1</td><td>x3</td><td>m</td><td>5.55972</td><td>15.6429</td></tr><tr><th>7</th><td>y1</td><td>x3</td><td>f</td><td>6.72726</td><td>11.5743</td></tr><tr><th>8</th><td>y1</td><td>ID</td><td>a2</td><td>0.954273</td><td>2.28606</td></tr><tr><th>9</th><td>y1</td><td>ID</td><td>a12</td><td>2.32418</td><td>3.58933</td></tr><tr><th>10</th><td>y1</td><td>ID</td><td>a10</td><td>1.76746</td><td>3.90921</td></tr><tr><th>11</th><td>y1</td><td>ID</td><td>a11</td><td>1.40365</td><td>3.91484</td></tr><tr><th>12</th><td>y1</td><td>ID</td><td>a9</td><td>1.74504</td><td>3.71088</td></tr><tr><th>13</th><td>y1</td><td>ID</td><td>a6</td><td>1.02192</td><td>2.46302</td></tr><tr><th>14</th><td>y1</td><td>ID</td><td>a7</td><td>0.284375</td><td>1.5749</td></tr><tr><th>15</th><td>y1</td><td>ID</td><td>a3</td><td>-0.43569</td><td>1.56229</td></tr><tr><th>16</th><td>y1</td><td>ID</td><td>a8</td><td>0.947317</td><td>3.30008</td></tr><tr><th>17</th><td>y1</td><td>ID</td><td>a1</td><td>1.91493</td><td>3.50782</td></tr><tr><th>18</th><td>y1</td><td>ID</td><td>a5</td><td>2.67281</td><td>4.31953</td></tr><tr><th>19</th><td>y1</td><td>ID</td><td>a4</td><td>0.772363</td><td>2.72092</td></tr><tr><th>20</th><td>y1</td><td>dam</td><td>a2</td><td>0.980233</td><td>2.39992</td></tr><tr><th>21</th><td>y1</td><td>dam</td><td>a12</td><td>1.92656</td><td>3.75956</td></tr><tr><th>22</th><td>y1</td><td>dam</td><td>a10</td><td>1.89439</td><td>4.42481</td></tr><tr><th>23</th><td>y1</td><td>dam</td><td>a11</td><td>1.43244</td><td>4.07905</td></tr><tr><th>24</th><td>y1</td><td>dam</td><td>a9</td><td>1.51883</td><td>3.54476</td></tr><tr><th>25</th><td>y1</td><td>dam</td><td>a6</td><td>0.663305</td><td>2.52534</td></tr><tr><th>26</th><td>y1</td><td>dam</td><td>a7</td><td>0.0248908</td><td>1.7402</td></tr><tr><th>27</th><td>y1</td><td>dam</td><td>a3</td><td>-0.552437</td><td>1.6336</td></tr><tr><th>28</th><td>y1</td><td>dam</td><td>a8</td><td>0.758903</td><td>3.29256</td></tr><tr><th>29</th><td>y1</td><td>dam</td><td>a1</td><td>1.48601</td><td>4.16145</td></tr><tr><th>30</th><td>y1</td><td>dam</td><td>a5</td><td>2.65095</td><td>5.36685</td></tr><tr><th>&vellip;</th><td>&vellip;</td><td>&vellip;</td><td>&vellip;</td><td>&vellip;</td><td>&vellip;</td></tr></tbody></table>"
      ],
      "text/latex": [
       "\\begin{tabular}{r|ccccc}\n",
       "\t& Trait & Effect & Level & Estimate & Std\\_Error\\\\\n",
       "\t\\hline\n",
       "\t& Any & Any & Any & Any & Any\\\\\n",
       "\t\\hline\n",
       "\t1 & y1 & intercept & intercept & -7.72138 & 13.4495 \\\\\n",
       "\t2 & y1 & x1*x3 & x1 * m & 0.395969 & 8.11195 \\\\\n",
       "\t3 & y1 & x1*x3 & x1 * f & 0.509506 & 0.922909 \\\\\n",
       "\t4 & y1 & x2 & 2 & 0.039693 & 1.15179 \\\\\n",
       "\t5 & y1 & x2 & 1 & -0.0514321 & 0.905896 \\\\\n",
       "\t6 & y1 & x3 & m & 5.55972 & 15.6429 \\\\\n",
       "\t7 & y1 & x3 & f & 6.72726 & 11.5743 \\\\\n",
       "\t8 & y1 & ID & a2 & 0.954273 & 2.28606 \\\\\n",
       "\t9 & y1 & ID & a12 & 2.32418 & 3.58933 \\\\\n",
       "\t10 & y1 & ID & a10 & 1.76746 & 3.90921 \\\\\n",
       "\t11 & y1 & ID & a11 & 1.40365 & 3.91484 \\\\\n",
       "\t12 & y1 & ID & a9 & 1.74504 & 3.71088 \\\\\n",
       "\t13 & y1 & ID & a6 & 1.02192 & 2.46302 \\\\\n",
       "\t14 & y1 & ID & a7 & 0.284375 & 1.5749 \\\\\n",
       "\t15 & y1 & ID & a3 & -0.43569 & 1.56229 \\\\\n",
       "\t16 & y1 & ID & a8 & 0.947317 & 3.30008 \\\\\n",
       "\t17 & y1 & ID & a1 & 1.91493 & 3.50782 \\\\\n",
       "\t18 & y1 & ID & a5 & 2.67281 & 4.31953 \\\\\n",
       "\t19 & y1 & ID & a4 & 0.772363 & 2.72092 \\\\\n",
       "\t20 & y1 & dam & a2 & 0.980233 & 2.39992 \\\\\n",
       "\t21 & y1 & dam & a12 & 1.92656 & 3.75956 \\\\\n",
       "\t22 & y1 & dam & a10 & 1.89439 & 4.42481 \\\\\n",
       "\t23 & y1 & dam & a11 & 1.43244 & 4.07905 \\\\\n",
       "\t24 & y1 & dam & a9 & 1.51883 & 3.54476 \\\\\n",
       "\t25 & y1 & dam & a6 & 0.663305 & 2.52534 \\\\\n",
       "\t26 & y1 & dam & a7 & 0.0248908 & 1.7402 \\\\\n",
       "\t27 & y1 & dam & a3 & -0.552437 & 1.6336 \\\\\n",
       "\t28 & y1 & dam & a8 & 0.758903 & 3.29256 \\\\\n",
       "\t29 & y1 & dam & a1 & 1.48601 & 4.16145 \\\\\n",
       "\t30 & y1 & dam & a5 & 2.65095 & 5.36685 \\\\\n",
       "\t$\\dots$ & $\\dots$ & $\\dots$ & $\\dots$ & $\\dots$ & $\\dots$ \\\\\n",
       "\\end{tabular}\n"
      ],
      "text/plain": [
       "37×5 DataFrame\n",
       "│ Row │ Trait │ Effect    │ Level     │ Estimate   │ Std_Error │\n",
       "│     │ \u001b[90mAny\u001b[39m   │ \u001b[90mAny\u001b[39m       │ \u001b[90mAny\u001b[39m       │ \u001b[90mAny\u001b[39m        │ \u001b[90mAny\u001b[39m       │\n",
       "├─────┼───────┼───────────┼───────────┼────────────┼───────────┤\n",
       "│ 1   │ y1    │ intercept │ intercept │ -7.72138   │ 13.4495   │\n",
       "│ 2   │ y1    │ x1*x3     │ x1 * m    │ 0.395969   │ 8.11195   │\n",
       "│ 3   │ y1    │ x1*x3     │ x1 * f    │ 0.509506   │ 0.922909  │\n",
       "│ 4   │ y1    │ x2        │ 2         │ 0.039693   │ 1.15179   │\n",
       "│ 5   │ y1    │ x2        │ 1         │ -0.0514321 │ 0.905896  │\n",
       "│ 6   │ y1    │ x3        │ m         │ 5.55972    │ 15.6429   │\n",
       "│ 7   │ y1    │ x3        │ f         │ 6.72726    │ 11.5743   │\n",
       "│ 8   │ y1    │ ID        │ a2        │ 0.954273   │ 2.28606   │\n",
       "│ 9   │ y1    │ ID        │ a12       │ 2.32418    │ 3.58933   │\n",
       "│ 10  │ y1    │ ID        │ a10       │ 1.76746    │ 3.90921   │\n",
       "⋮\n",
       "│ 27  │ y1    │ dam       │ a3        │ -0.552437  │ 1.6336    │\n",
       "│ 28  │ y1    │ dam       │ a8        │ 0.758903   │ 3.29256   │\n",
       "│ 29  │ y1    │ dam       │ a1        │ 1.48601    │ 4.16145   │\n",
       "│ 30  │ y1    │ dam       │ a5        │ 2.65095    │ 5.36685   │\n",
       "│ 31  │ y1    │ dam       │ a4        │ 0.819156   │ 2.86978   │\n",
       "│ 32  │ y1    │ ϵ         │ a2        │ 0.105506   │ 1.00438   │\n",
       "│ 33  │ y1    │ ϵ         │ a12       │ 0.238797   │ 1.37566   │\n",
       "│ 34  │ y1    │ ϵ         │ a10       │ -0.563301  │ 1.09891   │\n",
       "│ 35  │ y1    │ ϵ         │ a11       │ -0.473631  │ 1.54522   │\n",
       "│ 36  │ y1    │ ϵ         │ a9        │ 0.153341   │ 1.18198   │\n",
       "│ 37  │ y1    │ J         │ J         │ 1.20406    │ 8.53087   │"
      ]
     },
     "execution_count": 70,
     "metadata": {},
     "output_type": "execute_result"
    }
   ],
   "source": [
    "out1[\"location parameters\"]"
   ]
  }
 ],
 "metadata": {
  "anaconda-cloud": {},
  "kernelspec": {
   "display_name": "Julia 1.2.0",
   "language": "julia",
   "name": "julia-1.2"
  },
  "language_info": {
   "file_extension": ".jl",
   "mimetype": "application/julia",
   "name": "julia",
   "version": "1.2.0"
  }
 },
 "nbformat": 4,
 "nbformat_minor": 2
}
