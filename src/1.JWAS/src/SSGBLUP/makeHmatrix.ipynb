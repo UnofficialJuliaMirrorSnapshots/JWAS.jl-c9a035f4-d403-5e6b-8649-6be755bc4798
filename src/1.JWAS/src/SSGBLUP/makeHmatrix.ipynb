{
 "cells": [
  {
   "cell_type": "markdown",
   "metadata": {},
   "source": [
    "### construct H matrix, relationship matrix for both genotyped and non-genotyped individuals"
   ]
  },
  {
   "cell_type": "markdown",
   "metadata": {},
   "source": [
    "* Input:\n",
    " * genotype file (missing value denoted as NA) without centering \n",
    " * pedigree file (all animals in genotype files are in pedigree file)\n",
    "\n",
    "* output\n",
    " * relationship matrix for both genotyped and non-genotyped individuals"
   ]
  },
  {
   "cell_type": "code",
   "execution_count": null,
   "metadata": {},
   "outputs": [],
   "source": [
    "##Data in Box/Data"
   ]
  },
  {
   "cell_type": "code",
   "execution_count": 1,
   "metadata": {},
   "outputs": [],
   "source": [
    "using JWAS:SSBR,misc,PedModule\n",
    "using DataFrames,CSV"
   ]
  },
  {
   "cell_type": "code",
   "execution_count": 2,
   "metadata": {},
   "outputs": [],
   "source": [
    "PATH=\"./\";"
   ]
  },
  {
   "cell_type": "markdown",
   "metadata": {},
   "source": [
    "#### 1. get genotype file and pedigree file ready "
   ]
  },
  {
   "cell_type": "markdown",
   "metadata": {},
   "source": [
    "* remove header in pedigree file and change seperator to ' '"
   ]
  },
  {
   "cell_type": "code",
   "execution_count": 8,
   "metadata": {},
   "outputs": [],
   "source": [
    "pedfile=PATH*\"Trial16and20_Pedigree.csv\"\n",
    "temp=CSV.read(pedfile);\n",
    "CSV.write(PATH*\"pedfile.txt\",temp,header=false,delim=' ');"
   ]
  },
  {
   "cell_type": "markdown",
   "metadata": {},
   "source": [
    "* genotype,remove header, repalce missing value with column means"
   ]
  },
  {
   "cell_type": "code",
   "execution_count": 9,
   "metadata": {},
   "outputs": [],
   "source": [
    "genofile=PATH*\"AllPigs_not_centered_SingleStep.txt\";"
   ]
  },
  {
   "cell_type": "code",
   "execution_count": null,
   "metadata": {},
   "outputs": [],
   "source": [
    "temp=readtable(genofile,header=true,separator=' ');\n",
    "#temp=CSV.read(genofile,header=true,delim=' ',null=\"NA\");"
   ]
  },
  {
   "cell_type": "code",
   "execution_count": null,
   "metadata": {},
   "outputs": [],
   "source": [
    "writetable(PATH*\"genofile.txt\",temp,header=false);"
   ]
  },
  {
   "cell_type": "code",
   "execution_count": null,
   "metadata": {},
   "outputs": [],
   "source": [
    "ncol= size(temp,2)\n",
    "etv = Array(DataType,ncol)\n",
    "fill!(etv,Float64)\n",
    "etv[1]=String;"
   ]
  },
  {
   "cell_type": "code",
   "execution_count": null,
   "metadata": {},
   "outputs": [],
   "source": [
    "temp=readtable(PATH*\"genofile.txt\",header=false,separator=',',eltypes=etv);"
   ]
  },
  {
   "cell_type": "markdown",
   "metadata": {},
   "source": [
    "> functions to repalce missing values with column mean "
   ]
  },
  {
   "cell_type": "code",
   "execution_count": null,
   "metadata": {},
   "outputs": [],
   "source": [
    "function missing2mean!(X::DataFrames.DataFrame;id4row=true)\n",
    "    nrow,ncol = size(X)\n",
    "    start = 1\n",
    "    if id4row==true\n",
    "      start+=1\n",
    "    end\n",
    "    for i=start:ncol\n",
    "        index=find(x->typeof(x)==Missings.Missing,X[:,i])\n",
    "        cols = collect(1:nrow)\n",
    "        deleteat!(cols,index)\n",
    "        #X[index,i]=round(Int,mean(X[cols,i]))\n",
    "        X[index,i]=mean(X[cols,i])\n",
    "    end\n",
    "end"
   ]
  },
  {
   "cell_type": "code",
   "execution_count": null,
   "metadata": {},
   "outputs": [],
   "source": [
    "typeof(temp[1,2])==Missings.Missing"
   ]
  },
  {
   "cell_type": "code",
   "execution_count": null,
   "metadata": {},
   "outputs": [],
   "source": [
    "missing2mean!(temp);"
   ]
  },
  {
   "cell_type": "code",
   "execution_count": null,
   "metadata": {},
   "outputs": [],
   "source": [
    "writetable(PATH*\"genofile.txt\",temp,header=false,separator=' ');"
   ]
  },
  {
   "cell_type": "markdown",
   "metadata": {},
   "source": [
    "#### 2. construct H matrix"
   ]
  },
  {
   "cell_type": "code",
   "execution_count": null,
   "metadata": {},
   "outputs": [],
   "source": [
    "num  =SSBR.Numbers(0,0,0,0,0,0,0);"
   ]
  },
  {
   "cell_type": "code",
   "execution_count": null,
   "metadata": {},
   "outputs": [],
   "source": [
    "genofile=PATH*\"genofile.txt\"\n",
    "geno = misc.make_genotypes(genofile,header=false,center=true);"
   ]
  },
  {
   "cell_type": "code",
   "execution_count": null,
   "metadata": {},
   "outputs": [],
   "source": [
    "fieldnames(geno)"
   ]
  },
  {
   "cell_type": "code",
   "execution_count": null,
   "metadata": {},
   "outputs": [],
   "source": [
    "ped,amats =SSBR.calc_Ai(PATH*\"pedfile.txt\",geno,num);"
   ]
  },
  {
   "cell_type": "code",
   "execution_count": null,
   "metadata": {},
   "outputs": [],
   "source": [
    "mmats = SSBR.make_MMats(geno,num,amats,ped);"
   ]
  },
  {
   "cell_type": "code",
   "execution_count": null,
   "metadata": {},
   "outputs": [],
   "source": [
    "M = mmats.full\n",
    "H = M*M'/geno.sum2pq;"
   ]
  },
  {
   "cell_type": "code",
   "execution_count": null,
   "metadata": {},
   "outputs": [],
   "source": [
    "res=inv(full(amats.nn));"
   ]
  },
  {
   "cell_type": "code",
   "execution_count": null,
   "metadata": {},
   "outputs": [],
   "source": [
    "H[1:num.pedn,1:num.pedn]=H[1:num.pedn,1:num.pedn]+res;"
   ]
  },
  {
   "cell_type": "code",
   "execution_count": null,
   "metadata": {},
   "outputs": [],
   "source": [
    "writedlm(\"Hmatrix.txt\",H)"
   ]
  },
  {
   "cell_type": "code",
   "execution_count": null,
   "metadata": {},
   "outputs": [],
   "source": [
    "mean(diag(H))"
   ]
  },
  {
   "cell_type": "code",
   "execution_count": null,
   "metadata": {},
   "outputs": [],
   "source": [
    "size(H,1)"
   ]
  },
  {
   "cell_type": "code",
   "execution_count": null,
   "metadata": {},
   "outputs": [],
   "source": [
    "IDs=PedModule.getIDs(ped);"
   ]
  },
  {
   "cell_type": "code",
   "execution_count": null,
   "metadata": {},
   "outputs": [],
   "source": [
    "sum(IDs.== IDs)"
   ]
  },
  {
   "cell_type": "code",
   "execution_count": null,
   "metadata": {},
   "outputs": [],
   "source": [
    "out=convert(DataFrame, H);"
   ]
  },
  {
   "cell_type": "code",
   "execution_count": null,
   "metadata": {},
   "outputs": [],
   "source": [
    "H"
   ]
  },
  {
   "cell_type": "code",
   "execution_count": null,
   "metadata": {},
   "outputs": [],
   "source": [
    "temp=hcat(IDs,H)\n",
    "header=[\"H_matrix\"; IDs]\n",
    "out=vcat(reshape(header,1,length(header)),temp);"
   ]
  },
  {
   "cell_type": "code",
   "execution_count": null,
   "metadata": {},
   "outputs": [],
   "source": [
    "writedlm(\"Hmatrix.txt\",out)"
   ]
  },
  {
   "cell_type": "code",
   "execution_count": null,
   "metadata": {},
   "outputs": [],
   "source": [
    "# find missing ID\n",
    "a=Set(pedid)\n",
    "b=Set(genoid)\n",
    "c=intersect(a, b)\n",
    "setdiff(b,c)"
   ]
  }
 ],
 "metadata": {
  "kernelspec": {
   "display_name": "Julia 0.6.2",
   "language": "julia",
   "name": "julia-0.6"
  },
  "language_info": {
   "file_extension": ".jl",
   "mimetype": "application/julia",
   "name": "julia",
   "version": "0.6.2"
  }
 },
 "nbformat": 4,
 "nbformat_minor": 1
}
